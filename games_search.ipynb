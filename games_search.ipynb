{
  "cells": [
    {
      "cell_type": "markdown",
      "metadata": {
        "id": "QLrJtjtX8Emb"
      },
      "source": [
        "# Исследование продаж компьютерных игр\n",
        "\n",
        "Интернет-магазин \"Стримчик\" планирует рекламные компании на 2017 год. Для того, чтобы сфокусироваться на наиболее перспективных и потенциально популярных продуктах, необходимо выявить факторы, влияющие на это.\n",
        "\n",
        "*Описание данных:*\n",
        "\n",
        "* Name — название игры\n",
        "* Platform — платформа\n",
        "* Year_of_Release — год выпуска\n",
        "* Genre — жанр игры\n",
        "* NA_sales — продажи в Северной Америке (миллионы проданных копий)\n",
        "* EU_sales — продажи в Европе (миллионы проданных копий)\n",
        "* JP_sales — продажи в Японии (миллионы проданных копий)\n",
        "* Other_sales — продажи в других странах (миллионы проданных копий)\n",
        "* Critic_Score — оценка критиков (максимум 100)\n",
        "* User_Score — оценка пользователей (максимум 10)\n",
        "* Rating — рейтинг от организации ESRB (англ. Entertainment Software Rating Board). Эта ассоциация определяет рейтинг компьютерных игр и присваивает им подходящую возрастную категорию."
      ]
    },
    {
      "cell_type": "markdown",
      "metadata": {
        "id": "yhGlLT_N8Emc"
      },
      "source": [
        "## Откроем файл и изучим общую информацию"
      ]
    },
    {
      "cell_type": "code",
      "execution_count": null,
      "metadata": {
        "id": "aJX647fS8Emc"
      },
      "outputs": [],
      "source": [
        "import pandas as pd\n",
        "import matplotlib.pyplot as plt\n",
        "import seaborn as sns\n",
        "from scipy import stats as st\n",
        "import numpy as np\n",
        "\n",
        "import warnings\n",
        "\n",
        "warnings.filterwarnings('ignore')"
      ]
    },
    {
      "cell_type": "code",
      "execution_count": null,
      "metadata": {
        "id": "qrK3bIf88Eme"
      },
      "outputs": [],
      "source": [
        "data = pd.read_csv('/datasets/games.csv')"
      ]
    },
    {
      "cell_type": "code",
      "execution_count": null,
      "metadata": {
        "id": "vSgSWDV08Eme",
        "outputId": "9a3d9e1d-fd20-40d5-fcdf-5d77cf26fc17"
      },
      "outputs": [
        {
          "name": "stdout",
          "output_type": "stream",
          "text": [
            "<class 'pandas.core.frame.DataFrame'>\n",
            "RangeIndex: 16715 entries, 0 to 16714\n",
            "Data columns (total 11 columns):\n",
            " #   Column           Non-Null Count  Dtype  \n",
            "---  ------           --------------  -----  \n",
            " 0   Name             16713 non-null  object \n",
            " 1   Platform         16715 non-null  object \n",
            " 2   Year_of_Release  16446 non-null  float64\n",
            " 3   Genre            16713 non-null  object \n",
            " 4   NA_sales         16715 non-null  float64\n",
            " 5   EU_sales         16715 non-null  float64\n",
            " 6   JP_sales         16715 non-null  float64\n",
            " 7   Other_sales      16715 non-null  float64\n",
            " 8   Critic_Score     8137 non-null   float64\n",
            " 9   User_Score       10014 non-null  object \n",
            " 10  Rating           9949 non-null   object \n",
            "dtypes: float64(6), object(5)\n",
            "memory usage: 1.4+ MB\n"
          ]
        }
      ],
      "source": [
        "data.info()"
      ]
    },
    {
      "cell_type": "code",
      "execution_count": null,
      "metadata": {
        "id": "Lx6CGveA8Emf",
        "outputId": "b8238de7-d4f1-4046-ee71-ee0c276025a2"
      },
      "outputs": [
        {
          "data": {
            "text/html": [
              "<div>\n",
              "<style scoped>\n",
              "    .dataframe tbody tr th:only-of-type {\n",
              "        vertical-align: middle;\n",
              "    }\n",
              "\n",
              "    .dataframe tbody tr th {\n",
              "        vertical-align: top;\n",
              "    }\n",
              "\n",
              "    .dataframe thead th {\n",
              "        text-align: right;\n",
              "    }\n",
              "</style>\n",
              "<table border=\"1\" class=\"dataframe\">\n",
              "  <thead>\n",
              "    <tr style=\"text-align: right;\">\n",
              "      <th></th>\n",
              "      <th>Name</th>\n",
              "      <th>Platform</th>\n",
              "      <th>Year_of_Release</th>\n",
              "      <th>Genre</th>\n",
              "      <th>NA_sales</th>\n",
              "      <th>EU_sales</th>\n",
              "      <th>JP_sales</th>\n",
              "      <th>Other_sales</th>\n",
              "      <th>Critic_Score</th>\n",
              "      <th>User_Score</th>\n",
              "      <th>Rating</th>\n",
              "    </tr>\n",
              "  </thead>\n",
              "  <tbody>\n",
              "    <tr>\n",
              "      <th>0</th>\n",
              "      <td>Wii Sports</td>\n",
              "      <td>Wii</td>\n",
              "      <td>2006.0</td>\n",
              "      <td>Sports</td>\n",
              "      <td>41.36</td>\n",
              "      <td>28.96</td>\n",
              "      <td>3.77</td>\n",
              "      <td>8.45</td>\n",
              "      <td>76.0</td>\n",
              "      <td>8</td>\n",
              "      <td>E</td>\n",
              "    </tr>\n",
              "    <tr>\n",
              "      <th>1</th>\n",
              "      <td>Super Mario Bros.</td>\n",
              "      <td>NES</td>\n",
              "      <td>1985.0</td>\n",
              "      <td>Platform</td>\n",
              "      <td>29.08</td>\n",
              "      <td>3.58</td>\n",
              "      <td>6.81</td>\n",
              "      <td>0.77</td>\n",
              "      <td>NaN</td>\n",
              "      <td>NaN</td>\n",
              "      <td>NaN</td>\n",
              "    </tr>\n",
              "    <tr>\n",
              "      <th>2</th>\n",
              "      <td>Mario Kart Wii</td>\n",
              "      <td>Wii</td>\n",
              "      <td>2008.0</td>\n",
              "      <td>Racing</td>\n",
              "      <td>15.68</td>\n",
              "      <td>12.76</td>\n",
              "      <td>3.79</td>\n",
              "      <td>3.29</td>\n",
              "      <td>82.0</td>\n",
              "      <td>8.3</td>\n",
              "      <td>E</td>\n",
              "    </tr>\n",
              "    <tr>\n",
              "      <th>3</th>\n",
              "      <td>Wii Sports Resort</td>\n",
              "      <td>Wii</td>\n",
              "      <td>2009.0</td>\n",
              "      <td>Sports</td>\n",
              "      <td>15.61</td>\n",
              "      <td>10.93</td>\n",
              "      <td>3.28</td>\n",
              "      <td>2.95</td>\n",
              "      <td>80.0</td>\n",
              "      <td>8</td>\n",
              "      <td>E</td>\n",
              "    </tr>\n",
              "    <tr>\n",
              "      <th>4</th>\n",
              "      <td>Pokemon Red/Pokemon Blue</td>\n",
              "      <td>GB</td>\n",
              "      <td>1996.0</td>\n",
              "      <td>Role-Playing</td>\n",
              "      <td>11.27</td>\n",
              "      <td>8.89</td>\n",
              "      <td>10.22</td>\n",
              "      <td>1.00</td>\n",
              "      <td>NaN</td>\n",
              "      <td>NaN</td>\n",
              "      <td>NaN</td>\n",
              "    </tr>\n",
              "  </tbody>\n",
              "</table>\n",
              "</div>"
            ],
            "text/plain": [
              "                       Name Platform  Year_of_Release         Genre  NA_sales  \\\n",
              "0                Wii Sports      Wii           2006.0        Sports     41.36   \n",
              "1         Super Mario Bros.      NES           1985.0      Platform     29.08   \n",
              "2            Mario Kart Wii      Wii           2008.0        Racing     15.68   \n",
              "3         Wii Sports Resort      Wii           2009.0        Sports     15.61   \n",
              "4  Pokemon Red/Pokemon Blue       GB           1996.0  Role-Playing     11.27   \n",
              "\n",
              "   EU_sales  JP_sales  Other_sales  Critic_Score User_Score Rating  \n",
              "0     28.96      3.77         8.45          76.0          8      E  \n",
              "1      3.58      6.81         0.77           NaN        NaN    NaN  \n",
              "2     12.76      3.79         3.29          82.0        8.3      E  \n",
              "3     10.93      3.28         2.95          80.0          8      E  \n",
              "4      8.89     10.22         1.00           NaN        NaN    NaN  "
            ]
          },
          "execution_count": 4,
          "metadata": {},
          "output_type": "execute_result"
        }
      ],
      "source": [
        "data.head()"
      ]
    },
    {
      "cell_type": "code",
      "execution_count": null,
      "metadata": {
        "scrolled": false,
        "id": "5YB6o29-8Emg",
        "outputId": "fab270b8-31b1-40ed-dbd4-3099584142ef"
      },
      "outputs": [
        {
          "data": {
            "text/plain": [
              "''"
            ]
          },
          "execution_count": 5,
          "metadata": {},
          "output_type": "execute_result"
        },
        {
          "data": {
            "image/png": "[encoded data removed]",
            "text/plain": [
              "<Figure size 720x864 with 6 Axes>"
            ]
          },
          "metadata": {
            "needs_background": "light"
          },
          "output_type": "display_data"
        }
      ],
      "source": [
        "data.hist(figsize=(10, 12))\n",
        ";"
      ]
    },
    {
      "cell_type": "markdown",
      "metadata": {
        "id": "25z_4PmA8Emg"
      },
      "source": [
        "Что мы видим:\n",
        "- в столбцах есть пропуски\n",
        "- некоторые столбцы имеют нехарактерный тип данных (год выпуска - дробное число; пользовательские оценки - в текстовом формате)\n",
        "- наименования столбцов можно привести к змеиному регистру для аккуратности кода\n",
        "- столбцы с количеством продаж имеют аномалии (случайные или нет - предстоит выяснить)"
      ]
    },
    {
      "cell_type": "markdown",
      "metadata": {
        "id": "m4nDAwQq8Emh"
      },
      "source": [
        "## Подготовим данные"
      ]
    },
    {
      "cell_type": "code",
      "execution_count": null,
      "metadata": {
        "id": "-bvMIVfe8Emh",
        "outputId": "c5d40123-5cbb-45ac-a1e7-6b298b500a4d"
      },
      "outputs": [
        {
          "data": {
            "text/plain": [
              "Index(['Name', 'Platform', 'Year_of_Release', 'Genre', 'NA_sales', 'EU_sales',\n",
              "       'JP_sales', 'Other_sales', 'Critic_Score', 'User_Score', 'Rating'],\n",
              "      dtype='object')"
            ]
          },
          "execution_count": 6,
          "metadata": {},
          "output_type": "execute_result"
        }
      ],
      "source": [
        "#Выведем названия столбцов, проведем переименование и проверим результат.\n",
        "data.columns"
      ]
    },
    {
      "cell_type": "code",
      "execution_count": null,
      "metadata": {
        "id": "MTcFXSSu8Emh"
      },
      "outputs": [],
      "source": [
        "#Приведем названия столбцов к нижнему регистру\n",
        "data.columns=data.columns.str.lower()"
      ]
    },
    {
      "cell_type": "code",
      "execution_count": null,
      "metadata": {
        "id": "xOKtjhd98Emi",
        "outputId": "03bd82b7-7884-48fb-8f1a-9f8c0cdc8838"
      },
      "outputs": [
        {
          "data": {
            "text/plain": [
              "Index(['name', 'platform', 'year_of_release', 'genre', 'na_sales', 'eu_sales',\n",
              "       'jp_sales', 'other_sales', 'critic_score', 'user_score', 'rating'],\n",
              "      dtype='object')"
            ]
          },
          "execution_count": 8,
          "metadata": {},
          "output_type": "execute_result"
        }
      ],
      "source": [
        "data.columns"
      ]
    },
    {
      "cell_type": "markdown",
      "metadata": {
        "id": "inXfRRtY8Emj"
      },
      "source": [
        "Какие столбцы содержат не совсем типичный тип данных:\n",
        "- год выпуска игры. Сейчас выражен дробным числом, а не целым, по причине пропусков в данных. Примем это допущение и пока не будем заполнять пропуски и менять тип.\n",
        "- пользовательская оценка. Сейчас выражена в виде строкового типа, хотя должна быть чисом с дробной частью. Это связано с наличием в столбце строк со значением \"tbd\", то есть оценка находится в стадии формирования. Чтобы не путать истинные пропуски и данные в стадии подготовки, заменим \"tbd\" на 0, предварительно убедившись, что датафрейм не содержит нулевых оценок пользователей. А также скорректируем тип столбца.\n"
      ]
    },
    {
      "cell_type": "code",
      "execution_count": null,
      "metadata": {
        "id": "iLAZtXJz8Emk"
      },
      "outputs": [],
      "source": [
        "#Заменяем tbd на пропуск для дальнейшей работы со столбцом\n",
        "data.loc[data['user_score'] == \"tbd\", 'user_score'] = 'Nan'\n",
        "data['user_score']=data['user_score'].astype('float')"
      ]
    },
    {
      "cell_type": "code",
      "execution_count": null,
      "metadata": {
        "scrolled": true,
        "id": "5XiyhVBt8Eml",
        "outputId": "3eee0df8-43f0-43c5-cef5-7f05a1b12213"
      },
      "outputs": [
        {
          "data": {
            "text/plain": [
              "name                  2\n",
              "platform              0\n",
              "year_of_release     269\n",
              "genre                 2\n",
              "na_sales              0\n",
              "eu_sales              0\n",
              "jp_sales              0\n",
              "other_sales           0\n",
              "critic_score       8578\n",
              "user_score         9125\n",
              "rating             6766\n",
              "dtype: int64"
            ]
          },
          "execution_count": 12,
          "metadata": {},
          "output_type": "execute_result"
        }
      ],
      "source": [
        "#Изучим количество пропусков в каждом столбце\n",
        "data.isna().sum()"
      ]
    },
    {
      "cell_type": "markdown",
      "metadata": {
        "id": "lLVFJ8w88Emm"
      },
      "source": [
        "<div class=\"alert alert-info\"> <b>Комментарий студента:v1</b> \n",
        "    \n",
        "Перенесем на этот этап обработку пропусков в столбце с рейтингом.</div>"
      ]
    },
    {
      "cell_type": "code",
      "execution_count": null,
      "metadata": {
        "scrolled": true,
        "id": "DWDOxLiu8Emm"
      },
      "outputs": [],
      "source": [
        "#Заполним пропуски в рейтингах строкой pass, т.к. это категориальная переменная\n",
        "data['rating'] = data['rating'].fillna('pass')"
      ]
    },
    {
      "cell_type": "code",
      "execution_count": null,
      "metadata": {
        "id": "SJ98YaPA8Emn"
      },
      "outputs": [],
      "source": [
        "#Строки с пропусками в столбцах name и genre удалим - пропущенных значений не много, чтобы сильно исказить выборку; \n",
        "#а наличие пропусков может затруднить исследовательский анализ данных в последующих этапах работы с дата фреймом.\n",
        "\n",
        "data=data.loc[~data['name'].isna()]\n",
        "data=data.loc[~data['genre'].isna()]"
      ]
    },
    {
      "cell_type": "markdown",
      "metadata": {
        "id": "x54o2PiS8Emn"
      },
      "source": [
        "<div class=\"alert alert-success\">\n",
        "<b>✅ Комментарий ревьюера v1: </b> \n",
        "\n",
        "Все верно, можем удалить! </div>"
      ]
    },
    {
      "cell_type": "markdown",
      "metadata": {
        "id": "UH1AUEVQ8Emn"
      },
      "source": [
        "Пропуски остались в столбцах с рейтингом, оценкой критиков и пользовательскими оценками. \n",
        "Причина отсутствия данных может быть проста - рейтинг и оценка еще не присвоен (как в случае отдельных с оценками пользователей). Или данные отсутствуют по техническим причинам. Либо пропуски в данных характерны для какой-то конкретной игры, региона продаж, года выпуска или иных характеристик. Соответственно эти пропуски могут транслировать свою смысловую нагрузку."
      ]
    },
    {
      "cell_type": "code",
      "execution_count": null,
      "metadata": {
        "id": "bfGRWlwy8Emn",
        "outputId": "599224aa-917f-4599-d307-c7fda7fcd468"
      },
      "outputs": [
        {
          "data": {
            "text/html": [
              "<div>\n",
              "<style scoped>\n",
              "    .dataframe tbody tr th:only-of-type {\n",
              "        vertical-align: middle;\n",
              "    }\n",
              "\n",
              "    .dataframe tbody tr th {\n",
              "        vertical-align: top;\n",
              "    }\n",
              "\n",
              "    .dataframe thead th {\n",
              "        text-align: right;\n",
              "    }\n",
              "</style>\n",
              "<table border=\"1\" class=\"dataframe\">\n",
              "  <thead>\n",
              "    <tr style=\"text-align: right;\">\n",
              "      <th></th>\n",
              "      <th>name</th>\n",
              "      <th>platform</th>\n",
              "      <th>year_of_release</th>\n",
              "      <th>genre</th>\n",
              "      <th>na_sales</th>\n",
              "      <th>eu_sales</th>\n",
              "      <th>jp_sales</th>\n",
              "      <th>other_sales</th>\n",
              "      <th>critic_score</th>\n",
              "      <th>user_score</th>\n",
              "      <th>rating</th>\n",
              "      <th>total_sale</th>\n",
              "    </tr>\n",
              "  </thead>\n",
              "  <tbody>\n",
              "    <tr>\n",
              "      <th>0</th>\n",
              "      <td>Wii Sports</td>\n",
              "      <td>Wii</td>\n",
              "      <td>2006.0</td>\n",
              "      <td>Sports</td>\n",
              "      <td>41.36</td>\n",
              "      <td>28.96</td>\n",
              "      <td>3.77</td>\n",
              "      <td>8.45</td>\n",
              "      <td>76.0</td>\n",
              "      <td>8.0</td>\n",
              "      <td>E</td>\n",
              "      <td>82.54</td>\n",
              "    </tr>\n",
              "    <tr>\n",
              "      <th>1</th>\n",
              "      <td>Super Mario Bros.</td>\n",
              "      <td>NES</td>\n",
              "      <td>1985.0</td>\n",
              "      <td>Platform</td>\n",
              "      <td>29.08</td>\n",
              "      <td>3.58</td>\n",
              "      <td>6.81</td>\n",
              "      <td>0.77</td>\n",
              "      <td>NaN</td>\n",
              "      <td>NaN</td>\n",
              "      <td>pass</td>\n",
              "      <td>40.24</td>\n",
              "    </tr>\n",
              "    <tr>\n",
              "      <th>2</th>\n",
              "      <td>Mario Kart Wii</td>\n",
              "      <td>Wii</td>\n",
              "      <td>2008.0</td>\n",
              "      <td>Racing</td>\n",
              "      <td>15.68</td>\n",
              "      <td>12.76</td>\n",
              "      <td>3.79</td>\n",
              "      <td>3.29</td>\n",
              "      <td>82.0</td>\n",
              "      <td>8.3</td>\n",
              "      <td>E</td>\n",
              "      <td>35.52</td>\n",
              "    </tr>\n",
              "    <tr>\n",
              "      <th>3</th>\n",
              "      <td>Wii Sports Resort</td>\n",
              "      <td>Wii</td>\n",
              "      <td>2009.0</td>\n",
              "      <td>Sports</td>\n",
              "      <td>15.61</td>\n",
              "      <td>10.93</td>\n",
              "      <td>3.28</td>\n",
              "      <td>2.95</td>\n",
              "      <td>80.0</td>\n",
              "      <td>8.0</td>\n",
              "      <td>E</td>\n",
              "      <td>32.77</td>\n",
              "    </tr>\n",
              "    <tr>\n",
              "      <th>4</th>\n",
              "      <td>Pokemon Red/Pokemon Blue</td>\n",
              "      <td>GB</td>\n",
              "      <td>1996.0</td>\n",
              "      <td>Role-Playing</td>\n",
              "      <td>11.27</td>\n",
              "      <td>8.89</td>\n",
              "      <td>10.22</td>\n",
              "      <td>1.00</td>\n",
              "      <td>NaN</td>\n",
              "      <td>NaN</td>\n",
              "      <td>pass</td>\n",
              "      <td>31.38</td>\n",
              "    </tr>\n",
              "  </tbody>\n",
              "</table>\n",
              "</div>"
            ],
            "text/plain": [
              "                       name platform  year_of_release         genre  na_sales  \\\n",
              "0                Wii Sports      Wii           2006.0        Sports     41.36   \n",
              "1         Super Mario Bros.      NES           1985.0      Platform     29.08   \n",
              "2            Mario Kart Wii      Wii           2008.0        Racing     15.68   \n",
              "3         Wii Sports Resort      Wii           2009.0        Sports     15.61   \n",
              "4  Pokemon Red/Pokemon Blue       GB           1996.0  Role-Playing     11.27   \n",
              "\n",
              "   eu_sales  jp_sales  other_sales  critic_score  user_score rating  \\\n",
              "0     28.96      3.77         8.45          76.0         8.0      E   \n",
              "1      3.58      6.81         0.77           NaN         NaN   pass   \n",
              "2     12.76      3.79         3.29          82.0         8.3      E   \n",
              "3     10.93      3.28         2.95          80.0         8.0      E   \n",
              "4      8.89     10.22         1.00           NaN         NaN   pass   \n",
              "\n",
              "   total_sale  \n",
              "0       82.54  \n",
              "1       40.24  \n",
              "2       35.52  \n",
              "3       32.77  \n",
              "4       31.38  "
            ]
          },
          "execution_count": 15,
          "metadata": {},
          "output_type": "execute_result"
        }
      ],
      "source": [
        "#Почситаем суммарные продажи во всех регионах и запишем их в отдельный столбец\n",
        "data['total_sale']=data['na_sales']+data['eu_sales']+data['jp_sales']+data['other_sales']\n",
        "\n",
        "data.head()"
      ]
    },
    {
      "cell_type": "markdown",
      "metadata": {
        "id": "vb6HqJg88Emo"
      },
      "source": [
        "## Исследовательский анализ"
      ]
    },
    {
      "cell_type": "code",
      "execution_count": null,
      "metadata": {
        "id": "jqNb-c1T8Emo",
        "outputId": "7b0981ac-66b8-400d-c12a-3c14758b8065"
      },
      "outputs": [
        {
          "data": {
            "text/plain": [
              "''"
            ]
          },
          "execution_count": 16,
          "metadata": {},
          "output_type": "execute_result"
        },
        {
          "data": {
            "image/png": "[encoded data removed]",
            "text/plain": [
              "<Figure size 432x288 with 1 Axes>"
            ]
          },
          "metadata": {
            "needs_background": "light"
          },
          "output_type": "display_data"
        }
      ],
      "source": [
        "#Найдем, сколько игр выпускалось в разные годы\n",
        "count_game=data.pivot_table(index='year_of_release', values = 'name', aggfunc = 'count')\n",
        "count_game.plot()\n",
        ";"
      ]
    },
    {
      "cell_type": "markdown",
      "metadata": {
        "id": "1Afx4cJp8Emp"
      },
      "source": [
        "График показывает количество выпущенных на рынок игр по годам: пик релизов пришелся на 2007-2008 годы.\n",
        "Для того, чтобы выявить характеристики наиболее перспективных с точки зрения продаж игр, всего массива данных, возможно, и не понадобилось бы, т.к. максимальное количество выпусков пришлось на вполне явный период - начиная с 2000-х годов. Могу предположить, что до 00-х даже в развитых странах компьютеры не были широко распространены среди населения и, скорее всего, не приобретались для игр. Выборка данных в нашем распоряжении с 80-х годов не должна исказить итоговые выводы, т.к. количество игр, выпущенных в более ранние периоды, не значительно по отношению к общему объему."
      ]
    },
    {
      "cell_type": "code",
      "execution_count": null,
      "metadata": {
        "id": "XIkTS0Ik8Emq",
        "outputId": "c47e2377-b48e-4931-a812-9188ce82c219"
      },
      "outputs": [
        {
          "data": {
            "text/plain": [
              "['PS2', 'X360', 'PS3', 'Wii', 'DS']"
            ]
          },
          "execution_count": 17,
          "metadata": {},
          "output_type": "execute_result"
        }
      ],
      "source": [
        "#Оценим, как менялись продажи по платформам, выведем топ-5 платформ по сумме продаж и сохраним в отдельный список\n",
        "top_platform_by_sale = (data.pivot_table(index = 'platform', values = 'total_sale', aggfunc = 'sum').\n",
        "    sort_values(by='total_sale', ascending = False).\n",
        "    head())\n",
        "top_platform=list(top_platform_by_sale.index)\n",
        "top_platform"
      ]
    },
    {
      "cell_type": "code",
      "execution_count": null,
      "metadata": {
        "id": "HjRxsohS8Emq",
        "outputId": "ff7a5b11-c2f4-44e2-bf69-fd110ee1567a"
      },
      "outputs": [
        {
          "data": {
            "image/png": "[encoded data removed]",
            "text/plain": [
              "<Figure size 432x288 with 1 Axes>"
            ]
          },
          "metadata": {
            "needs_background": "light"
          },
          "output_type": "display_data"
        },
        {
          "data": {
            "image/png": "[encoded data removed]",
            "text/plain": [
              "<Figure size 432x288 with 1 Axes>"
            ]
          },
          "metadata": {
            "needs_background": "light"
          },
          "output_type": "display_data"
        },
        {
          "data": {
            "image/png": "[encoded data removed]",
            "text/plain": [
              "<Figure size 432x288 with 1 Axes>"
            ]
          },
          "metadata": {
            "needs_background": "light"
          },
          "output_type": "display_data"
        },
        {
          "data": {
            "image/png": "[encoded data removed]",
            "text/plain": [
              "<Figure size 432x288 with 1 Axes>"
            ]
          },
          "metadata": {
            "needs_background": "light"
          },
          "output_type": "display_data"
        },
        {
          "data": {
            "image/png": "[encoded data removed]",
            "text/plain": [
              "<Figure size 432x288 with 1 Axes>"
            ]
          },
          "metadata": {
            "needs_background": "light"
          },
          "output_type": "display_data"
        }
      ],
      "source": [
        "#Построим график суммы продаж по годам для выбранного ТОПа платформ\n",
        "for platform in top_platform:\n",
        "    (data.loc[data['platform'] == platform].\n",
        "     pivot_table(index = 'year_of_release', values = 'total_sale', aggfunc = 'sum').\n",
        "     plot().set_title(platform))"
      ]
    },
    {
      "cell_type": "markdown",
      "metadata": {
        "id": "NHJzAx7F8Emr"
      },
      "source": [
        "Как видно на графиках платформ, срок жизни одной платформы около 10 лет: более современные платформы PS2, PS3 и X360 четко отражают этот тренд. И хоть датафрейм содержит информацию по 2016 год, сомнительно, что на платформах будут какие-то пики продаж в более поздних периодах - скорее всего более современые платформы будут вытеснять более старые. \n",
        "Платформа Wii хоть и \"выстрелила\" во второй половине 00-х, но быстро была вытеснена конкурентами - объем продаж сам говорит за себя, платформа ушла с рынка фактически за 6 лет. \n",
        "Старожил рынка - платформа DS -вероятно проживала всю технологическую революцию - история платформы берет начало аж с 1985, расцвет приходится на 2005-2010 года и заканчивается примерно в 2013 году.\n",
        "\n",
        "Для меня, человека, который далек от компьютерных игр, интересна совокупность графиков платформ PS2 и PS3: наверняка обе платформы принадлежат одному концерну. И как только наметился спад в объемах продаж по PS2, концерн выпускает следующую платформу. Либо наоборот - новая платформа спровоцировала отток продаж с более старой."
      ]
    },
    {
      "cell_type": "code",
      "execution_count": null,
      "metadata": {
        "id": "mSFUvDCJ8Emr",
        "outputId": "1efdc93a-de70-4669-cc7d-7d6ef3020100"
      },
      "outputs": [
        {
          "data": {
            "text/html": [
              "<div>\n",
              "<style scoped>\n",
              "    .dataframe tbody tr th:only-of-type {\n",
              "        vertical-align: middle;\n",
              "    }\n",
              "\n",
              "    .dataframe tbody tr th {\n",
              "        vertical-align: top;\n",
              "    }\n",
              "\n",
              "    .dataframe thead th {\n",
              "        text-align: right;\n",
              "    }\n",
              "</style>\n",
              "<table border=\"1\" class=\"dataframe\">\n",
              "  <thead>\n",
              "    <tr style=\"text-align: right;\">\n",
              "      <th></th>\n",
              "      <th>name</th>\n",
              "      <th>platform</th>\n",
              "      <th>year_of_release</th>\n",
              "      <th>genre</th>\n",
              "      <th>na_sales</th>\n",
              "      <th>eu_sales</th>\n",
              "      <th>jp_sales</th>\n",
              "      <th>other_sales</th>\n",
              "      <th>critic_score</th>\n",
              "      <th>user_score</th>\n",
              "      <th>rating</th>\n",
              "      <th>total_sale</th>\n",
              "    </tr>\n",
              "  </thead>\n",
              "  <tbody>\n",
              "    <tr>\n",
              "      <th>16714</th>\n",
              "      <td>Winning Post 8 2016</td>\n",
              "      <td>PSV</td>\n",
              "      <td>2016.0</td>\n",
              "      <td>Simulation</td>\n",
              "      <td>0.00</td>\n",
              "      <td>0.00</td>\n",
              "      <td>0.01</td>\n",
              "      <td>0.00</td>\n",
              "      <td>NaN</td>\n",
              "      <td>NaN</td>\n",
              "      <td>pass</td>\n",
              "      <td>0.01</td>\n",
              "    </tr>\n",
              "    <tr>\n",
              "      <th>4768</th>\n",
              "      <td>Dragon Quest Builders: Revive Alefgard</td>\n",
              "      <td>PS4</td>\n",
              "      <td>2016.0</td>\n",
              "      <td>Role-Playing</td>\n",
              "      <td>0.04</td>\n",
              "      <td>0.11</td>\n",
              "      <td>0.22</td>\n",
              "      <td>0.03</td>\n",
              "      <td>NaN</td>\n",
              "      <td>NaN</td>\n",
              "      <td>pass</td>\n",
              "      <td>0.40</td>\n",
              "    </tr>\n",
              "    <tr>\n",
              "      <th>4913</th>\n",
              "      <td>Until Dawn: Rush of Blood</td>\n",
              "      <td>PS4</td>\n",
              "      <td>2016.0</td>\n",
              "      <td>Adventure</td>\n",
              "      <td>0.18</td>\n",
              "      <td>0.15</td>\n",
              "      <td>0.00</td>\n",
              "      <td>0.07</td>\n",
              "      <td>72.0</td>\n",
              "      <td>8.0</td>\n",
              "      <td>M</td>\n",
              "      <td>0.40</td>\n",
              "    </tr>\n",
              "    <tr>\n",
              "      <th>4887</th>\n",
              "      <td>Dark Souls III</td>\n",
              "      <td>XOne</td>\n",
              "      <td>2016.0</td>\n",
              "      <td>Role-Playing</td>\n",
              "      <td>0.26</td>\n",
              "      <td>0.09</td>\n",
              "      <td>0.00</td>\n",
              "      <td>0.04</td>\n",
              "      <td>87.0</td>\n",
              "      <td>8.6</td>\n",
              "      <td>pass</td>\n",
              "      <td>0.39</td>\n",
              "    </tr>\n",
              "    <tr>\n",
              "      <th>16403</th>\n",
              "      <td>Dynasty Warriors: Eiketsuden</td>\n",
              "      <td>PSV</td>\n",
              "      <td>2016.0</td>\n",
              "      <td>Action</td>\n",
              "      <td>0.00</td>\n",
              "      <td>0.00</td>\n",
              "      <td>0.01</td>\n",
              "      <td>0.00</td>\n",
              "      <td>NaN</td>\n",
              "      <td>NaN</td>\n",
              "      <td>pass</td>\n",
              "      <td>0.01</td>\n",
              "    </tr>\n",
              "    <tr>\n",
              "      <th>...</th>\n",
              "      <td>...</td>\n",
              "      <td>...</td>\n",
              "      <td>...</td>\n",
              "      <td>...</td>\n",
              "      <td>...</td>\n",
              "      <td>...</td>\n",
              "      <td>...</td>\n",
              "      <td>...</td>\n",
              "      <td>...</td>\n",
              "      <td>...</td>\n",
              "      <td>...</td>\n",
              "      <td>...</td>\n",
              "    </tr>\n",
              "    <tr>\n",
              "      <th>16373</th>\n",
              "      <td>PDC World Championship Darts 2008</td>\n",
              "      <td>PSP</td>\n",
              "      <td>NaN</td>\n",
              "      <td>Sports</td>\n",
              "      <td>0.01</td>\n",
              "      <td>0.00</td>\n",
              "      <td>0.00</td>\n",
              "      <td>0.00</td>\n",
              "      <td>43.0</td>\n",
              "      <td>NaN</td>\n",
              "      <td>E10+</td>\n",
              "      <td>0.01</td>\n",
              "    </tr>\n",
              "    <tr>\n",
              "      <th>16405</th>\n",
              "      <td>Freaky Flyers</td>\n",
              "      <td>GC</td>\n",
              "      <td>NaN</td>\n",
              "      <td>Racing</td>\n",
              "      <td>0.01</td>\n",
              "      <td>0.00</td>\n",
              "      <td>0.00</td>\n",
              "      <td>0.00</td>\n",
              "      <td>69.0</td>\n",
              "      <td>6.5</td>\n",
              "      <td>T</td>\n",
              "      <td>0.01</td>\n",
              "    </tr>\n",
              "    <tr>\n",
              "      <th>16448</th>\n",
              "      <td>Inversion</td>\n",
              "      <td>PC</td>\n",
              "      <td>NaN</td>\n",
              "      <td>Shooter</td>\n",
              "      <td>0.01</td>\n",
              "      <td>0.00</td>\n",
              "      <td>0.00</td>\n",
              "      <td>0.00</td>\n",
              "      <td>59.0</td>\n",
              "      <td>6.7</td>\n",
              "      <td>M</td>\n",
              "      <td>0.01</td>\n",
              "    </tr>\n",
              "    <tr>\n",
              "      <th>16458</th>\n",
              "      <td>Hakuouki: Shinsengumi Kitan</td>\n",
              "      <td>PS3</td>\n",
              "      <td>NaN</td>\n",
              "      <td>Adventure</td>\n",
              "      <td>0.01</td>\n",
              "      <td>0.00</td>\n",
              "      <td>0.00</td>\n",
              "      <td>0.00</td>\n",
              "      <td>NaN</td>\n",
              "      <td>NaN</td>\n",
              "      <td>pass</td>\n",
              "      <td>0.01</td>\n",
              "    </tr>\n",
              "    <tr>\n",
              "      <th>16522</th>\n",
              "      <td>Virtua Quest</td>\n",
              "      <td>GC</td>\n",
              "      <td>NaN</td>\n",
              "      <td>Role-Playing</td>\n",
              "      <td>0.01</td>\n",
              "      <td>0.00</td>\n",
              "      <td>0.00</td>\n",
              "      <td>0.00</td>\n",
              "      <td>55.0</td>\n",
              "      <td>5.5</td>\n",
              "      <td>T</td>\n",
              "      <td>0.01</td>\n",
              "    </tr>\n",
              "  </tbody>\n",
              "</table>\n",
              "<p>16713 rows × 12 columns</p>\n",
              "</div>"
            ],
            "text/plain": [
              "                                         name platform  year_of_release  \\\n",
              "16714                     Winning Post 8 2016      PSV           2016.0   \n",
              "4768   Dragon Quest Builders: Revive Alefgard      PS4           2016.0   \n",
              "4913                Until Dawn: Rush of Blood      PS4           2016.0   \n",
              "4887                           Dark Souls III     XOne           2016.0   \n",
              "16403            Dynasty Warriors: Eiketsuden      PSV           2016.0   \n",
              "...                                       ...      ...              ...   \n",
              "16373       PDC World Championship Darts 2008      PSP              NaN   \n",
              "16405                           Freaky Flyers       GC              NaN   \n",
              "16448                               Inversion       PC              NaN   \n",
              "16458             Hakuouki: Shinsengumi Kitan      PS3              NaN   \n",
              "16522                            Virtua Quest       GC              NaN   \n",
              "\n",
              "              genre  na_sales  eu_sales  jp_sales  other_sales  critic_score  \\\n",
              "16714    Simulation      0.00      0.00      0.01         0.00           NaN   \n",
              "4768   Role-Playing      0.04      0.11      0.22         0.03           NaN   \n",
              "4913      Adventure      0.18      0.15      0.00         0.07          72.0   \n",
              "4887   Role-Playing      0.26      0.09      0.00         0.04          87.0   \n",
              "16403        Action      0.00      0.00      0.01         0.00           NaN   \n",
              "...             ...       ...       ...       ...          ...           ...   \n",
              "16373        Sports      0.01      0.00      0.00         0.00          43.0   \n",
              "16405        Racing      0.01      0.00      0.00         0.00          69.0   \n",
              "16448       Shooter      0.01      0.00      0.00         0.00          59.0   \n",
              "16458     Adventure      0.01      0.00      0.00         0.00           NaN   \n",
              "16522  Role-Playing      0.01      0.00      0.00         0.00          55.0   \n",
              "\n",
              "       user_score rating  total_sale  \n",
              "16714         NaN   pass        0.01  \n",
              "4768          NaN   pass        0.40  \n",
              "4913          8.0      M        0.40  \n",
              "4887          8.6   pass        0.39  \n",
              "16403         NaN   pass        0.01  \n",
              "...           ...    ...         ...  \n",
              "16373         NaN   E10+        0.01  \n",
              "16405         6.5      T        0.01  \n",
              "16448         6.7      M        0.01  \n",
              "16458         NaN   pass        0.01  \n",
              "16522         5.5      T        0.01  \n",
              "\n",
              "[16713 rows x 12 columns]"
            ]
          },
          "execution_count": 19,
          "metadata": {},
          "output_type": "execute_result"
        }
      ],
      "source": [
        "data.sort_values('year_of_release', ascending = False)"
      ]
    },
    {
      "cell_type": "markdown",
      "metadata": {
        "id": "K0tayikg8Emr"
      },
      "source": [
        "Для дальнейшей работы и прогнозирования данных на 2017 г. оставим только актуальные данные. Цель компании - продажи игр. Чтобы проверить, какой период для нас наиболее интересный с точки зрения объема продаж и показательный с точки зрения клиентского спроса, построим график общего объема продаж по годам:"
      ]
    },
    {
      "cell_type": "code",
      "execution_count": null,
      "metadata": {
        "id": "pttL7Q148Emr",
        "outputId": "b2aa7ce7-8023-49fb-8188-73edbc34bf40"
      },
      "outputs": [
        {
          "data": {
            "text/plain": [
              "''"
            ]
          },
          "execution_count": 20,
          "metadata": {},
          "output_type": "execute_result"
        },
        {
          "data": {
            "image/png": "[encoded data removed]",
            "text/plain": [
              "<Figure size 432x288 with 1 Axes>"
            ]
          },
          "metadata": {
            "needs_background": "light"
          },
          "output_type": "display_data"
        }
      ],
      "source": [
        "data.pivot_table(index='year_of_release', values = 'total_sale', aggfunc = 'sum').plot()\n",
        ";"
      ]
    },
    {
      "cell_type": "markdown",
      "metadata": {
        "id": "oiZaZiXS8Ems"
      },
      "source": [
        "Видно, что график по объему продаж коррелирует с графиком по количеству выпущенных игр. \n",
        "\n",
        "Для дальнейшего анализа будем использовать период 2013-2015 годы, т.к. 2016 на момент вырузки содержит не полные данные. \n",
        "\n",
        "Примечательно, что после 2010 года наметилась тенденция на снижения объема продаж. Можно предположить, что это может быть связано с изменением коньюктуры рынка (например, переход от платных версий игр на платформах к онлайн-играм или к играм с дополненной реальностью на других более современных платформах и т.д.). В этом случае необходимо разворачивать исследование более глубоко: интернет-магазин \"Стримчик\" может оказаться в опасном положении без адаптации к изменяющемуся рынку - вводить новые продукты или в целом переориентироваться под клиентские запросы. Также одна из гипотетических причин схлопывания рынка - недостаточность данных, т.е. более поздние периоды еще не оцифрованы в какую-либо статистику, соответственно отсутствуют в таблице. Если бы данная теория нашла бы подтверждение в фактах, можно было бы пренебречь более поздними периодами."
      ]
    },
    {
      "cell_type": "code",
      "execution_count": null,
      "metadata": {
        "scrolled": true,
        "id": "wGfuXgmd8Emt",
        "outputId": "bae083e6-cebb-4dfc-aa2b-8b1eb73cfa6c"
      },
      "outputs": [
        {
          "data": {
            "text/html": [
              "<div>\n",
              "<style scoped>\n",
              "    .dataframe tbody tr th:only-of-type {\n",
              "        vertical-align: middle;\n",
              "    }\n",
              "\n",
              "    .dataframe tbody tr th {\n",
              "        vertical-align: top;\n",
              "    }\n",
              "\n",
              "    .dataframe thead th {\n",
              "        text-align: right;\n",
              "    }\n",
              "</style>\n",
              "<table border=\"1\" class=\"dataframe\">\n",
              "  <thead>\n",
              "    <tr style=\"text-align: right;\">\n",
              "      <th></th>\n",
              "      <th>name</th>\n",
              "      <th>platform</th>\n",
              "      <th>year_of_release</th>\n",
              "      <th>genre</th>\n",
              "      <th>na_sales</th>\n",
              "      <th>eu_sales</th>\n",
              "      <th>jp_sales</th>\n",
              "      <th>other_sales</th>\n",
              "      <th>critic_score</th>\n",
              "      <th>user_score</th>\n",
              "      <th>rating</th>\n",
              "      <th>total_sale</th>\n",
              "    </tr>\n",
              "  </thead>\n",
              "  <tbody>\n",
              "    <tr>\n",
              "      <th>16</th>\n",
              "      <td>Grand Theft Auto V</td>\n",
              "      <td>PS3</td>\n",
              "      <td>2013.0</td>\n",
              "      <td>Action</td>\n",
              "      <td>7.02</td>\n",
              "      <td>9.09</td>\n",
              "      <td>0.98</td>\n",
              "      <td>3.96</td>\n",
              "      <td>97.0</td>\n",
              "      <td>8.2</td>\n",
              "      <td>M</td>\n",
              "      <td>21.05</td>\n",
              "    </tr>\n",
              "    <tr>\n",
              "      <th>23</th>\n",
              "      <td>Grand Theft Auto V</td>\n",
              "      <td>X360</td>\n",
              "      <td>2013.0</td>\n",
              "      <td>Action</td>\n",
              "      <td>9.66</td>\n",
              "      <td>5.14</td>\n",
              "      <td>0.06</td>\n",
              "      <td>1.41</td>\n",
              "      <td>97.0</td>\n",
              "      <td>8.1</td>\n",
              "      <td>M</td>\n",
              "      <td>16.27</td>\n",
              "    </tr>\n",
              "    <tr>\n",
              "      <th>31</th>\n",
              "      <td>Call of Duty: Black Ops 3</td>\n",
              "      <td>PS4</td>\n",
              "      <td>2015.0</td>\n",
              "      <td>Shooter</td>\n",
              "      <td>6.03</td>\n",
              "      <td>5.86</td>\n",
              "      <td>0.36</td>\n",
              "      <td>2.38</td>\n",
              "      <td>NaN</td>\n",
              "      <td>NaN</td>\n",
              "      <td>pass</td>\n",
              "      <td>14.63</td>\n",
              "    </tr>\n",
              "    <tr>\n",
              "      <th>33</th>\n",
              "      <td>Pokemon X/Pokemon Y</td>\n",
              "      <td>3DS</td>\n",
              "      <td>2013.0</td>\n",
              "      <td>Role-Playing</td>\n",
              "      <td>5.28</td>\n",
              "      <td>4.19</td>\n",
              "      <td>4.35</td>\n",
              "      <td>0.78</td>\n",
              "      <td>NaN</td>\n",
              "      <td>NaN</td>\n",
              "      <td>pass</td>\n",
              "      <td>14.60</td>\n",
              "    </tr>\n",
              "    <tr>\n",
              "      <th>42</th>\n",
              "      <td>Grand Theft Auto V</td>\n",
              "      <td>PS4</td>\n",
              "      <td>2014.0</td>\n",
              "      <td>Action</td>\n",
              "      <td>3.96</td>\n",
              "      <td>6.31</td>\n",
              "      <td>0.38</td>\n",
              "      <td>1.97</td>\n",
              "      <td>97.0</td>\n",
              "      <td>8.3</td>\n",
              "      <td>M</td>\n",
              "      <td>12.62</td>\n",
              "    </tr>\n",
              "    <tr>\n",
              "      <th>...</th>\n",
              "      <td>...</td>\n",
              "      <td>...</td>\n",
              "      <td>...</td>\n",
              "      <td>...</td>\n",
              "      <td>...</td>\n",
              "      <td>...</td>\n",
              "      <td>...</td>\n",
              "      <td>...</td>\n",
              "      <td>...</td>\n",
              "      <td>...</td>\n",
              "      <td>...</td>\n",
              "      <td>...</td>\n",
              "    </tr>\n",
              "    <tr>\n",
              "      <th>16668</th>\n",
              "      <td>Fujiko F. Fujio Characters: Great Assembly! Sl...</td>\n",
              "      <td>3DS</td>\n",
              "      <td>2014.0</td>\n",
              "      <td>Action</td>\n",
              "      <td>0.00</td>\n",
              "      <td>0.00</td>\n",
              "      <td>0.01</td>\n",
              "      <td>0.00</td>\n",
              "      <td>NaN</td>\n",
              "      <td>NaN</td>\n",
              "      <td>pass</td>\n",
              "      <td>0.01</td>\n",
              "    </tr>\n",
              "    <tr>\n",
              "      <th>16674</th>\n",
              "      <td>Tsukigime Ranko's Longest Day</td>\n",
              "      <td>PS3</td>\n",
              "      <td>2014.0</td>\n",
              "      <td>Action</td>\n",
              "      <td>0.00</td>\n",
              "      <td>0.01</td>\n",
              "      <td>0.00</td>\n",
              "      <td>0.00</td>\n",
              "      <td>NaN</td>\n",
              "      <td>NaN</td>\n",
              "      <td>pass</td>\n",
              "      <td>0.01</td>\n",
              "    </tr>\n",
              "    <tr>\n",
              "      <th>16682</th>\n",
              "      <td>Grisaia no Kajitsu: La Fruit de la Grisaia</td>\n",
              "      <td>PSP</td>\n",
              "      <td>2013.0</td>\n",
              "      <td>Adventure</td>\n",
              "      <td>0.00</td>\n",
              "      <td>0.00</td>\n",
              "      <td>0.01</td>\n",
              "      <td>0.00</td>\n",
              "      <td>NaN</td>\n",
              "      <td>NaN</td>\n",
              "      <td>pass</td>\n",
              "      <td>0.01</td>\n",
              "    </tr>\n",
              "    <tr>\n",
              "      <th>16692</th>\n",
              "      <td>Metal Gear Solid V: Ground Zeroes</td>\n",
              "      <td>PC</td>\n",
              "      <td>2014.0</td>\n",
              "      <td>Action</td>\n",
              "      <td>0.00</td>\n",
              "      <td>0.01</td>\n",
              "      <td>0.00</td>\n",
              "      <td>0.00</td>\n",
              "      <td>80.0</td>\n",
              "      <td>7.6</td>\n",
              "      <td>M</td>\n",
              "      <td>0.01</td>\n",
              "    </tr>\n",
              "    <tr>\n",
              "      <th>16707</th>\n",
              "      <td>Aiyoku no Eustia</td>\n",
              "      <td>PSV</td>\n",
              "      <td>2014.0</td>\n",
              "      <td>Misc</td>\n",
              "      <td>0.00</td>\n",
              "      <td>0.00</td>\n",
              "      <td>0.01</td>\n",
              "      <td>0.00</td>\n",
              "      <td>NaN</td>\n",
              "      <td>NaN</td>\n",
              "      <td>pass</td>\n",
              "      <td>0.01</td>\n",
              "    </tr>\n",
              "  </tbody>\n",
              "</table>\n",
              "<p>1731 rows × 12 columns</p>\n",
              "</div>"
            ],
            "text/plain": [
              "                                                    name platform  \\\n",
              "16                                    Grand Theft Auto V      PS3   \n",
              "23                                    Grand Theft Auto V     X360   \n",
              "31                             Call of Duty: Black Ops 3      PS4   \n",
              "33                                   Pokemon X/Pokemon Y      3DS   \n",
              "42                                    Grand Theft Auto V      PS4   \n",
              "...                                                  ...      ...   \n",
              "16668  Fujiko F. Fujio Characters: Great Assembly! Sl...      3DS   \n",
              "16674                      Tsukigime Ranko's Longest Day      PS3   \n",
              "16682         Grisaia no Kajitsu: La Fruit de la Grisaia      PSP   \n",
              "16692                  Metal Gear Solid V: Ground Zeroes       PC   \n",
              "16707                                   Aiyoku no Eustia      PSV   \n",
              "\n",
              "       year_of_release         genre  na_sales  eu_sales  jp_sales  \\\n",
              "16              2013.0        Action      7.02      9.09      0.98   \n",
              "23              2013.0        Action      9.66      5.14      0.06   \n",
              "31              2015.0       Shooter      6.03      5.86      0.36   \n",
              "33              2013.0  Role-Playing      5.28      4.19      4.35   \n",
              "42              2014.0        Action      3.96      6.31      0.38   \n",
              "...                ...           ...       ...       ...       ...   \n",
              "16668           2014.0        Action      0.00      0.00      0.01   \n",
              "16674           2014.0        Action      0.00      0.01      0.00   \n",
              "16682           2013.0     Adventure      0.00      0.00      0.01   \n",
              "16692           2014.0        Action      0.00      0.01      0.00   \n",
              "16707           2014.0          Misc      0.00      0.00      0.01   \n",
              "\n",
              "       other_sales  critic_score  user_score rating  total_sale  \n",
              "16            3.96          97.0         8.2      M       21.05  \n",
              "23            1.41          97.0         8.1      M       16.27  \n",
              "31            2.38           NaN         NaN   pass       14.63  \n",
              "33            0.78           NaN         NaN   pass       14.60  \n",
              "42            1.97          97.0         8.3      M       12.62  \n",
              "...            ...           ...         ...    ...         ...  \n",
              "16668         0.00           NaN         NaN   pass        0.01  \n",
              "16674         0.00           NaN         NaN   pass        0.01  \n",
              "16682         0.00           NaN         NaN   pass        0.01  \n",
              "16692         0.00          80.0         7.6      M        0.01  \n",
              "16707         0.00           NaN         NaN   pass        0.01  \n",
              "\n",
              "[1731 rows x 12 columns]"
            ]
          },
          "execution_count": 21,
          "metadata": {},
          "output_type": "execute_result"
        }
      ],
      "source": [
        "#Для дальнейшей работы оставим в датафрейме данные только за 2013-2015 годы, перезаписав данные в новую переменную. \n",
        "#Данные с пропусками в столбце с годами выпуска \"вылетят\" из фильтра. \n",
        "#В масштабе всей выборки пропуски в этом столбце составляют около 1,5%.\n",
        "data_filtr=data.loc[(data['year_of_release'] >= 2013) & (data['year_of_release'] <= 2015)]\n",
        "data_filtr"
      ]
    },
    {
      "cell_type": "code",
      "execution_count": null,
      "metadata": {
        "scrolled": true,
        "id": "xSPP_YYv8Emt",
        "outputId": "dc00ea37-7b7b-4ae5-ade4-4802bf3aa195"
      },
      "outputs": [
        {
          "data": {
            "text/plain": [
              "['PS4', 'PS3', 'X360', 'XOne', '3DS']"
            ]
          },
          "execution_count": 22,
          "metadata": {},
          "output_type": "execute_result"
        }
      ],
      "source": [
        "#Оценим ТОП-5 платформ по продажам\n",
        "top_platform_by_sale_filtr = (data_filtr.pivot_table(index = 'platform', \n",
        "                                                     values = 'total_sale', \n",
        "                                                     aggfunc = 'sum').\n",
        "                             sort_values(by = 'total_sale', ascending = False).\n",
        "                             head())\n",
        "\n",
        "top_platform_by_sale_filtr_index = list(top_platform_by_sale_filtr.index)\n",
        "top_platform_by_sale_filtr_index"
      ]
    },
    {
      "cell_type": "code",
      "execution_count": null,
      "metadata": {
        "id": "9PqzTjiP8Emt"
      },
      "outputs": [],
      "source": [
        "#Еще раз отфильтруем дата фрейм по интересующим нас платформам\n",
        "filtr_platform = data_filtr.query('platform in @top_platform_by_sale_filtr_index')"
      ]
    },
    {
      "cell_type": "code",
      "execution_count": null,
      "metadata": {
        "id": "V9IFRSYC8Emu",
        "outputId": "204f0bbf-ef16-4ad2-ab31-3e70ef3137f1"
      },
      "outputs": [
        {
          "data": {
            "text/plain": [
              "''"
            ]
          },
          "execution_count": 24,
          "metadata": {},
          "output_type": "execute_result"
        },
        {
          "data": {
            "image/png": "[encoded data removed]",
            "text/plain": [
              "<Figure size 720x432 with 1 Axes>"
            ]
          },
          "metadata": {
            "needs_background": "light"
          },
          "output_type": "display_data"
        }
      ],
      "source": [
        "#Оценим динамику продаж по годам для этих платформ\n",
        "filtr_platform.pivot_table(index = 'year_of_release', values = 'total_sale', columns = 'platform', aggfunc = 'sum').\\\n",
        "plot(figsize = (10,6))\n",
        ";"
      ]
    },
    {
      "cell_type": "markdown",
      "metadata": {
        "id": "YkVGm4sy8Emu"
      },
      "source": [
        "В последние годы лидирующие позиции по объемам продаж занимали PS4, PS3, X360, XOne, 3DS. \n",
        "\n",
        "Лучшие показатели по продажам генерируют платформы XOne и PS4 - им удается наращивать объем проданных копий год от года. PS4 в динамике выглядит лушче - показывает более уверенный прирост, нежели XOne. Дугие платформы год от года теряют клиентский спрос. Если движение рынка по итогам 2016 года будет показывать аналогичные результаты, то лучшей платформой для маркетинговых вложений в 2017 году будет PS4.\n",
        "\n",
        "Также примечательно, что на промежуток с 2004 по 2006 приходился пик запусков новых платформ - они запускались и сразу улетали в ТОП, но пользовательский интерес довольно сложно удержать и объемы продаж постепенно снижались. Соответственно при появлении новых платформ на рынке, логично делать маркетинговую ставку и на новинки.\n",
        "\n",
        "С точки зрения прибыльности оценить платформы нельзя, ведь прибыль - это разница доходной и расходной части; в разрезе имеющихся данных о последней мы не знаем ничего. Да и цифр по реальным доходам нет - в нашем распоряжении объем в натуральном, а не денежном выражении. \n",
        "\n",
        "В любом случае объем продаж во всей индустриии снижается с 2008-2009 годов. При сохраненнии тенденции, возможно, следует рассмотреть переформат бизнеса, если продажи игр на платформах - единственное направление, т.к. рынок стагнирует.\n",
        "\n",
        "К тому же продукт \"Стримчика\" - товары не первой необходимости, довольно дорогостоящие. Вероятно пользователи, даже имея интерес к индустрии, будут фокусироваться не на новых продуктах, а покупке оборудованияи и игр \"с рук\". Возможно это направление можно было бы сделать дополнительной веткой бизнеса."
      ]
    },
    {
      "cell_type": "code",
      "execution_count": null,
      "metadata": {
        "scrolled": false,
        "id": "YKQUZlBm8Emv",
        "outputId": "65974fdd-40a8-4e84-f81a-55c863e3badf"
      },
      "outputs": [
        {
          "data": {
            "text/plain": [
              "''"
            ]
          },
          "execution_count": 25,
          "metadata": {},
          "output_type": "execute_result"
        },
        {
          "data": {
            "image/png": "[encoded data removed]",
            "text/plain": [
              "<Figure size 432x288 with 1 Axes>"
            ]
          },
          "metadata": {
            "needs_background": "light"
          },
          "output_type": "display_data"
        }
      ],
      "source": [
        "#Построим график «ящик с усами» по глобальным продажам игр в разбивке по отобранным платформам\n",
        "sns.boxplot(data=filtr_platform, x='platform', y='total_sale')\n",
        "plt.ylim(0, 3)\n",
        ";"
      ]
    },
    {
      "cell_type": "code",
      "execution_count": null,
      "metadata": {
        "id": "uSvJvSCB8Emv",
        "outputId": "62fc9ed7-91a5-4fa7-88a3-4075f946c806"
      },
      "outputs": [
        {
          "data": {
            "text/plain": [
              "''"
            ]
          },
          "execution_count": 26,
          "metadata": {},
          "output_type": "execute_result"
        },
        {
          "data": {
            "image/png": "[encoded data removed]",
            "text/plain": [
              "<Figure size 432x288 with 1 Axes>"
            ]
          },
          "metadata": {
            "needs_background": "light"
          },
          "output_type": "display_data"
        }
      ],
      "source": [
        "sns.boxplot(data=filtr_platform, x='platform', y='total_sale')\n",
        ";"
      ]
    },
    {
      "cell_type": "markdown",
      "metadata": {
        "id": "lBdoOSop8Emv"
      },
      "source": [
        "Что видно на графике: лидеры рынка, как уже было выявлено ранее, XOne и PS4 - имеют довольно схожее распределение:\n",
        "- медианы примерно на одном уровне в 300 тыс. Это серединное значение продаж 2013-2015 г.г. по этим платформам. По отношению к другим платформам медианы максимальны. Аналогичный результат пказывает только X360.\n",
        "- 75% продаж по выявленным лидерам находятся в пределах 1,1 млн копий, что также выше, чем у других платформ. \n",
        "- \"усы\" составляют около - 2,5 млн. копий. Это границы нормального распределения, выше находятся выбросы. Эта характеристика также значительно больше, чем у других платформ. Это значит, что именно XOne и PS4 потенциально интересны рынку намного больше, чем остальные - диапазон нормального распределения значительно шире. \n",
        "- межквартильный размах наиболее широкий - отсеяно по 25% аномальных значений выборки \"снизу и \"сверху\" - соответственно максимальный объем продаж именно в обозначенных выше платформах.\n",
        "\n",
        "Если смотреть на графики без настроек масштаба видно, как сильно разбросаны данные - например по PS4 в определенные периоды объемы продаж доходили до 15 млн. копий. Это выбросы, их не учитывают в расчетах. Вывод кажется логичным, особенно с учетом того, что на графиках с объемом продаж видно, что платформы довольно быстро \"заходят\" - продажи резко растут на старте и постепенно угасают."
      ]
    },
    {
      "cell_type": "code",
      "execution_count": null,
      "metadata": {
        "id": "U-hg61_w8Emx",
        "outputId": "b0f80887-1543-4f9e-f3fc-7678af87e8d6"
      },
      "outputs": [
        {
          "data": {
            "image/png": "[encoded data removed]",
            "text/plain": [
              "<Figure size 720x360 with 1 Axes>"
            ]
          },
          "metadata": {
            "needs_background": "light"
          },
          "output_type": "display_data"
        }
      ],
      "source": [
        "filtr_platform.boxplot('total_sale', by='platform', figsize=(10,5))\n",
        "plt.ylim(0,3) \n",
        "plt.show()"
      ]
    },
    {
      "cell_type": "code",
      "execution_count": null,
      "metadata": {
        "id": "DONtEqSy8Emx",
        "outputId": "895bf48c-25f7-459d-dbe8-d902cbf70edd"
      },
      "outputs": [
        {
          "data": {
            "text/html": [
              "<div>\n",
              "<style scoped>\n",
              "    .dataframe tbody tr th:only-of-type {\n",
              "        vertical-align: middle;\n",
              "    }\n",
              "\n",
              "    .dataframe tbody tr th {\n",
              "        vertical-align: top;\n",
              "    }\n",
              "\n",
              "    .dataframe thead th {\n",
              "        text-align: right;\n",
              "    }\n",
              "</style>\n",
              "<table border=\"1\" class=\"dataframe\">\n",
              "  <thead>\n",
              "    <tr style=\"text-align: right;\">\n",
              "      <th></th>\n",
              "      <th>year_of_release</th>\n",
              "      <th>na_sales</th>\n",
              "      <th>eu_sales</th>\n",
              "      <th>jp_sales</th>\n",
              "      <th>other_sales</th>\n",
              "      <th>critic_score</th>\n",
              "      <th>user_score</th>\n",
              "      <th>total_sale</th>\n",
              "    </tr>\n",
              "  </thead>\n",
              "  <tbody>\n",
              "    <tr>\n",
              "      <th>year_of_release</th>\n",
              "      <td>1.000000</td>\n",
              "      <td>-0.094716</td>\n",
              "      <td>-0.062731</td>\n",
              "      <td>-0.066702</td>\n",
              "      <td>-0.061781</td>\n",
              "      <td>0.039294</td>\n",
              "      <td>0.043342</td>\n",
              "      <td>-0.089446</td>\n",
              "    </tr>\n",
              "    <tr>\n",
              "      <th>na_sales</th>\n",
              "      <td>-0.094716</td>\n",
              "      <td>1.000000</td>\n",
              "      <td>0.778107</td>\n",
              "      <td>0.217357</td>\n",
              "      <td>0.813613</td>\n",
              "      <td>0.366689</td>\n",
              "      <td>-0.020520</td>\n",
              "      <td>0.921236</td>\n",
              "    </tr>\n",
              "    <tr>\n",
              "      <th>eu_sales</th>\n",
              "      <td>-0.062731</td>\n",
              "      <td>0.778107</td>\n",
              "      <td>1.000000</td>\n",
              "      <td>0.227370</td>\n",
              "      <td>0.940825</td>\n",
              "      <td>0.329961</td>\n",
              "      <td>-0.008075</td>\n",
              "      <td>0.932642</td>\n",
              "    </tr>\n",
              "    <tr>\n",
              "      <th>jp_sales</th>\n",
              "      <td>-0.066702</td>\n",
              "      <td>0.217357</td>\n",
              "      <td>0.227370</td>\n",
              "      <td>1.000000</td>\n",
              "      <td>0.165115</td>\n",
              "      <td>0.152257</td>\n",
              "      <td>0.194914</td>\n",
              "      <td>0.404509</td>\n",
              "    </tr>\n",
              "    <tr>\n",
              "      <th>other_sales</th>\n",
              "      <td>-0.061781</td>\n",
              "      <td>0.813613</td>\n",
              "      <td>0.940825</td>\n",
              "      <td>0.165115</td>\n",
              "      <td>1.000000</td>\n",
              "      <td>0.334547</td>\n",
              "      <td>0.005539</td>\n",
              "      <td>0.920416</td>\n",
              "    </tr>\n",
              "    <tr>\n",
              "      <th>critic_score</th>\n",
              "      <td>0.039294</td>\n",
              "      <td>0.366689</td>\n",
              "      <td>0.329961</td>\n",
              "      <td>0.152257</td>\n",
              "      <td>0.334547</td>\n",
              "      <td>1.000000</td>\n",
              "      <td>0.569882</td>\n",
              "      <td>0.376627</td>\n",
              "    </tr>\n",
              "    <tr>\n",
              "      <th>user_score</th>\n",
              "      <td>0.043342</td>\n",
              "      <td>-0.020520</td>\n",
              "      <td>-0.008075</td>\n",
              "      <td>0.194914</td>\n",
              "      <td>0.005539</td>\n",
              "      <td>0.569882</td>\n",
              "      <td>1.000000</td>\n",
              "      <td>0.006413</td>\n",
              "    </tr>\n",
              "    <tr>\n",
              "      <th>total_sale</th>\n",
              "      <td>-0.089446</td>\n",
              "      <td>0.921236</td>\n",
              "      <td>0.932642</td>\n",
              "      <td>0.404509</td>\n",
              "      <td>0.920416</td>\n",
              "      <td>0.376627</td>\n",
              "      <td>0.006413</td>\n",
              "      <td>1.000000</td>\n",
              "    </tr>\n",
              "  </tbody>\n",
              "</table>\n",
              "</div>"
            ],
            "text/plain": [
              "                 year_of_release  na_sales  eu_sales  jp_sales  other_sales  \\\n",
              "year_of_release         1.000000 -0.094716 -0.062731 -0.066702    -0.061781   \n",
              "na_sales               -0.094716  1.000000  0.778107  0.217357     0.813613   \n",
              "eu_sales               -0.062731  0.778107  1.000000  0.227370     0.940825   \n",
              "jp_sales               -0.066702  0.217357  0.227370  1.000000     0.165115   \n",
              "other_sales            -0.061781  0.813613  0.940825  0.165115     1.000000   \n",
              "critic_score            0.039294  0.366689  0.329961  0.152257     0.334547   \n",
              "user_score              0.043342 -0.020520 -0.008075  0.194914     0.005539   \n",
              "total_sale             -0.089446  0.921236  0.932642  0.404509     0.920416   \n",
              "\n",
              "                 critic_score  user_score  total_sale  \n",
              "year_of_release      0.039294    0.043342   -0.089446  \n",
              "na_sales             0.366689   -0.020520    0.921236  \n",
              "eu_sales             0.329961   -0.008075    0.932642  \n",
              "jp_sales             0.152257    0.194914    0.404509  \n",
              "other_sales          0.334547    0.005539    0.920416  \n",
              "critic_score         1.000000    0.569882    0.376627  \n",
              "user_score           0.569882    1.000000    0.006413  \n",
              "total_sale           0.376627    0.006413    1.000000  "
            ]
          },
          "execution_count": 28,
          "metadata": {},
          "output_type": "execute_result"
        }
      ],
      "source": [
        "#Построим матрицу корреляций для оценки зависимости общего объема продаж и оценок критиков и пользователей\n",
        "filtr_platform.corr()"
      ]
    },
    {
      "cell_type": "code",
      "execution_count": null,
      "metadata": {
        "id": "ZM86-et_8Emx",
        "outputId": "8a36c2fc-d2fd-4e35-b156-c267c333128b"
      },
      "outputs": [
        {
          "data": {
            "text/html": [
              "<div>\n",
              "<style scoped>\n",
              "    .dataframe tbody tr th:only-of-type {\n",
              "        vertical-align: middle;\n",
              "    }\n",
              "\n",
              "    .dataframe tbody tr th {\n",
              "        vertical-align: top;\n",
              "    }\n",
              "\n",
              "    .dataframe thead th {\n",
              "        text-align: right;\n",
              "    }\n",
              "</style>\n",
              "<table border=\"1\" class=\"dataframe\">\n",
              "  <thead>\n",
              "    <tr style=\"text-align: right;\">\n",
              "      <th></th>\n",
              "      <th>year_of_release</th>\n",
              "      <th>na_sales</th>\n",
              "      <th>eu_sales</th>\n",
              "      <th>jp_sales</th>\n",
              "      <th>other_sales</th>\n",
              "      <th>critic_score</th>\n",
              "      <th>user_score</th>\n",
              "      <th>total_sale</th>\n",
              "    </tr>\n",
              "  </thead>\n",
              "  <tbody>\n",
              "    <tr>\n",
              "      <th>year_of_release</th>\n",
              "      <td>1.000000</td>\n",
              "      <td>-0.140545</td>\n",
              "      <td>-0.131149</td>\n",
              "      <td>-0.005186</td>\n",
              "      <td>-0.131494</td>\n",
              "      <td>0.001771</td>\n",
              "      <td>0.216117</td>\n",
              "      <td>-0.137386</td>\n",
              "    </tr>\n",
              "    <tr>\n",
              "      <th>na_sales</th>\n",
              "      <td>-0.140545</td>\n",
              "      <td>1.000000</td>\n",
              "      <td>0.810579</td>\n",
              "      <td>0.530825</td>\n",
              "      <td>0.953340</td>\n",
              "      <td>0.442219</td>\n",
              "      <td>0.035654</td>\n",
              "      <td>0.939381</td>\n",
              "    </tr>\n",
              "    <tr>\n",
              "      <th>eu_sales</th>\n",
              "      <td>-0.131149</td>\n",
              "      <td>0.810579</td>\n",
              "      <td>1.000000</td>\n",
              "      <td>0.539344</td>\n",
              "      <td>0.948770</td>\n",
              "      <td>0.370752</td>\n",
              "      <td>-0.001902</td>\n",
              "      <td>0.961354</td>\n",
              "    </tr>\n",
              "    <tr>\n",
              "      <th>jp_sales</th>\n",
              "      <td>-0.005186</td>\n",
              "      <td>0.530825</td>\n",
              "      <td>0.539344</td>\n",
              "      <td>1.000000</td>\n",
              "      <td>0.562439</td>\n",
              "      <td>0.309165</td>\n",
              "      <td>0.225118</td>\n",
              "      <td>0.588567</td>\n",
              "    </tr>\n",
              "    <tr>\n",
              "      <th>other_sales</th>\n",
              "      <td>-0.131494</td>\n",
              "      <td>0.953340</td>\n",
              "      <td>0.948770</td>\n",
              "      <td>0.562439</td>\n",
              "      <td>1.000000</td>\n",
              "      <td>0.434573</td>\n",
              "      <td>0.021918</td>\n",
              "      <td>0.998291</td>\n",
              "    </tr>\n",
              "    <tr>\n",
              "      <th>critic_score</th>\n",
              "      <td>0.001771</td>\n",
              "      <td>0.442219</td>\n",
              "      <td>0.370752</td>\n",
              "      <td>0.309165</td>\n",
              "      <td>0.434573</td>\n",
              "      <td>1.000000</td>\n",
              "      <td>0.612451</td>\n",
              "      <td>0.431848</td>\n",
              "    </tr>\n",
              "    <tr>\n",
              "      <th>user_score</th>\n",
              "      <td>0.216117</td>\n",
              "      <td>0.035654</td>\n",
              "      <td>-0.001902</td>\n",
              "      <td>0.225118</td>\n",
              "      <td>0.021918</td>\n",
              "      <td>0.612451</td>\n",
              "      <td>1.000000</td>\n",
              "      <td>0.024231</td>\n",
              "    </tr>\n",
              "    <tr>\n",
              "      <th>total_sale</th>\n",
              "      <td>-0.137386</td>\n",
              "      <td>0.939381</td>\n",
              "      <td>0.961354</td>\n",
              "      <td>0.588567</td>\n",
              "      <td>0.998291</td>\n",
              "      <td>0.431848</td>\n",
              "      <td>0.024231</td>\n",
              "      <td>1.000000</td>\n",
              "    </tr>\n",
              "  </tbody>\n",
              "</table>\n",
              "</div>"
            ],
            "text/plain": [
              "                 year_of_release  na_sales  eu_sales  jp_sales  other_sales  \\\n",
              "year_of_release         1.000000 -0.140545 -0.131149 -0.005186    -0.131494   \n",
              "na_sales               -0.140545  1.000000  0.810579  0.530825     0.953340   \n",
              "eu_sales               -0.131149  0.810579  1.000000  0.539344     0.948770   \n",
              "jp_sales               -0.005186  0.530825  0.539344  1.000000     0.562439   \n",
              "other_sales            -0.131494  0.953340  0.948770  0.562439     1.000000   \n",
              "critic_score            0.001771  0.442219  0.370752  0.309165     0.434573   \n",
              "user_score              0.216117  0.035654 -0.001902  0.225118     0.021918   \n",
              "total_sale             -0.137386  0.939381  0.961354  0.588567     0.998291   \n",
              "\n",
              "                 critic_score  user_score  total_sale  \n",
              "year_of_release      0.001771    0.216117   -0.137386  \n",
              "na_sales             0.442219    0.035654    0.939381  \n",
              "eu_sales             0.370752   -0.001902    0.961354  \n",
              "jp_sales             0.309165    0.225118    0.588567  \n",
              "other_sales          0.434573    0.021918    0.998291  \n",
              "critic_score         1.000000    0.612451    0.431848  \n",
              "user_score           0.612451    1.000000    0.024231  \n",
              "total_sale           0.431848    0.024231    1.000000  "
            ]
          },
          "execution_count": 29,
          "metadata": {},
          "output_type": "execute_result"
        }
      ],
      "source": [
        "#Построим аналогичную матрицу корреляции, но уже для одной платформы - PS4\n",
        "filtr_platform.query('platform == \"PS4\"').corr()"
      ]
    },
    {
      "cell_type": "markdown",
      "metadata": {
        "id": "4tOgVJpn8Emy"
      },
      "source": [
        "Общие продажи коррелируют с оценками критиков, однако сильной зависимости не наблюдается. Корреляция продаж и пользовательских оценок фактически отсутствует."
      ]
    },
    {
      "cell_type": "code",
      "execution_count": null,
      "metadata": {
        "scrolled": true,
        "id": "dRXb7P9Z8Emy",
        "outputId": "09a97c38-e0f5-4075-d9e5-733127e9abcf"
      },
      "outputs": [
        {
          "data": {
            "text/plain": [
              "''"
            ]
          },
          "execution_count": 30,
          "metadata": {},
          "output_type": "execute_result"
        },
        {
          "data": {
            "image/png": "[encoded data removed]",
            "text/plain": [
              "<Figure size 432x288 with 1 Axes>"
            ]
          },
          "metadata": {
            "needs_background": "light"
          },
          "output_type": "display_data"
        }
      ],
      "source": [
        "#Построим диаграмму рессеяния для отзывов критиков и продаж платформы PS4\n",
        "filtr_platform.query('platform == \"PS4\"').plot(kind = 'scatter', x='critic_score', y='total_sale')\n",
        ";"
      ]
    },
    {
      "cell_type": "code",
      "execution_count": null,
      "metadata": {
        "id": "02kW5tn88Emy",
        "outputId": "2068b28d-2db3-4a5d-caec-0a696307f322"
      },
      "outputs": [
        {
          "data": {
            "text/plain": [
              "<AxesSubplot:xlabel='user_score', ylabel='total_sale'>"
            ]
          },
          "execution_count": 31,
          "metadata": {},
          "output_type": "execute_result"
        },
        {
          "data": {
            "image/png": "[encoded data removed]",
            "text/plain": [
              "<Figure size 432x288 with 1 Axes>"
            ]
          },
          "metadata": {
            "needs_background": "light"
          },
          "output_type": "display_data"
        }
      ],
      "source": [
        "#Построим диаграмму рессеяния для отзывов пользователей и продаж платформы PS4\n",
        "filtr_platform.query('platform == \"PS4\"').plot(kind = 'scatter', x='user_score', y='total_sale')"
      ]
    },
    {
      "cell_type": "markdown",
      "metadata": {
        "id": "-fKYtdDU8Emy"
      },
      "source": [
        "На графиках видно различие корреляций: зависимость от отзывов критиков более выраженная, чем отзывов пользователей. Однако, нельзя утверждать, что отзывы напрямую влияют на объем продаж - слишком большая степень рассеивания показателя продаж, нет явного сконцентрированного тренда на рост объема.\n",
        "\n",
        "По получившимся графикам больше можно оценить в каких диапазонах те или иные категории оценивают игры на платформах: для критиков это диапазон от 60 до 85; для пользователей это оценка - 6-8,5."
      ]
    },
    {
      "cell_type": "code",
      "execution_count": null,
      "metadata": {
        "id": "VzU-p-OU8Emz",
        "outputId": "6d8b6386-3599-49a8-d97c-e1f617e889b4"
      },
      "outputs": [
        {
          "data": {
            "image/png": "[encoded data removed]",
            "text/plain": [
              "<Figure size 432x288 with 1 Axes>"
            ]
          },
          "metadata": {
            "needs_background": "light"
          },
          "output_type": "display_data"
        },
        {
          "data": {
            "image/png": "[encoded data removed]",
            "text/plain": [
              "<Figure size 432x288 with 1 Axes>"
            ]
          },
          "metadata": {
            "needs_background": "light"
          },
          "output_type": "display_data"
        },
        {
          "data": {
            "image/png": "[encoded data removed]",
            "text/plain": [
              "<Figure size 432x288 with 1 Axes>"
            ]
          },
          "metadata": {
            "needs_background": "light"
          },
          "output_type": "display_data"
        },
        {
          "data": {
            "image/png": "[encoded data removed]",
            "text/plain": [
              "<Figure size 432x288 with 1 Axes>"
            ]
          },
          "metadata": {
            "needs_background": "light"
          },
          "output_type": "display_data"
        },
        {
          "data": {
            "image/png": "[encoded data removed]",
            "text/plain": [
              "<Figure size 432x288 with 1 Axes>"
            ]
          },
          "metadata": {
            "needs_background": "light"
          },
          "output_type": "display_data"
        },
        {
          "data": {
            "image/png": "[encoded data removed]",
            "text/plain": [
              "<Figure size 432x288 with 1 Axes>"
            ]
          },
          "metadata": {
            "needs_background": "light"
          },
          "output_type": "display_data"
        },
        {
          "data": {
            "image/png": "[encoded data removed]",
            "text/plain": [
              "<Figure size 432x288 with 1 Axes>"
            ]
          },
          "metadata": {
            "needs_background": "light"
          },
          "output_type": "display_data"
        },
        {
          "data": {
            "image/png": "[encoded data removed]",
            "text/plain": [
              "<Figure size 432x288 with 1 Axes>"
            ]
          },
          "metadata": {
            "needs_background": "light"
          },
          "output_type": "display_data"
        },
        {
          "data": {
            "image/png": "[encoded data removed]",
            "text/plain": [
              "<Figure size 432x288 with 1 Axes>"
            ]
          },
          "metadata": {
            "needs_background": "light"
          },
          "output_type": "display_data"
        },
        {
          "data": {
            "image/png": "[encoded data removed]",
            "text/plain": [
              "<Figure size 432x288 with 1 Axes>"
            ]
          },
          "metadata": {
            "needs_background": "light"
          },
          "output_type": "display_data"
        }
      ],
      "source": [
        "#Построим аналогичные графики для оставшихся платформ\n",
        "for platform in top_platform_by_sale_filtr_index:\n",
        "    (filtr_platform.query('platform == @platform')\n",
        "     .plot(kind = 'scatter', x='critic_score', y='total_sale')\n",
        "     .set_title(platform))\n",
        "    (filtr_platform.query('platform == @platform')\n",
        "     .plot(kind = 'scatter', x='user_score', y='total_sale')\n",
        "     .set_title(platform))"
      ]
    },
    {
      "cell_type": "code",
      "execution_count": null,
      "metadata": {
        "id": "yP0mzmdY8Emz",
        "outputId": "5f7a8a4f-beb3-449d-b217-093397bc7945"
      },
      "outputs": [
        {
          "name": "stdout",
          "output_type": "stream",
          "text": [
            "PS4\n",
            "              total_sale  critic_score  user_score\n",
            "total_sale      1.000000      0.431848    0.024231\n",
            "critic_score    0.431848      1.000000    0.612451\n",
            "user_score      0.024231      0.612451    1.000000\n",
            "-----------------------------------------\n",
            "PS3\n",
            "              total_sale  critic_score  user_score\n",
            "total_sale      1.000000      0.334285   -0.016333\n",
            "critic_score    0.334285      1.000000    0.599920\n",
            "user_score     -0.016333      0.599920    1.000000\n",
            "-----------------------------------------\n",
            "X360\n",
            "              total_sale  critic_score  user_score\n",
            "total_sale      1.000000      0.350345   -0.034562\n",
            "critic_score    0.350345      1.000000    0.520946\n",
            "user_score     -0.034562      0.520946    1.000000\n",
            "-----------------------------------------\n",
            "XOne\n",
            "              total_sale  critic_score  user_score\n",
            "total_sale      1.000000      0.459385   -0.039268\n",
            "critic_score    0.459385      1.000000    0.499502\n",
            "user_score     -0.039268      0.499502    1.000000\n",
            "-----------------------------------------\n",
            "3DS\n",
            "              total_sale  critic_score  user_score\n",
            "total_sale      1.000000      0.384326    0.264711\n",
            "critic_score    0.384326      1.000000    0.776471\n",
            "user_score      0.264711      0.776471    1.000000\n",
            "-----------------------------------------\n"
          ]
        }
      ],
      "source": [
        "#Посчитаем корреляции для объема продажи и оценок для всех платформ\n",
        "for platform in top_platform_by_sale_filtr_index:\n",
        "    print(platform)\n",
        "    print(filtr_platform.query('platform == @platform').loc[:,['total_sale', 'critic_score', 'user_score']].corr())\n",
        "    print('-----------------------------------------')"
      ]
    },
    {
      "cell_type": "markdown",
      "metadata": {
        "id": "FsI0wZP88Emz"
      },
      "source": [
        "Продажи в большей степени коррелируют с оценками критиков, а не с оценками пользователей. Зависимость хоть и есть, но она довольно слабая, на что указывает коэффициент корреляции - общий коэффициент корреляции и локальные по платформам менее 0,5.\n",
        "В разрезе платформ видно, что для XOne и PS4 корреляция с оценкой критиков более выраженная, чем для остальных платформ. Это же видно на графиках рессеяния: заметен растущий тренд продаж с увеличением оценки критиков. Однако при такой степени рассеивания нельзя утверждать об устойчивости данной зависимости."
      ]
    },
    {
      "cell_type": "code",
      "execution_count": null,
      "metadata": {
        "id": "wCM8il8z8Em0",
        "outputId": "722ea212-edce-478b-a061-09e6fdbcb435"
      },
      "outputs": [
        {
          "data": {
            "text/plain": [
              "<AxesSubplot:ylabel='name'>"
            ]
          },
          "execution_count": 34,
          "metadata": {},
          "output_type": "execute_result"
        },
        {
          "data": {
            "image/png": "[encoded data removed]",
            "text/plain": [
              "<Figure size 576x576 with 1 Axes>"
            ]
          },
          "metadata": {},
          "output_type": "display_data"
        }
      ],
      "source": [
        "#Проверим, как распредлены игры по жанрам\n",
        "(filtr_platform.groupby('genre')['name'].count()\n",
        " .sort_values(ascending = False)\n",
        " .plot(kind = 'pie', figsize = (8,8)))"
      ]
    },
    {
      "cell_type": "code",
      "execution_count": null,
      "metadata": {
        "id": "lmIWNh2y8Em0",
        "outputId": "49b60405-bf57-4821-8559-c1694e0e2aaf"
      },
      "outputs": [
        {
          "data": {
            "text/plain": [
              "<AxesSubplot:xlabel='genre'>"
            ]
          },
          "execution_count": 35,
          "metadata": {},
          "output_type": "execute_result"
        },
        {
          "data": {
            "image/png": "[encoded data removed]",
            "text/plain": [
              "<Figure size 432x288 with 1 Axes>"
            ]
          },
          "metadata": {
            "needs_background": "light"
          },
          "output_type": "display_data"
        }
      ],
      "source": [
        "#Оценим, какой объемы продаж в разрезе жанров\n",
        "filtr_platform.groupby('genre')['total_sale'].sum().sort_values(ascending = False).plot(kind = 'bar')"
      ]
    },
    {
      "cell_type": "code",
      "execution_count": null,
      "metadata": {
        "id": "6h1LyfCT8Em1",
        "outputId": "e94f983d-5fef-40bc-de65-caf8e1a7379a"
      },
      "outputs": [
        {
          "data": {
            "text/plain": [
              "<AxesSubplot:xlabel='genre'>"
            ]
          },
          "execution_count": 36,
          "metadata": {},
          "output_type": "execute_result"
        },
        {
          "data": {
            "image/png": "[encoded data removed]",
            "text/plain": [
              "<Figure size 432x288 with 1 Axes>"
            ]
          },
          "metadata": {
            "needs_background": "light"
          },
          "output_type": "display_data"
        }
      ],
      "source": [
        "#Рассмотрим, как распределялись медианные продажи по годам в разрезе жанров\n",
        "(filtr_platform.pivot_table(index = 'genre', \n",
        "                            columns = 'year_of_release', \n",
        "                            values = 'total_sale', \n",
        "                            aggfunc = 'median')\n",
        " .plot(kind='bar'))"
      ]
    },
    {
      "cell_type": "markdown",
      "metadata": {
        "id": "6mPfb_Q68Em1"
      },
      "source": [
        "Для того, чтобы сконцентрировть маркетинговые усилия на самом перспективном жанре, нам нужно, чтобы этот жанр генерировал стабильно высокий объем продаж.\n",
        "\n",
        "По графику видно, как неравномерны продажи год от года: в 2015 больше всего продавалось стрелялок, а в 2014 - платформеров, а в 2013 в топе спорт и гонки. Можно сказать, что год от года стабильно продаются ролевые игры и аркады, но большого объема они не приносят.\n",
        "\n",
        "Прибыльность того или иного жанра по имеющимся данным мы оценить не можем (у нас нет доходной и расходной части. Даже для определения доходной части нет информации - у нас только объем в натуральном выражении, данных по ценам нет).\n",
        "\n",
        "Так как два года подряд стрелялки генерят наибольший объем продаж, я бы выбрала его, как наиболее перспективный. Наименее перспективными можно назвать стратегии и приключенческий жанры."
      ]
    },
    {
      "cell_type": "markdown",
      "metadata": {
        "id": "dE_weBSA8Em2"
      },
      "source": [
        "## Портрет пользователя в каждом регионе"
      ]
    },
    {
      "cell_type": "code",
      "execution_count": null,
      "metadata": {
        "scrolled": true,
        "id": "MQ6d2CIM8Em2"
      },
      "outputs": [],
      "source": [
        "#Функция для построения круговой диаграммы в разрезе интересующего параметра\n",
        "def pie_chart(parametr):\n",
        "    region = ['na_sales', 'eu_sales', 'jp_sales']\n",
        "    for reg in region:\n",
        "        grafik=(data_filtr.pivot_table(index = parametr, values = reg, aggfunc = 'sum')\n",
        "                .sort_values(by=reg, ascending = False)\n",
        "                .head()\n",
        "                .plot(kind = 'pie', subplots = True, figsize = (5,5)))\n",
        "    return grafik"
      ]
    },
    {
      "cell_type": "code",
      "execution_count": null,
      "metadata": {
        "scrolled": true,
        "id": "NfHzlJSA8Em2",
        "outputId": "11d946e7-39ad-459c-e7d3-c70ae2c08323"
      },
      "outputs": [
        {
          "data": {
            "text/plain": [
              "''"
            ]
          },
          "execution_count": 38,
          "metadata": {},
          "output_type": "execute_result"
        },
        {
          "data": {
            "image/png": "[encoded data removed]",
            "text/plain": [
              "<Figure size 360x360 with 1 Axes>"
            ]
          },
          "metadata": {},
          "output_type": "display_data"
        },
        {
          "data": {
            "image/png": "[encoded data removed]",
            "text/plain": [
              "<Figure size 360x360 with 1 Axes>"
            ]
          },
          "metadata": {},
          "output_type": "display_data"
        },
        {
          "data": {
            "image/png": "[encoded data removed]",
            "text/plain": [
              "<Figure size 360x360 with 1 Axes>"
            ]
          },
          "metadata": {},
          "output_type": "display_data"
        }
      ],
      "source": [
        "#Построим круговые диаграммы для топа платформ\n",
        "pie_chart('platform')\n",
        ";"
      ]
    },
    {
      "cell_type": "markdown",
      "metadata": {
        "id": "r58gJJ_j8Em3"
      },
      "source": [
        "Графики показывают, что объемы продаж в зависимости от региона сильно разнятся.\n",
        "\n",
        "В Канаде наибольший объем продаж приходится на PS4, X360 и XOne.\n",
        "\n",
        "В Европе пользователи предпочтиают PS4 и PS3.\n",
        "\n",
        "В Японии половина всех продаж приходится на 3DS."
      ]
    },
    {
      "cell_type": "code",
      "execution_count": null,
      "metadata": {
        "scrolled": true,
        "id": "1J0wR58q8Em3",
        "outputId": "622124b7-4bd8-4386-d32a-2805b82924b2"
      },
      "outputs": [
        {
          "data": {
            "text/plain": [
              "''"
            ]
          },
          "execution_count": 39,
          "metadata": {},
          "output_type": "execute_result"
        },
        {
          "data": {
            "image/png": "[encoded data removed]",
            "text/plain": [
              "<Figure size 360x360 with 1 Axes>"
            ]
          },
          "metadata": {},
          "output_type": "display_data"
        },
        {
          "data": {
            "image/png": "[encoded data removed]",
            "text/plain": [
              "<Figure size 360x360 with 1 Axes>"
            ]
          },
          "metadata": {},
          "output_type": "display_data"
        },
        {
          "data": {
            "image/png": "[encoded data removed]",
            "text/plain": [
              "<Figure size 360x360 with 1 Axes>"
            ]
          },
          "metadata": {},
          "output_type": "display_data"
        }
      ],
      "source": [
        "#Построим круговые диаграммы для топа жанров\n",
        "pie_chart('genre')\n",
        ";"
      ]
    },
    {
      "cell_type": "markdown",
      "metadata": {
        "id": "dJ_YAbrg8Em3"
      },
      "source": [
        "Жанровые предпочтения для Канады и Европы совпадают: пользователи предпочитают экшн, стрелялки, спорт, ролевые и аркады.\n",
        "А в Японии больше любят именно ролевые игры."
      ]
    },
    {
      "cell_type": "code",
      "execution_count": null,
      "metadata": {
        "scrolled": true,
        "id": "8Y0x9wD48Em3",
        "outputId": "128f6931-969b-4bec-ee99-78338662837b"
      },
      "outputs": [
        {
          "data": {
            "text/plain": [
              "''"
            ]
          },
          "execution_count": 40,
          "metadata": {},
          "output_type": "execute_result"
        },
        {
          "data": {
            "image/png": "[encoded data removed]",
            "text/plain": [
              "<Figure size 360x360 with 1 Axes>"
            ]
          },
          "metadata": {},
          "output_type": "display_data"
        },
        {
          "data": {
            "image/png": "[encoded data removed]",
            "text/plain": [
              "<Figure size 360x360 with 1 Axes>"
            ]
          },
          "metadata": {},
          "output_type": "display_data"
        },
        {
          "data": {
            "image/png": "[encoded data removed]",
            "text/plain": [
              "<Figure size 360x360 with 1 Axes>"
            ]
          },
          "metadata": {},
          "output_type": "display_data"
        }
      ],
      "source": [
        "#Построим круговые диаграммы для топа рейтингов\n",
        "pie_chart('rating')\n",
        ";"
      ]
    },
    {
      "cell_type": "markdown",
      "metadata": {
        "id": "NUwh2GA18Em3"
      },
      "source": [
        "Расшифруем категории рейтингов, применяемых в ESRB:\n",
        "\n",
        "- «EC» («Early childhood») — «Для детей младшего возраста»\n",
        "- «E» («Everyone») — «Для всех»\n",
        "- «E10+» («Everyone 10 and older») — «Для всех от 10 лет и старше»\n",
        "- «T» («Teen») — «Подросткам»\n",
        "- «M» («Mature») — «Для взрослых»\n",
        "- «AO» («Adults Only 18+») — «Только для взрослых»\n",
        "- «RP» («Rating Pending») — «Рейтинг ожидается»"
      ]
    },
    {
      "cell_type": "markdown",
      "metadata": {
        "id": "chNJ6KLO8Em4"
      },
      "source": [
        "В связи с тем, что столбец с рейтингами содержит слишком много пропусков (область pass на графике), сделать какой-либо вывод о полноценном влиянии рейтингов на продажи довольно сложно, т.к. эти пропуски могут распределиться по всем видам рейтингов, а могут \"перетечь\" куда-то локально. Как-то категоризировать пропуски и заполнить отсутствующие рейтинги не представляется возможным. Но предварительно можно сделать следующие выводы:\n",
        "\n",
        "- в Японии больше всего продаются игры без рейтинга (возможно, в Японии просто не распространены те или иные категории рейтингов или введена собствнная система - не ESRB)\n",
        "- для остальных регионов пропуски в целом сопоставимы по объему продаж с другими категориями. Это также очень много.\n",
        "- если не брать во внимание пропуски, первое место в Канаде и Европе делят игры с меткой \"для взрослых\", а второе - игры \"для всех возрастов\". Это логично, т.к. \"взрослые\" - это наиболее платежеспособная аудитория, а игры для всех возрастов вообще не ограничены каким-либо возрастным цензом, соответственно, по сравнению с боле узкосегментированными категориями (например в сравнении с играми для детей младшего возраста) - у них просто шире потенциальный сегмент продаж."
      ]
    },
    {
      "cell_type": "markdown",
      "metadata": {
        "id": "xujRB7UB8Em8"
      },
      "source": [
        "## Проверка гипотез"
      ]
    },
    {
      "cell_type": "markdown",
      "metadata": {
        "id": "KDFCA7zD8Em8"
      },
      "source": [
        "Проверяем предположение \"Средние пользовательские рейтинги платформ Xbox One и PC одинаковые\"\n",
        "Для этого сформулируем нулевую гипотезу и альтернативную:\n",
        "\n",
        "Н0: \"средняя оценка пользователей платформы Xbox **одинакова** по отношению к средней пользовательской оценке платформы PC\"\n",
        "\n",
        "Н1: \"средняя оценка пользователей платформы Xbox **отличается** от средней пользовательской оценке платформы PC\""
      ]
    },
    {
      "cell_type": "code",
      "execution_count": null,
      "metadata": {
        "id": "hPGyrgwe8Em9",
        "outputId": "c5422415-6820-44c6-ec07-03136f44906c"
      },
      "outputs": [
        {
          "name": "stdout",
          "output_type": "stream",
          "text": [
            "p-значение: 0.2575598171387568\n",
            "Не получилось отвергнуть нулевую гипотезу\n"
          ]
        }
      ],
      "source": [
        "#Подготовим массив данных с пользовательскими оценками\n",
        "xbox = data_filtr.query('platform == \"XOne\"')['user_score'].dropna()\n",
        "ps = data_filtr.query('platform == \"PS4\"')['user_score'].dropna()\n",
        "#Зададим уровень значимости на уровне 5%\n",
        "alpha = 0.05\n",
        "#Проверим гипотезу\n",
        "results = st.ttest_ind(\n",
        "    xbox, \n",
        "    ps, \n",
        "    equal_var = False)\n",
        "\n",
        "print('p-значение:', results.pvalue)\n",
        "\n",
        "if results.pvalue < alpha:\n",
        "    print(\"Отвергаем нулевую гипотезу\")\n",
        "else:\n",
        "    print(\"Не получилось отвергнуть нулевую гипотезу\")"
      ]
    },
    {
      "cell_type": "markdown",
      "metadata": {
        "id": "7hS10NQ88Em-"
      },
      "source": [
        "Что мы только что сделали: мы не опровергли гипотезу о том, что средние пользовательские оценки xbox и ps равны.\n",
        "\n",
        "Мы расчитали p-value - это вероятность получить среднюю пользовательскую оценку по xbox равную или меньше средней пользовательской оценке по ps4 пр условии, что они одинаковы. И мы получили такую вероятность в 25%. При уровне значимости в 5% нулевая гипотеза не может быть отвергнута. Средние пользовательские оценки платформ схожи.\n",
        "\n",
        "Формулировка нулевой гипотезы всегда должна содержать в себе равенство (в нашем случае это сопоставление средних значений пользовательских оценок двух разных платформ). Другими словами, чтобы все данные лежали в районе изначально предполагаемого значения.\n",
        "\n",
        "Таким образом:\n",
        "Н0: \"средняя оценка пользователей платформы Xbox одинакова по отношению к средней пользовательской оценке платформы PC\"\n",
        "\n",
        "Н1: \"средняя оценка пользователей платформы Xbox отличается от средней пользовательской оценке платформы PC\"\n",
        "\n",
        "Почему выбрали именно метод st.ttest_ind:\n",
        "- мы работаем с двусторонней гипотезой\n",
        "- мы делаем сравнение двух совокупностей друг с другом, а не с числом (в этом случае применял бы метод st.ttest_1samp)\n",
        "- у нас не парная выборка до/после (в этом случае применяли бы метод st.ttest_rel)\n",
        "- у нас разные размеры выборок, поэтому equal_var = False"
      ]
    },
    {
      "cell_type": "code",
      "execution_count": null,
      "metadata": {
        "id": "jkIMtptK8Em-",
        "outputId": "afe47707-f75a-431b-f7b8-095ee517c815"
      },
      "outputs": [
        {
          "data": {
            "text/plain": [
              "(6.086764705882352, 6.446892655367231)"
            ]
          },
          "execution_count": 54,
          "metadata": {},
          "output_type": "execute_result"
        }
      ],
      "source": [
        "#Попробуем убедиться в выводах на основе реальных данных\n",
        "data_filtr.query('platform == \"X360\"')['user_score'].mean() , data_filtr.query('platform == \"PS3\"')['user_score'].mean()"
      ]
    },
    {
      "cell_type": "markdown",
      "metadata": {
        "id": "mf4q-Toh8Em-"
      },
      "source": [
        "Проверяем следующее предположение \"Средние пользовательские рейтинги жанров Action и Sports разные\" Для этого сформулируем нулевую гипотезу и альтернативную:\n",
        "\n",
        "Н0: \"средняя оценка пользователей игр жанра Action **одинакова** по отношению к средней пользовательской оценке игр жанра Sports\"\n",
        "\n",
        "Н1: \"средняя оценка пользователей игр жанра Action **отличается** от средней пользовательской оценке игр жанра Sports\""
      ]
    },
    {
      "cell_type": "code",
      "execution_count": null,
      "metadata": {
        "id": "2tCN4E1J8Em-",
        "outputId": "ac52733b-d6f7-4854-d2c3-932e40c92f30"
      },
      "outputs": [
        {
          "name": "stdout",
          "output_type": "stream",
          "text": [
            "p-значение: 3.5076737062533423e-19\n",
            "Отвергаем нулевую гипотезу\n"
          ]
        }
      ],
      "source": [
        "#Подготовим массив данных с пользовательскими оценками\n",
        "action = data_filtr.query('genre == \"Action\"')['user_score'].dropna()\n",
        "sports = data_filtr.query('genre == \"Sports\"')['user_score'].dropna()\n",
        "#Зададим уровень значимости на уровне 5%\n",
        "alpha = 0.05\n",
        "#Проверим гипотезу\n",
        "results = st.ttest_ind(\n",
        "    action, \n",
        "    sports,\n",
        "    equal_var = False)\n",
        "\n",
        "print('p-значение:', results.pvalue)\n",
        "\n",
        "if results.pvalue < alpha:\n",
        "    print(\"Отвергаем нулевую гипотезу\")\n",
        "else:\n",
        "    print(\"Не получилось отвергнуть нулевую гипотезу\")"
      ]
    },
    {
      "cell_type": "markdown",
      "metadata": {
        "id": "F1pu_krC8Em_"
      },
      "source": [
        "Что мы только что сделали: мы опровергли гипотезу о том, что средние пользовательские оценки жанров экшн и спорт равны. \n",
        "\n",
        "p-value в данном случае крайне мала. При условии, что средние пользовательские оценки жанров экшн и спорт равны мы практически не можем получить такое совпадение. Соответственно средние пользовательские оценки жанров разные.\n",
        "\n",
        "Поэтому если вернуться к формулировке задания \"средние пользовательские рейтинги жанров Action и Sports разные\" - да, это так.\n",
        "\n",
        "Для работы мы выбрали тот же метод, причины те же.\n"
      ]
    },
    {
      "cell_type": "code",
      "execution_count": null,
      "metadata": {
        "id": "5X77_zb38Em_",
        "outputId": "a283bfac-ec24-4a0e-eb04-6097d159a45c"
      },
      "outputs": [
        {
          "data": {
            "text/plain": [
              "(6.8930921052631575, 5.1796747967479675)"
            ]
          },
          "execution_count": 56,
          "metadata": {},
          "output_type": "execute_result"
        }
      ],
      "source": [
        "#Попробуем убедиться в выdодах на основе реальных данных\n",
        "data_filtr.query('genre == \"Action\"')['user_score'].mean() , data_filtr.query('genre == \"Sports\"')['user_score'].mean()"
      ]
    },
    {
      "cell_type": "markdown",
      "metadata": {
        "id": "YHpZQFMW8EnA"
      },
      "source": [
        "## Вывод"
      ]
    },
    {
      "cell_type": "markdown",
      "metadata": {
        "id": "_dVP9iDw8EnA"
      },
      "source": [
        "Мы провели исследование по ретроспективным данным о продажах игр в разных регионах. Целью было выявить наиболее перспективные направления индустрии для планирования рекламных компаний в интернет-магазине.\n",
        "\n",
        "Какие выводы об исходных данных мы можем сделать:\n",
        "- для того, чтобы иметь возможность планировать какие-либо мероприятия, необходима релевантная выборка данных. Таким образом, мы отбросили наиболее старые данные об играх, т.к. они могли исказить итоговые результаты. Кроме того, в нашем распоряжении были данные не за весь 2016 год, что давало бы показатели \"хуже\", чем годом ранее, поэтому \"хвост\" данных мы также отбросили, оставив 2013-2015 года для анализа.\n",
        "- данные содержали пропуски, в частности в названиях игр и в жанрах. Хоть этих данных было и не много, но баг-репорт составить можно. Мое предположение - что это именно техническая ошибка выгрузки.\n",
        "- пропуски в столбце с рейтингом, в частности по Японии, указывают на то, что в регионе, вероятно, иная система возрастных цензов. Хотя техническую ошибку тоже исключать нельзя.\n",
        "- пропуски в пользовательских оценках и оценках критиков; какие-либо закономерности с исходными данными не были исследованы и выявлены, но тот факт, что пропуски отсутствовали в переменных довольно сильно взаимосвязанных друг с другом весьма любопытен. Кроме того, в выгрузке присутствовали игры, которые только вышли (на это указывали неполные данные за 2016 год, столбец с рейтингом в категории \"на стадии формирования\", а также первичное заполнение некоторых пользовательских оценок значением tbd).\n",
        "- **оценки критиков и пользователей практически никак не влияют на продажи.**\n",
        "\n",
        "Что стоит учесть при планировании в интернет-магазине:\n",
        "- самый \"расцвет\" эпохи игр приходился на период с 2005 по 2012 годы. С каждым последующим годом выпускается все меньше игр, новых платформ не выпускают - вероятно пользователи предпочитают иначе разнообразить свой досуг. Поэтому интернет-магазину следовало бы рассмотреть альтернативные ветки развития бизнеса.\n",
        "- среди лидеров платформ по объему проданных копий можно выделить 2: **XOne и PS4 - показывают рост объема продаж в 2014 и 2015 году. При появлении новостей о выпусках новых платформ можно было бы сделать ставку именно на новинки, т.к. они быстро набирают популярность и высокими темпами увеличивают объем продаж.\n",
        "- **наиболее популярные жанры среди всех пользователей - стрелялки. Этот жанр лидирует по продажам два года подряд. Наименее перспективные с точки зрения объема продаж - стратегии и приключения**\n",
        "- **При будущем планировании интернет-магазину стоит учесть также, что жанровые предпочтения аудитории разнятся в зависимости от территориальной принадлежности. Так например Европа и Канада имеют похожие вкусы, а геймеры Японии отдают предпочтения другим жанрам.** Т.к. не сказано, что исходный массив данных - это выгрузка именно в разрезе деятельности \"Стримчика\", интернет магазину необходимо исследовать жанровые предпочтения именно своей аудитории.\n",
        "- аналогичным образом - в зависимости от территории - различаются предпочтения пользователей по платформам. Поэтому в этом разрезе исследования совет \"Стримчику\" анаологичен предыдущему пункту.\n",
        "- что касается возрастного ценза и рейтинга ESRB: по имеющимся данным сложно сделать какой-либо вывод о зависимости объема прдаж при разном рейтинге. Однако логично, что **игры для взрослой аудитории будут более востребованы.\n",
        "- **средние пользовательские оценки разнятся в зависимости от жанров, для платформ они схожи - мы убедились в этом на этапе проверки гипотез (по крайней мере для пар, которые мы проверили); но т.к. этот показатель (пользовательские оценки) слабо коррелирует с объемом продаж, оценками пользователей можно пренебречь при планировании**"
      ]
    }
  ],
  "metadata": {
    "ExecuteTimeLog": [
      {
        "duration": 452,
        "start_time": "2022-11-14T17:10:19.500Z"
      },
      {
        "duration": 91,
        "start_time": "2022-11-14T17:10:45.528Z"
      },
      {
        "duration": 15,
        "start_time": "2022-11-14T17:10:55.146Z"
      },
      {
        "duration": 21,
        "start_time": "2022-11-14T17:15:38.041Z"
      },
      {
        "duration": 1341,
        "start_time": "2022-11-14T17:19:44.697Z"
      },
      {
        "duration": 835,
        "start_time": "2022-11-14T17:20:09.697Z"
      },
      {
        "duration": 768,
        "start_time": "2022-11-14T17:20:22.060Z"
      },
      {
        "duration": 935,
        "start_time": "2022-11-14T17:20:31.662Z"
      },
      {
        "duration": 1433,
        "start_time": "2022-11-14T17:20:42.055Z"
      },
      {
        "duration": 19,
        "start_time": "2022-11-14T17:22:33.626Z"
      },
      {
        "duration": 18,
        "start_time": "2022-11-14T17:23:38.830Z"
      },
      {
        "duration": 498,
        "start_time": "2022-11-14T17:23:59.831Z"
      },
      {
        "duration": 754,
        "start_time": "2022-11-14T17:24:05.024Z"
      },
      {
        "duration": 1186,
        "start_time": "2022-11-14T17:24:14.018Z"
      },
      {
        "duration": 33,
        "start_time": "2022-11-14T17:28:40.931Z"
      },
      {
        "duration": 81,
        "start_time": "2022-11-14T17:30:51.050Z"
      },
      {
        "duration": 28,
        "start_time": "2022-11-14T17:31:06.494Z"
      },
      {
        "duration": 25,
        "start_time": "2022-11-14T17:31:12.980Z"
      },
      {
        "duration": 25,
        "start_time": "2022-11-14T17:31:21.159Z"
      },
      {
        "duration": 24,
        "start_time": "2022-11-14T17:31:27.780Z"
      },
      {
        "duration": 9,
        "start_time": "2022-11-14T17:44:58.291Z"
      },
      {
        "duration": 5,
        "start_time": "2022-11-14T17:46:16.243Z"
      },
      {
        "duration": 7,
        "start_time": "2022-11-14T17:46:47.191Z"
      },
      {
        "duration": 6,
        "start_time": "2022-11-14T17:46:53.417Z"
      },
      {
        "duration": 7,
        "start_time": "2022-11-14T17:46:56.028Z"
      },
      {
        "duration": 4,
        "start_time": "2022-11-14T17:46:59.491Z"
      },
      {
        "duration": 6,
        "start_time": "2022-11-14T17:51:05.927Z"
      },
      {
        "duration": 8,
        "start_time": "2022-11-14T17:55:04.769Z"
      },
      {
        "duration": 4,
        "start_time": "2022-11-14T17:55:45.626Z"
      },
      {
        "duration": 8,
        "start_time": "2022-11-14T17:55:46.058Z"
      },
      {
        "duration": 7,
        "start_time": "2022-11-14T17:57:16.375Z"
      },
      {
        "duration": 6,
        "start_time": "2022-11-14T17:57:22.595Z"
      },
      {
        "duration": 15,
        "start_time": "2022-11-14T17:58:20.076Z"
      },
      {
        "duration": 11,
        "start_time": "2022-11-14T17:59:13.695Z"
      },
      {
        "duration": 17,
        "start_time": "2022-11-14T18:08:20.123Z"
      },
      {
        "duration": 33,
        "start_time": "2022-11-14T18:08:31.817Z"
      },
      {
        "duration": 13,
        "start_time": "2022-11-14T18:08:53.479Z"
      },
      {
        "duration": 14,
        "start_time": "2022-11-14T18:12:34.710Z"
      },
      {
        "duration": 14,
        "start_time": "2022-11-14T18:20:02.291Z"
      },
      {
        "duration": 13,
        "start_time": "2022-11-14T18:22:42.056Z"
      },
      {
        "duration": 3,
        "start_time": "2022-11-14T18:23:04.538Z"
      },
      {
        "duration": 50,
        "start_time": "2022-11-15T04:30:50.404Z"
      },
      {
        "duration": 423,
        "start_time": "2022-11-15T04:30:58.103Z"
      },
      {
        "duration": 196,
        "start_time": "2022-11-15T04:30:58.528Z"
      },
      {
        "duration": 17,
        "start_time": "2022-11-15T04:30:58.726Z"
      },
      {
        "duration": 31,
        "start_time": "2022-11-15T04:30:58.746Z"
      },
      {
        "duration": 1208,
        "start_time": "2022-11-15T04:30:58.779Z"
      },
      {
        "duration": 5,
        "start_time": "2022-11-15T04:30:59.989Z"
      },
      {
        "duration": 19,
        "start_time": "2022-11-15T04:30:59.996Z"
      },
      {
        "duration": 114,
        "start_time": "2022-11-15T04:31:00.017Z"
      },
      {
        "duration": 0,
        "start_time": "2022-11-15T04:31:00.133Z"
      },
      {
        "duration": 0,
        "start_time": "2022-11-15T04:31:00.135Z"
      },
      {
        "duration": 0,
        "start_time": "2022-11-15T04:31:00.136Z"
      },
      {
        "duration": 25,
        "start_time": "2022-11-15T04:31:37.024Z"
      },
      {
        "duration": 19,
        "start_time": "2022-11-15T04:31:49.208Z"
      },
      {
        "duration": 10,
        "start_time": "2022-11-15T04:34:06.075Z"
      },
      {
        "duration": 15,
        "start_time": "2022-11-15T04:34:20.225Z"
      },
      {
        "duration": 15,
        "start_time": "2022-11-15T04:34:50.571Z"
      },
      {
        "duration": 433,
        "start_time": "2022-11-15T04:35:00.322Z"
      },
      {
        "duration": 52,
        "start_time": "2022-11-15T04:35:00.757Z"
      },
      {
        "duration": 18,
        "start_time": "2022-11-15T04:35:00.811Z"
      },
      {
        "duration": 48,
        "start_time": "2022-11-15T04:35:00.831Z"
      },
      {
        "duration": 968,
        "start_time": "2022-11-15T04:35:00.881Z"
      },
      {
        "duration": 5,
        "start_time": "2022-11-15T04:35:01.851Z"
      },
      {
        "duration": 166,
        "start_time": "2022-11-15T04:35:01.857Z"
      },
      {
        "duration": 145,
        "start_time": "2022-11-15T04:35:02.025Z"
      },
      {
        "duration": 77,
        "start_time": "2022-11-15T04:35:02.172Z"
      },
      {
        "duration": 84,
        "start_time": "2022-11-15T04:35:02.252Z"
      },
      {
        "duration": 43,
        "start_time": "2022-11-15T04:35:02.339Z"
      },
      {
        "duration": 20,
        "start_time": "2022-11-15T04:36:31.179Z"
      },
      {
        "duration": 20,
        "start_time": "2022-11-15T04:36:36.973Z"
      },
      {
        "duration": 20,
        "start_time": "2022-11-15T04:36:47.508Z"
      },
      {
        "duration": 23,
        "start_time": "2022-11-15T04:37:26.564Z"
      },
      {
        "duration": 23,
        "start_time": "2022-11-15T04:37:34.780Z"
      },
      {
        "duration": 102,
        "start_time": "2022-11-15T04:38:51.325Z"
      },
      {
        "duration": 28,
        "start_time": "2022-11-15T04:38:56.686Z"
      },
      {
        "duration": 26,
        "start_time": "2022-11-15T04:39:07.076Z"
      },
      {
        "duration": 34,
        "start_time": "2022-11-15T04:39:12.093Z"
      },
      {
        "duration": 228,
        "start_time": "2022-11-15T04:39:42.399Z"
      },
      {
        "duration": 24,
        "start_time": "2022-11-15T04:39:59.286Z"
      },
      {
        "duration": 27,
        "start_time": "2022-11-15T04:40:38.054Z"
      },
      {
        "duration": 37,
        "start_time": "2022-11-15T04:40:44.198Z"
      },
      {
        "duration": 28,
        "start_time": "2022-11-15T04:40:50.775Z"
      },
      {
        "duration": 29,
        "start_time": "2022-11-15T04:40:55.071Z"
      },
      {
        "duration": 28,
        "start_time": "2022-11-15T04:41:02.222Z"
      },
      {
        "duration": 30,
        "start_time": "2022-11-15T04:41:11.759Z"
      },
      {
        "duration": 42,
        "start_time": "2022-11-15T04:41:19.863Z"
      },
      {
        "duration": 39,
        "start_time": "2022-11-15T04:41:27.991Z"
      },
      {
        "duration": 39,
        "start_time": "2022-11-15T04:41:32.927Z"
      },
      {
        "duration": 43,
        "start_time": "2022-11-15T04:41:36.407Z"
      },
      {
        "duration": 28,
        "start_time": "2022-11-15T04:41:39.774Z"
      },
      {
        "duration": 39,
        "start_time": "2022-11-15T04:41:42.941Z"
      },
      {
        "duration": 30,
        "start_time": "2022-11-15T04:41:48.255Z"
      },
      {
        "duration": 28,
        "start_time": "2022-11-15T04:41:52.774Z"
      },
      {
        "duration": 29,
        "start_time": "2022-11-15T04:41:59.055Z"
      },
      {
        "duration": 29,
        "start_time": "2022-11-15T04:42:03.999Z"
      },
      {
        "duration": 29,
        "start_time": "2022-11-15T04:42:06.911Z"
      },
      {
        "duration": 31,
        "start_time": "2022-11-15T04:42:10.295Z"
      },
      {
        "duration": 30,
        "start_time": "2022-11-15T04:42:13.326Z"
      },
      {
        "duration": 15,
        "start_time": "2022-11-15T04:46:00.941Z"
      },
      {
        "duration": 6,
        "start_time": "2022-11-15T04:46:12.938Z"
      },
      {
        "duration": 14,
        "start_time": "2022-11-15T04:46:23.434Z"
      },
      {
        "duration": 24,
        "start_time": "2022-11-15T04:46:37.682Z"
      },
      {
        "duration": 8,
        "start_time": "2022-11-15T04:46:42.522Z"
      },
      {
        "duration": 25,
        "start_time": "2022-11-15T04:52:22.447Z"
      },
      {
        "duration": 28,
        "start_time": "2022-11-15T04:52:28.833Z"
      },
      {
        "duration": 18,
        "start_time": "2022-11-15T04:52:45.199Z"
      },
      {
        "duration": 6,
        "start_time": "2022-11-15T04:52:51.711Z"
      },
      {
        "duration": 10,
        "start_time": "2022-11-15T04:52:55.438Z"
      },
      {
        "duration": 35,
        "start_time": "2022-11-15T05:00:58.708Z"
      },
      {
        "duration": 37,
        "start_time": "2022-11-15T05:01:06.534Z"
      },
      {
        "duration": 12,
        "start_time": "2022-11-15T05:01:33.788Z"
      },
      {
        "duration": 27,
        "start_time": "2022-11-15T05:01:47.901Z"
      },
      {
        "duration": 26,
        "start_time": "2022-11-15T05:01:56.900Z"
      },
      {
        "duration": 14,
        "start_time": "2022-11-15T05:02:16.981Z"
      },
      {
        "duration": 14,
        "start_time": "2022-11-15T05:02:34.301Z"
      },
      {
        "duration": 12,
        "start_time": "2022-11-15T05:02:55.084Z"
      },
      {
        "duration": 11,
        "start_time": "2022-11-15T05:04:07.670Z"
      },
      {
        "duration": 13,
        "start_time": "2022-11-15T05:04:19.406Z"
      },
      {
        "duration": 33,
        "start_time": "2022-11-15T05:04:22.094Z"
      },
      {
        "duration": 34,
        "start_time": "2022-11-15T05:04:27.399Z"
      },
      {
        "duration": 28,
        "start_time": "2022-11-15T05:06:18.160Z"
      },
      {
        "duration": 383,
        "start_time": "2022-11-15T05:06:24.947Z"
      },
      {
        "duration": 57,
        "start_time": "2022-11-15T05:06:25.332Z"
      },
      {
        "duration": 15,
        "start_time": "2022-11-15T05:06:25.391Z"
      },
      {
        "duration": 22,
        "start_time": "2022-11-15T05:06:25.408Z"
      },
      {
        "duration": 1069,
        "start_time": "2022-11-15T05:06:25.432Z"
      },
      {
        "duration": 11,
        "start_time": "2022-11-15T05:06:26.504Z"
      },
      {
        "duration": 22,
        "start_time": "2022-11-15T05:06:26.517Z"
      },
      {
        "duration": 37,
        "start_time": "2022-11-15T05:06:26.541Z"
      },
      {
        "duration": 25,
        "start_time": "2022-11-15T05:06:26.580Z"
      },
      {
        "duration": 18,
        "start_time": "2022-11-15T05:06:26.608Z"
      },
      {
        "duration": 24,
        "start_time": "2022-11-15T05:06:26.628Z"
      },
      {
        "duration": 15,
        "start_time": "2022-11-15T05:06:40.002Z"
      },
      {
        "duration": 10,
        "start_time": "2022-11-15T05:07:41.883Z"
      },
      {
        "duration": 16,
        "start_time": "2022-11-15T05:08:15.136Z"
      },
      {
        "duration": 410,
        "start_time": "2022-11-15T05:08:20.728Z"
      },
      {
        "duration": 55,
        "start_time": "2022-11-15T05:08:21.140Z"
      },
      {
        "duration": 14,
        "start_time": "2022-11-15T05:08:21.197Z"
      },
      {
        "duration": 22,
        "start_time": "2022-11-15T05:08:21.214Z"
      },
      {
        "duration": 1034,
        "start_time": "2022-11-15T05:08:21.237Z"
      },
      {
        "duration": 4,
        "start_time": "2022-11-15T05:08:22.272Z"
      },
      {
        "duration": 10,
        "start_time": "2022-11-15T05:08:22.278Z"
      },
      {
        "duration": 33,
        "start_time": "2022-11-15T05:08:22.289Z"
      },
      {
        "duration": 9,
        "start_time": "2022-11-15T05:08:22.324Z"
      },
      {
        "duration": 23,
        "start_time": "2022-11-15T05:08:22.336Z"
      },
      {
        "duration": 19,
        "start_time": "2022-11-15T05:08:22.361Z"
      },
      {
        "duration": 5,
        "start_time": "2022-11-15T05:12:55.327Z"
      },
      {
        "duration": 383,
        "start_time": "2022-11-15T15:00:15.459Z"
      },
      {
        "duration": 210,
        "start_time": "2022-11-15T15:00:15.844Z"
      },
      {
        "duration": 17,
        "start_time": "2022-11-15T15:00:16.056Z"
      },
      {
        "duration": 27,
        "start_time": "2022-11-15T15:00:16.075Z"
      },
      {
        "duration": 1205,
        "start_time": "2022-11-15T15:00:16.104Z"
      },
      {
        "duration": 5,
        "start_time": "2022-11-15T15:00:17.311Z"
      },
      {
        "duration": 18,
        "start_time": "2022-11-15T15:00:17.318Z"
      },
      {
        "duration": 17,
        "start_time": "2022-11-15T15:00:17.338Z"
      },
      {
        "duration": 11,
        "start_time": "2022-11-15T15:00:17.357Z"
      },
      {
        "duration": 6,
        "start_time": "2022-11-15T15:00:17.371Z"
      },
      {
        "duration": 11,
        "start_time": "2022-11-15T15:00:17.414Z"
      },
      {
        "duration": 46,
        "start_time": "2022-11-15T15:00:17.427Z"
      },
      {
        "duration": 5,
        "start_time": "2022-11-15T15:00:17.476Z"
      },
      {
        "duration": 9,
        "start_time": "2022-11-15T15:11:09.995Z"
      },
      {
        "duration": 10,
        "start_time": "2022-11-15T15:19:57.505Z"
      },
      {
        "duration": 9,
        "start_time": "2022-11-15T15:20:00.370Z"
      },
      {
        "duration": 409,
        "start_time": "2022-11-15T15:20:16.844Z"
      },
      {
        "duration": 55,
        "start_time": "2022-11-15T15:20:17.255Z"
      },
      {
        "duration": 16,
        "start_time": "2022-11-15T15:20:17.312Z"
      },
      {
        "duration": 33,
        "start_time": "2022-11-15T15:20:17.330Z"
      },
      {
        "duration": 1003,
        "start_time": "2022-11-15T15:20:17.365Z"
      },
      {
        "duration": 5,
        "start_time": "2022-11-15T15:20:18.370Z"
      },
      {
        "duration": 9,
        "start_time": "2022-11-15T15:20:18.377Z"
      },
      {
        "duration": 31,
        "start_time": "2022-11-15T15:20:18.388Z"
      },
      {
        "duration": 8,
        "start_time": "2022-11-15T15:20:18.421Z"
      },
      {
        "duration": 23,
        "start_time": "2022-11-15T15:20:18.432Z"
      },
      {
        "duration": 16,
        "start_time": "2022-11-15T15:34:42.135Z"
      },
      {
        "duration": 73,
        "start_time": "2022-11-15T15:40:17.707Z"
      },
      {
        "duration": 11,
        "start_time": "2022-11-15T15:40:42.185Z"
      },
      {
        "duration": 6,
        "start_time": "2022-11-15T15:40:49.571Z"
      },
      {
        "duration": 40,
        "start_time": "2022-11-15T15:41:20.249Z"
      },
      {
        "duration": 79,
        "start_time": "2022-11-15T15:41:32.182Z"
      },
      {
        "duration": 50,
        "start_time": "2022-11-15T15:42:25.742Z"
      },
      {
        "duration": 45,
        "start_time": "2022-11-15T15:42:34.840Z"
      },
      {
        "duration": 11,
        "start_time": "2022-11-15T15:42:49.974Z"
      },
      {
        "duration": 20,
        "start_time": "2022-11-15T15:44:48.548Z"
      },
      {
        "duration": 25,
        "start_time": "2022-11-15T15:49:24.351Z"
      },
      {
        "duration": 12,
        "start_time": "2022-11-15T15:50:08.801Z"
      },
      {
        "duration": 29,
        "start_time": "2022-11-15T15:50:28.646Z"
      },
      {
        "duration": 41,
        "start_time": "2022-11-15T15:51:15.852Z"
      },
      {
        "duration": 16,
        "start_time": "2022-11-15T15:51:23.197Z"
      },
      {
        "duration": 414,
        "start_time": "2022-11-15T15:51:55.620Z"
      },
      {
        "duration": 55,
        "start_time": "2022-11-15T15:51:56.036Z"
      },
      {
        "duration": 14,
        "start_time": "2022-11-15T15:51:56.094Z"
      },
      {
        "duration": 22,
        "start_time": "2022-11-15T15:51:56.111Z"
      },
      {
        "duration": 1101,
        "start_time": "2022-11-15T15:51:56.135Z"
      },
      {
        "duration": 15,
        "start_time": "2022-11-15T15:51:57.238Z"
      },
      {
        "duration": 68,
        "start_time": "2022-11-15T15:51:57.255Z"
      },
      {
        "duration": 29,
        "start_time": "2022-11-15T15:51:57.324Z"
      },
      {
        "duration": 32,
        "start_time": "2022-11-15T15:51:57.355Z"
      },
      {
        "duration": 26,
        "start_time": "2022-11-15T15:51:57.389Z"
      },
      {
        "duration": 37,
        "start_time": "2022-11-15T15:51:57.416Z"
      },
      {
        "duration": 36,
        "start_time": "2022-11-15T15:51:57.454Z"
      },
      {
        "duration": 26,
        "start_time": "2022-11-15T15:53:32.947Z"
      },
      {
        "duration": 8,
        "start_time": "2022-11-15T15:54:54.020Z"
      },
      {
        "duration": 6,
        "start_time": "2022-11-15T15:55:26.637Z"
      },
      {
        "duration": 463,
        "start_time": "2022-11-15T15:55:34.572Z"
      },
      {
        "duration": 57,
        "start_time": "2022-11-15T15:55:35.037Z"
      },
      {
        "duration": 17,
        "start_time": "2022-11-15T15:55:35.096Z"
      },
      {
        "duration": 22,
        "start_time": "2022-11-15T15:55:35.116Z"
      },
      {
        "duration": 1010,
        "start_time": "2022-11-15T15:55:35.139Z"
      },
      {
        "duration": 5,
        "start_time": "2022-11-15T15:55:36.151Z"
      },
      {
        "duration": 11,
        "start_time": "2022-11-15T15:55:36.157Z"
      },
      {
        "duration": 17,
        "start_time": "2022-11-15T15:55:36.170Z"
      },
      {
        "duration": 30,
        "start_time": "2022-11-15T15:55:36.189Z"
      },
      {
        "duration": 12,
        "start_time": "2022-11-15T15:55:36.222Z"
      },
      {
        "duration": 21,
        "start_time": "2022-11-15T15:55:36.236Z"
      },
      {
        "duration": 29,
        "start_time": "2022-11-15T15:55:36.259Z"
      },
      {
        "duration": 18,
        "start_time": "2022-11-15T15:55:56.911Z"
      },
      {
        "duration": 168,
        "start_time": "2022-11-15T15:56:50.942Z"
      },
      {
        "duration": 251,
        "start_time": "2022-11-15T15:57:04.081Z"
      },
      {
        "duration": 17,
        "start_time": "2022-11-15T16:40:09.894Z"
      },
      {
        "duration": 18,
        "start_time": "2022-11-15T16:41:06.825Z"
      },
      {
        "duration": 48,
        "start_time": "2022-11-15T16:41:35.816Z"
      },
      {
        "duration": 18,
        "start_time": "2022-11-15T16:41:54.633Z"
      },
      {
        "duration": 15,
        "start_time": "2022-11-15T16:42:15.392Z"
      },
      {
        "duration": 17,
        "start_time": "2022-11-15T16:42:27.357Z"
      },
      {
        "duration": 17,
        "start_time": "2022-11-15T16:42:34.624Z"
      },
      {
        "duration": 99,
        "start_time": "2022-11-15T16:53:16.129Z"
      },
      {
        "duration": 17,
        "start_time": "2022-11-15T16:53:31.032Z"
      },
      {
        "duration": 22,
        "start_time": "2022-11-15T16:53:36.331Z"
      },
      {
        "duration": 20,
        "start_time": "2022-11-15T16:54:03.352Z"
      },
      {
        "duration": 17,
        "start_time": "2022-11-15T16:54:54.456Z"
      },
      {
        "duration": 44,
        "start_time": "2022-11-15T16:56:49.340Z"
      },
      {
        "duration": 9,
        "start_time": "2022-11-15T16:56:55.141Z"
      },
      {
        "duration": 50,
        "start_time": "2022-11-15T16:57:23.412Z"
      },
      {
        "duration": 18,
        "start_time": "2022-11-15T16:58:03.182Z"
      },
      {
        "duration": 167,
        "start_time": "2022-11-15T16:58:36.044Z"
      },
      {
        "duration": 24,
        "start_time": "2022-11-15T16:58:58.497Z"
      },
      {
        "duration": 157,
        "start_time": "2022-11-15T16:59:08.881Z"
      },
      {
        "duration": 19,
        "start_time": "2022-11-15T16:59:23.270Z"
      },
      {
        "duration": 9,
        "start_time": "2022-11-15T17:00:31.916Z"
      },
      {
        "duration": 15,
        "start_time": "2022-11-15T17:00:46.615Z"
      },
      {
        "duration": 793,
        "start_time": "2022-11-15T17:00:49.504Z"
      },
      {
        "duration": 981,
        "start_time": "2022-11-15T17:01:14.646Z"
      },
      {
        "duration": 11,
        "start_time": "2022-11-15T17:01:25.420Z"
      },
      {
        "duration": 12,
        "start_time": "2022-11-15T17:01:43.456Z"
      },
      {
        "duration": 2,
        "start_time": "2022-11-15T17:01:48.848Z"
      },
      {
        "duration": 17,
        "start_time": "2022-11-15T17:02:19.060Z"
      },
      {
        "duration": 18,
        "start_time": "2022-11-15T17:04:05.469Z"
      },
      {
        "duration": 21,
        "start_time": "2022-11-15T17:04:10.205Z"
      },
      {
        "duration": 14,
        "start_time": "2022-11-15T17:09:04.942Z"
      },
      {
        "duration": 13,
        "start_time": "2022-11-15T17:09:35.662Z"
      },
      {
        "duration": 14,
        "start_time": "2022-11-15T17:09:44.947Z"
      },
      {
        "duration": 38,
        "start_time": "2022-11-15T17:12:04.896Z"
      },
      {
        "duration": 36,
        "start_time": "2022-11-15T17:12:07.365Z"
      },
      {
        "duration": 767,
        "start_time": "2022-11-15T17:12:43.134Z"
      },
      {
        "duration": 744,
        "start_time": "2022-11-15T17:12:57.181Z"
      },
      {
        "duration": 833,
        "start_time": "2022-11-15T17:14:05.465Z"
      },
      {
        "duration": 743,
        "start_time": "2022-11-15T17:17:53.044Z"
      },
      {
        "duration": 18,
        "start_time": "2022-11-15T17:18:25.386Z"
      },
      {
        "duration": 939,
        "start_time": "2022-11-15T17:18:33.226Z"
      },
      {
        "duration": 718,
        "start_time": "2022-11-15T17:18:59.001Z"
      },
      {
        "duration": 432,
        "start_time": "2022-11-16T03:57:20.994Z"
      },
      {
        "duration": 211,
        "start_time": "2022-11-16T03:57:21.428Z"
      },
      {
        "duration": 14,
        "start_time": "2022-11-16T03:57:21.641Z"
      },
      {
        "duration": 20,
        "start_time": "2022-11-16T03:57:21.657Z"
      },
      {
        "duration": 1106,
        "start_time": "2022-11-16T03:57:21.679Z"
      },
      {
        "duration": 4,
        "start_time": "2022-11-16T03:57:22.787Z"
      },
      {
        "duration": 19,
        "start_time": "2022-11-16T03:57:22.793Z"
      },
      {
        "duration": 14,
        "start_time": "2022-11-16T03:57:22.814Z"
      },
      {
        "duration": 10,
        "start_time": "2022-11-16T03:57:22.830Z"
      },
      {
        "duration": 11,
        "start_time": "2022-11-16T03:57:22.842Z"
      },
      {
        "duration": 18,
        "start_time": "2022-11-16T03:57:22.855Z"
      },
      {
        "duration": 231,
        "start_time": "2022-11-16T03:57:22.875Z"
      },
      {
        "duration": 13,
        "start_time": "2022-11-16T03:57:23.107Z"
      },
      {
        "duration": 708,
        "start_time": "2022-11-16T03:57:23.122Z"
      },
      {
        "duration": 24,
        "start_time": "2022-11-16T03:59:34.772Z"
      },
      {
        "duration": 24,
        "start_time": "2022-11-16T03:59:55.337Z"
      },
      {
        "duration": 183,
        "start_time": "2022-11-16T04:07:01.640Z"
      },
      {
        "duration": 6,
        "start_time": "2022-11-16T04:18:58.649Z"
      },
      {
        "duration": 8,
        "start_time": "2022-11-16T04:19:04.147Z"
      },
      {
        "duration": 84,
        "start_time": "2022-11-16T04:19:36.779Z"
      },
      {
        "duration": 7,
        "start_time": "2022-11-16T04:19:41.709Z"
      },
      {
        "duration": 4,
        "start_time": "2022-11-16T04:20:09.317Z"
      },
      {
        "duration": 8,
        "start_time": "2022-11-16T04:20:09.908Z"
      },
      {
        "duration": 24,
        "start_time": "2022-11-16T04:20:58.363Z"
      },
      {
        "duration": 13,
        "start_time": "2022-11-16T04:21:15.764Z"
      },
      {
        "duration": 4,
        "start_time": "2022-11-16T04:23:38.929Z"
      },
      {
        "duration": 8,
        "start_time": "2022-11-16T04:23:42.384Z"
      },
      {
        "duration": 5,
        "start_time": "2022-11-16T04:24:26.050Z"
      },
      {
        "duration": 24,
        "start_time": "2022-11-16T04:24:26.597Z"
      },
      {
        "duration": 4,
        "start_time": "2022-11-16T04:24:54.727Z"
      },
      {
        "duration": 8,
        "start_time": "2022-11-16T04:24:55.305Z"
      },
      {
        "duration": 4,
        "start_time": "2022-11-16T04:25:00.886Z"
      },
      {
        "duration": 23,
        "start_time": "2022-11-16T04:25:01.662Z"
      },
      {
        "duration": 5,
        "start_time": "2022-11-16T04:25:11.723Z"
      },
      {
        "duration": 25,
        "start_time": "2022-11-16T04:25:12.165Z"
      },
      {
        "duration": 6,
        "start_time": "2022-11-16T04:25:20.915Z"
      },
      {
        "duration": 23,
        "start_time": "2022-11-16T04:25:21.338Z"
      },
      {
        "duration": 6,
        "start_time": "2022-11-16T04:25:33.323Z"
      },
      {
        "duration": 23,
        "start_time": "2022-11-16T04:25:34.030Z"
      },
      {
        "duration": 27,
        "start_time": "2022-11-16T04:26:08.602Z"
      },
      {
        "duration": 25,
        "start_time": "2022-11-16T04:26:31.626Z"
      },
      {
        "duration": 10,
        "start_time": "2022-11-16T04:33:48.120Z"
      },
      {
        "duration": 50,
        "start_time": "2022-11-16T16:29:11.013Z"
      },
      {
        "duration": 10,
        "start_time": "2022-11-16T16:29:26.435Z"
      },
      {
        "duration": 432,
        "start_time": "2022-11-16T16:29:33.725Z"
      },
      {
        "duration": 102,
        "start_time": "2022-11-16T16:29:34.159Z"
      },
      {
        "duration": 16,
        "start_time": "2022-11-16T16:29:34.262Z"
      },
      {
        "duration": 20,
        "start_time": "2022-11-16T16:29:34.280Z"
      },
      {
        "duration": 1141,
        "start_time": "2022-11-16T16:29:34.302Z"
      },
      {
        "duration": 4,
        "start_time": "2022-11-16T16:29:35.445Z"
      },
      {
        "duration": 24,
        "start_time": "2022-11-16T16:29:35.450Z"
      },
      {
        "duration": 24,
        "start_time": "2022-11-16T16:29:35.475Z"
      },
      {
        "duration": 36,
        "start_time": "2022-11-16T16:29:35.500Z"
      },
      {
        "duration": 23,
        "start_time": "2022-11-16T16:29:35.539Z"
      },
      {
        "duration": 98,
        "start_time": "2022-11-16T16:29:35.564Z"
      },
      {
        "duration": 179,
        "start_time": "2022-11-16T16:29:35.663Z"
      },
      {
        "duration": 15,
        "start_time": "2022-11-16T16:29:35.844Z"
      },
      {
        "duration": 742,
        "start_time": "2022-11-16T16:29:35.860Z"
      },
      {
        "duration": 24,
        "start_time": "2022-11-16T16:29:36.603Z"
      },
      {
        "duration": 163,
        "start_time": "2022-11-16T16:29:36.629Z"
      },
      {
        "duration": 5,
        "start_time": "2022-11-16T16:29:36.794Z"
      },
      {
        "duration": 40,
        "start_time": "2022-11-16T16:29:36.800Z"
      },
      {
        "duration": 74,
        "start_time": "2022-11-16T16:30:26.512Z"
      },
      {
        "duration": 101,
        "start_time": "2022-11-16T16:30:30.927Z"
      },
      {
        "duration": 23,
        "start_time": "2022-11-16T16:31:36.566Z"
      },
      {
        "duration": 23,
        "start_time": "2022-11-16T16:31:48.178Z"
      },
      {
        "duration": 27,
        "start_time": "2022-11-16T16:33:29.995Z"
      },
      {
        "duration": 8,
        "start_time": "2022-11-16T16:35:09.091Z"
      },
      {
        "duration": 12,
        "start_time": "2022-11-16T16:36:49.182Z"
      },
      {
        "duration": 14,
        "start_time": "2022-11-16T16:37:25.743Z"
      },
      {
        "duration": 7,
        "start_time": "2022-11-16T16:37:39.547Z"
      },
      {
        "duration": 9,
        "start_time": "2022-11-16T16:37:54.341Z"
      },
      {
        "duration": 41,
        "start_time": "2022-11-16T16:38:08.595Z"
      },
      {
        "duration": 15,
        "start_time": "2022-11-16T16:38:31.183Z"
      },
      {
        "duration": 324,
        "start_time": "2022-11-16T16:39:27.531Z"
      },
      {
        "duration": 44,
        "start_time": "2022-11-16T16:39:46.833Z"
      },
      {
        "duration": 45,
        "start_time": "2022-11-16T16:40:19.998Z"
      },
      {
        "duration": 1143,
        "start_time": "2022-11-16T16:41:57.446Z"
      },
      {
        "duration": 303,
        "start_time": "2022-11-16T16:42:55.015Z"
      },
      {
        "duration": 47,
        "start_time": "2022-11-16T16:43:17.555Z"
      },
      {
        "duration": 429,
        "start_time": "2022-11-16T16:43:24.385Z"
      },
      {
        "duration": 22,
        "start_time": "2022-11-16T16:44:54.461Z"
      },
      {
        "duration": 443,
        "start_time": "2022-11-16T16:44:57.686Z"
      },
      {
        "duration": 395,
        "start_time": "2022-11-16T16:45:06.782Z"
      },
      {
        "duration": 373,
        "start_time": "2022-11-16T16:45:13.921Z"
      },
      {
        "duration": 408,
        "start_time": "2022-11-16T16:45:26.503Z"
      },
      {
        "duration": 17,
        "start_time": "2022-11-16T16:47:40.714Z"
      },
      {
        "duration": 24,
        "start_time": "2022-11-16T16:47:48.002Z"
      },
      {
        "duration": 27,
        "start_time": "2022-11-16T16:49:14.592Z"
      },
      {
        "duration": 20,
        "start_time": "2022-11-16T16:50:18.294Z"
      },
      {
        "duration": 196,
        "start_time": "2022-11-16T16:50:25.008Z"
      },
      {
        "duration": 44,
        "start_time": "2022-11-16T16:51:47.633Z"
      },
      {
        "duration": 20,
        "start_time": "2022-11-16T16:52:16.087Z"
      },
      {
        "duration": 51,
        "start_time": "2022-11-16T16:52:27.820Z"
      },
      {
        "duration": 15,
        "start_time": "2022-11-16T16:54:03.641Z"
      },
      {
        "duration": 15,
        "start_time": "2022-11-16T16:54:25.311Z"
      },
      {
        "duration": 15,
        "start_time": "2022-11-16T16:54:40.488Z"
      },
      {
        "duration": 16,
        "start_time": "2022-11-16T16:54:51.785Z"
      },
      {
        "duration": 15,
        "start_time": "2022-11-16T16:55:21.171Z"
      },
      {
        "duration": 15,
        "start_time": "2022-11-16T17:07:14.333Z"
      },
      {
        "duration": 14,
        "start_time": "2022-11-16T17:08:09.684Z"
      },
      {
        "duration": 24,
        "start_time": "2022-11-16T17:09:10.988Z"
      },
      {
        "duration": 29,
        "start_time": "2022-11-16T17:09:40.284Z"
      },
      {
        "duration": 29,
        "start_time": "2022-11-16T17:11:35.755Z"
      },
      {
        "duration": 16,
        "start_time": "2022-11-16T17:12:44.287Z"
      },
      {
        "duration": 10,
        "start_time": "2022-11-16T17:13:01.226Z"
      },
      {
        "duration": 13,
        "start_time": "2022-11-16T17:13:09.329Z"
      },
      {
        "duration": 24,
        "start_time": "2022-11-16T17:13:13.231Z"
      },
      {
        "duration": 7,
        "start_time": "2022-11-16T17:14:32.640Z"
      },
      {
        "duration": 78,
        "start_time": "2022-11-16T17:15:07.298Z"
      },
      {
        "duration": 68,
        "start_time": "2022-11-16T17:15:20.326Z"
      },
      {
        "duration": 15,
        "start_time": "2022-11-16T17:15:32.705Z"
      },
      {
        "duration": 417,
        "start_time": "2022-11-16T17:15:40.921Z"
      },
      {
        "duration": 12,
        "start_time": "2022-11-16T17:16:08.741Z"
      },
      {
        "duration": 7,
        "start_time": "2022-11-16T17:16:27.282Z"
      },
      {
        "duration": 12,
        "start_time": "2022-11-16T17:18:12.194Z"
      },
      {
        "duration": 26,
        "start_time": "2022-11-16T17:18:43.073Z"
      },
      {
        "duration": 14,
        "start_time": "2022-11-16T17:19:05.850Z"
      },
      {
        "duration": 8,
        "start_time": "2022-11-16T17:20:55.269Z"
      },
      {
        "duration": 7,
        "start_time": "2022-11-16T17:21:03.802Z"
      },
      {
        "duration": 4,
        "start_time": "2022-11-16T17:21:43.330Z"
      },
      {
        "duration": 31,
        "start_time": "2022-11-16T17:22:11.212Z"
      },
      {
        "duration": 342,
        "start_time": "2022-11-16T17:22:23.249Z"
      },
      {
        "duration": 13,
        "start_time": "2022-11-16T17:22:45.097Z"
      },
      {
        "duration": 6,
        "start_time": "2022-11-16T17:22:47.073Z"
      },
      {
        "duration": 198,
        "start_time": "2022-11-16T17:22:50.174Z"
      },
      {
        "duration": 233,
        "start_time": "2022-11-16T17:24:11.256Z"
      },
      {
        "duration": 240,
        "start_time": "2022-11-16T17:24:57.730Z"
      },
      {
        "duration": 42,
        "start_time": "2022-11-16T17:28:14.065Z"
      },
      {
        "duration": 31,
        "start_time": "2022-11-16T17:28:39.631Z"
      },
      {
        "duration": 26,
        "start_time": "2022-11-16T17:50:28.548Z"
      },
      {
        "duration": 8,
        "start_time": "2022-11-16T17:56:42.069Z"
      },
      {
        "duration": 3,
        "start_time": "2022-11-16T17:56:47.827Z"
      },
      {
        "duration": 243,
        "start_time": "2022-11-16T18:24:53.050Z"
      },
      {
        "duration": 12,
        "start_time": "2022-11-16T18:29:00.130Z"
      },
      {
        "duration": 11,
        "start_time": "2022-11-16T18:29:37.239Z"
      },
      {
        "duration": 12,
        "start_time": "2022-11-16T18:30:01.080Z"
      },
      {
        "duration": 95,
        "start_time": "2022-11-16T18:30:08.395Z"
      },
      {
        "duration": 7,
        "start_time": "2022-11-16T18:34:24.358Z"
      },
      {
        "duration": 9,
        "start_time": "2022-11-16T18:36:19.078Z"
      },
      {
        "duration": 132,
        "start_time": "2022-11-16T18:37:46.855Z"
      },
      {
        "duration": 236,
        "start_time": "2022-11-16T18:37:52.760Z"
      },
      {
        "duration": 115,
        "start_time": "2022-11-16T18:43:34.136Z"
      },
      {
        "duration": 101,
        "start_time": "2022-11-16T18:44:07.147Z"
      },
      {
        "duration": 326,
        "start_time": "2022-11-16T18:45:46.330Z"
      },
      {
        "duration": 483,
        "start_time": "2022-11-16T18:49:58.125Z"
      },
      {
        "duration": 165,
        "start_time": "2022-11-16T18:50:49.252Z"
      },
      {
        "duration": 164,
        "start_time": "2022-11-16T18:51:38.151Z"
      },
      {
        "duration": 168,
        "start_time": "2022-11-16T18:51:57.537Z"
      },
      {
        "duration": 158,
        "start_time": "2022-11-16T18:52:12.391Z"
      },
      {
        "duration": 204,
        "start_time": "2022-11-16T18:52:18.976Z"
      },
      {
        "duration": 284,
        "start_time": "2022-11-16T18:53:05.766Z"
      },
      {
        "duration": 176,
        "start_time": "2022-11-16T18:53:20.083Z"
      },
      {
        "duration": 180,
        "start_time": "2022-11-16T18:53:31.586Z"
      },
      {
        "duration": 4,
        "start_time": "2022-11-16T18:58:16.040Z"
      },
      {
        "duration": 131,
        "start_time": "2022-11-16T18:58:28.852Z"
      },
      {
        "duration": 1291,
        "start_time": "2022-11-17T03:16:51.046Z"
      },
      {
        "duration": 214,
        "start_time": "2022-11-17T03:16:52.339Z"
      },
      {
        "duration": 20,
        "start_time": "2022-11-17T03:16:52.555Z"
      },
      {
        "duration": 19,
        "start_time": "2022-11-17T03:16:52.578Z"
      },
      {
        "duration": 703,
        "start_time": "2022-11-17T03:16:52.599Z"
      },
      {
        "duration": 4,
        "start_time": "2022-11-17T03:16:53.304Z"
      },
      {
        "duration": 11,
        "start_time": "2022-11-17T03:16:53.310Z"
      },
      {
        "duration": 8,
        "start_time": "2022-11-17T03:16:53.336Z"
      },
      {
        "duration": 8,
        "start_time": "2022-11-17T03:16:53.346Z"
      },
      {
        "duration": 26,
        "start_time": "2022-11-17T03:16:53.356Z"
      },
      {
        "duration": 25,
        "start_time": "2022-11-17T03:16:53.383Z"
      },
      {
        "duration": 162,
        "start_time": "2022-11-17T03:16:53.409Z"
      },
      {
        "duration": 15,
        "start_time": "2022-11-17T03:16:53.573Z"
      },
      {
        "duration": 705,
        "start_time": "2022-11-17T03:16:53.590Z"
      },
      {
        "duration": 24,
        "start_time": "2022-11-17T03:16:54.297Z"
      },
      {
        "duration": 210,
        "start_time": "2022-11-17T03:16:54.334Z"
      },
      {
        "duration": 22,
        "start_time": "2022-11-17T03:16:54.546Z"
      },
      {
        "duration": 11,
        "start_time": "2022-11-17T03:16:54.569Z"
      },
      {
        "duration": 14,
        "start_time": "2022-11-17T03:16:54.581Z"
      },
      {
        "duration": 253,
        "start_time": "2022-11-17T03:16:54.596Z"
      },
      {
        "duration": 163,
        "start_time": "2022-11-17T03:16:54.851Z"
      },
      {
        "duration": 146,
        "start_time": "2022-11-17T04:18:21.650Z"
      },
      {
        "duration": 14,
        "start_time": "2022-11-17T04:44:48.061Z"
      },
      {
        "duration": 1053,
        "start_time": "2022-11-17T04:47:39.473Z"
      },
      {
        "duration": 9,
        "start_time": "2022-11-17T04:47:44.881Z"
      },
      {
        "duration": 14,
        "start_time": "2022-11-17T04:47:49.944Z"
      },
      {
        "duration": 50,
        "start_time": "2022-11-17T16:39:43.978Z"
      },
      {
        "duration": 1273,
        "start_time": "2022-11-17T16:39:56.210Z"
      },
      {
        "duration": 187,
        "start_time": "2022-11-17T16:39:57.485Z"
      },
      {
        "duration": 14,
        "start_time": "2022-11-17T16:39:57.676Z"
      },
      {
        "duration": 19,
        "start_time": "2022-11-17T16:39:57.692Z"
      },
      {
        "duration": 693,
        "start_time": "2022-11-17T16:39:57.713Z"
      },
      {
        "duration": 4,
        "start_time": "2022-11-17T16:39:58.407Z"
      },
      {
        "duration": 14,
        "start_time": "2022-11-17T16:39:58.413Z"
      },
      {
        "duration": 7,
        "start_time": "2022-11-17T16:39:58.428Z"
      },
      {
        "duration": 34,
        "start_time": "2022-11-17T16:39:58.438Z"
      },
      {
        "duration": 19,
        "start_time": "2022-11-17T16:39:58.474Z"
      },
      {
        "duration": 18,
        "start_time": "2022-11-17T16:39:58.495Z"
      },
      {
        "duration": 156,
        "start_time": "2022-11-17T16:39:58.515Z"
      },
      {
        "duration": 13,
        "start_time": "2022-11-17T16:39:58.676Z"
      },
      {
        "duration": 736,
        "start_time": "2022-11-17T16:39:58.690Z"
      },
      {
        "duration": 24,
        "start_time": "2022-11-17T16:39:59.428Z"
      },
      {
        "duration": 169,
        "start_time": "2022-11-17T16:39:59.454Z"
      },
      {
        "duration": 23,
        "start_time": "2022-11-17T16:39:59.624Z"
      },
      {
        "duration": 31,
        "start_time": "2022-11-17T16:39:59.649Z"
      },
      {
        "duration": 6,
        "start_time": "2022-11-17T16:39:59.682Z"
      },
      {
        "duration": 236,
        "start_time": "2022-11-17T16:39:59.689Z"
      },
      {
        "duration": 151,
        "start_time": "2022-11-17T16:39:59.927Z"
      },
      {
        "duration": 160,
        "start_time": "2022-11-17T16:40:00.080Z"
      },
      {
        "duration": 14,
        "start_time": "2022-11-17T16:40:00.242Z"
      },
      {
        "duration": 39,
        "start_time": "2022-11-17T16:40:00.257Z"
      },
      {
        "duration": 19,
        "start_time": "2022-11-17T16:40:00.297Z"
      },
      {
        "duration": 15,
        "start_time": "2022-11-17T16:40:44.030Z"
      },
      {
        "duration": 19,
        "start_time": "2022-11-17T16:43:47.291Z"
      },
      {
        "duration": 111,
        "start_time": "2022-11-17T16:47:17.846Z"
      },
      {
        "duration": 4,
        "start_time": "2022-11-17T17:01:40.820Z"
      },
      {
        "duration": 768,
        "start_time": "2022-11-17T17:02:29.420Z"
      },
      {
        "duration": 676,
        "start_time": "2022-11-17T17:03:10.535Z"
      },
      {
        "duration": 16,
        "start_time": "2022-11-17T17:08:59.341Z"
      },
      {
        "duration": 20,
        "start_time": "2022-11-17T17:16:28.413Z"
      },
      {
        "duration": 7,
        "start_time": "2022-11-17T17:17:01.116Z"
      },
      {
        "duration": 7,
        "start_time": "2022-11-17T17:17:32.887Z"
      },
      {
        "duration": 109,
        "start_time": "2022-11-17T17:17:43.706Z"
      },
      {
        "duration": 7,
        "start_time": "2022-11-17T17:17:49.614Z"
      },
      {
        "duration": 229,
        "start_time": "2022-11-17T17:19:08.417Z"
      },
      {
        "duration": 123,
        "start_time": "2022-11-17T17:19:23.693Z"
      },
      {
        "duration": 52,
        "start_time": "2022-11-17T17:19:58.876Z"
      },
      {
        "duration": 124,
        "start_time": "2022-11-17T17:20:35.757Z"
      },
      {
        "duration": 134,
        "start_time": "2022-11-17T17:20:44.763Z"
      },
      {
        "duration": 11,
        "start_time": "2022-11-17T17:21:15.551Z"
      },
      {
        "duration": 142,
        "start_time": "2022-11-17T17:23:02.758Z"
      },
      {
        "duration": 52,
        "start_time": "2022-11-17T17:24:42.302Z"
      },
      {
        "duration": 62,
        "start_time": "2022-11-17T17:25:06.659Z"
      },
      {
        "duration": 141,
        "start_time": "2022-11-17T17:25:30.256Z"
      },
      {
        "duration": 128,
        "start_time": "2022-11-17T17:25:35.823Z"
      },
      {
        "duration": 132,
        "start_time": "2022-11-17T17:25:43.846Z"
      },
      {
        "duration": 10,
        "start_time": "2022-11-17T17:28:13.087Z"
      },
      {
        "duration": 9,
        "start_time": "2022-11-17T17:28:15.547Z"
      },
      {
        "duration": 133,
        "start_time": "2022-11-17T17:28:31.935Z"
      },
      {
        "duration": 7,
        "start_time": "2022-11-17T17:36:08.643Z"
      },
      {
        "duration": 104,
        "start_time": "2022-11-17T17:36:30.724Z"
      },
      {
        "duration": 136,
        "start_time": "2022-11-17T17:36:41.068Z"
      },
      {
        "duration": 8,
        "start_time": "2022-11-17T17:47:20.249Z"
      },
      {
        "duration": 13,
        "start_time": "2022-11-17T17:47:27.620Z"
      },
      {
        "duration": 1280,
        "start_time": "2022-11-18T03:24:38.559Z"
      },
      {
        "duration": 210,
        "start_time": "2022-11-18T03:24:39.842Z"
      },
      {
        "duration": 15,
        "start_time": "2022-11-18T03:24:40.056Z"
      },
      {
        "duration": 18,
        "start_time": "2022-11-18T03:24:40.073Z"
      },
      {
        "duration": 726,
        "start_time": "2022-11-18T03:24:40.092Z"
      },
      {
        "duration": 5,
        "start_time": "2022-11-18T03:24:40.819Z"
      },
      {
        "duration": 10,
        "start_time": "2022-11-18T03:24:40.825Z"
      },
      {
        "duration": 8,
        "start_time": "2022-11-18T03:24:40.837Z"
      },
      {
        "duration": 8,
        "start_time": "2022-11-18T03:24:40.848Z"
      },
      {
        "duration": 9,
        "start_time": "2022-11-18T03:24:40.857Z"
      },
      {
        "duration": 48,
        "start_time": "2022-11-18T03:24:40.867Z"
      },
      {
        "duration": 170,
        "start_time": "2022-11-18T03:24:40.917Z"
      },
      {
        "duration": 12,
        "start_time": "2022-11-18T03:24:41.089Z"
      },
      {
        "duration": 710,
        "start_time": "2022-11-18T03:24:41.112Z"
      },
      {
        "duration": 26,
        "start_time": "2022-11-18T03:24:41.823Z"
      },
      {
        "duration": 248,
        "start_time": "2022-11-18T03:24:41.851Z"
      },
      {
        "duration": 34,
        "start_time": "2022-11-18T03:24:42.101Z"
      },
      {
        "duration": 16,
        "start_time": "2022-11-18T03:24:42.137Z"
      },
      {
        "duration": 8,
        "start_time": "2022-11-18T03:24:42.155Z"
      },
      {
        "duration": 268,
        "start_time": "2022-11-18T03:24:42.164Z"
      },
      {
        "duration": 163,
        "start_time": "2022-11-18T03:24:42.433Z"
      },
      {
        "duration": 160,
        "start_time": "2022-11-18T03:24:42.598Z"
      },
      {
        "duration": 14,
        "start_time": "2022-11-18T03:24:42.760Z"
      },
      {
        "duration": 15,
        "start_time": "2022-11-18T03:24:42.775Z"
      },
      {
        "duration": 146,
        "start_time": "2022-11-18T03:24:42.792Z"
      },
      {
        "duration": 657,
        "start_time": "2022-11-18T03:24:42.939Z"
      },
      {
        "duration": 25,
        "start_time": "2022-11-18T03:24:43.598Z"
      },
      {
        "duration": 165,
        "start_time": "2022-11-18T03:24:43.624Z"
      },
      {
        "duration": 170,
        "start_time": "2022-11-18T03:24:43.791Z"
      },
      {
        "duration": 12,
        "start_time": "2022-11-18T03:24:43.963Z"
      },
      {
        "duration": 13,
        "start_time": "2022-11-18T03:27:16.187Z"
      },
      {
        "duration": 16,
        "start_time": "2022-11-18T03:30:04.990Z"
      },
      {
        "duration": 110,
        "start_time": "2022-11-18T03:30:29.912Z"
      },
      {
        "duration": 19,
        "start_time": "2022-11-18T03:30:48.121Z"
      },
      {
        "duration": 28,
        "start_time": "2022-11-18T03:31:45.315Z"
      },
      {
        "duration": 9,
        "start_time": "2022-11-18T03:32:03.960Z"
      },
      {
        "duration": 30,
        "start_time": "2022-11-18T03:32:23.348Z"
      },
      {
        "duration": 44,
        "start_time": "2022-11-18T03:33:28.769Z"
      },
      {
        "duration": 44,
        "start_time": "2022-11-18T03:33:34.224Z"
      },
      {
        "duration": 549,
        "start_time": "2022-11-18T03:33:57.242Z"
      },
      {
        "duration": 881,
        "start_time": "2022-11-18T03:34:59.739Z"
      },
      {
        "duration": 457,
        "start_time": "2022-11-18T03:35:32.729Z"
      },
      {
        "duration": 472,
        "start_time": "2022-11-18T03:35:52.591Z"
      },
      {
        "duration": 518,
        "start_time": "2022-11-18T03:37:06.330Z"
      },
      {
        "duration": 607,
        "start_time": "2022-11-18T03:37:32.007Z"
      },
      {
        "duration": 17,
        "start_time": "2022-11-18T03:38:10.862Z"
      },
      {
        "duration": 672,
        "start_time": "2022-11-18T03:38:15.594Z"
      },
      {
        "duration": 490,
        "start_time": "2022-11-18T03:38:25.100Z"
      },
      {
        "duration": 149,
        "start_time": "2022-11-18T03:39:11.612Z"
      },
      {
        "duration": 497,
        "start_time": "2022-11-18T03:39:43.412Z"
      },
      {
        "duration": 168,
        "start_time": "2022-11-18T03:40:10.227Z"
      },
      {
        "duration": 287,
        "start_time": "2022-11-18T03:40:52.899Z"
      },
      {
        "duration": 221,
        "start_time": "2022-11-18T03:41:23.726Z"
      },
      {
        "duration": 288,
        "start_time": "2022-11-18T03:41:48.190Z"
      },
      {
        "duration": 689,
        "start_time": "2022-11-18T03:44:01.330Z"
      },
      {
        "duration": 673,
        "start_time": "2022-11-18T03:45:09.396Z"
      },
      {
        "duration": 764,
        "start_time": "2022-11-18T03:45:22.555Z"
      },
      {
        "duration": 409,
        "start_time": "2022-11-18T03:45:35.196Z"
      },
      {
        "duration": 487,
        "start_time": "2022-11-18T03:45:48.033Z"
      },
      {
        "duration": 24,
        "start_time": "2022-11-18T03:46:51.970Z"
      },
      {
        "duration": 17,
        "start_time": "2022-11-18T03:58:44.711Z"
      },
      {
        "duration": 12,
        "start_time": "2022-11-18T03:59:11.871Z"
      },
      {
        "duration": 10,
        "start_time": "2022-11-18T03:59:23.834Z"
      },
      {
        "duration": 10,
        "start_time": "2022-11-18T03:59:34.236Z"
      },
      {
        "duration": 20,
        "start_time": "2022-11-18T03:59:50.664Z"
      },
      {
        "duration": 24,
        "start_time": "2022-11-18T04:00:03.644Z"
      },
      {
        "duration": 16,
        "start_time": "2022-11-18T04:00:11.794Z"
      },
      {
        "duration": 20,
        "start_time": "2022-11-18T04:00:23.789Z"
      },
      {
        "duration": 43,
        "start_time": "2022-11-18T04:00:37.719Z"
      },
      {
        "duration": 16,
        "start_time": "2022-11-18T04:00:44.987Z"
      },
      {
        "duration": 24,
        "start_time": "2022-11-18T04:00:55.778Z"
      },
      {
        "duration": 16,
        "start_time": "2022-11-18T04:01:17.068Z"
      },
      {
        "duration": 523,
        "start_time": "2022-11-18T04:02:37.265Z"
      },
      {
        "duration": 1237,
        "start_time": "2022-11-18T04:46:15.789Z"
      },
      {
        "duration": 55,
        "start_time": "2022-11-18T04:46:17.028Z"
      },
      {
        "duration": 14,
        "start_time": "2022-11-18T04:46:17.085Z"
      },
      {
        "duration": 21,
        "start_time": "2022-11-18T04:46:17.101Z"
      },
      {
        "duration": 764,
        "start_time": "2022-11-18T04:46:17.124Z"
      },
      {
        "duration": 4,
        "start_time": "2022-11-18T04:46:17.892Z"
      },
      {
        "duration": 20,
        "start_time": "2022-11-18T04:46:17.898Z"
      },
      {
        "duration": 10,
        "start_time": "2022-11-18T04:46:17.920Z"
      },
      {
        "duration": 12,
        "start_time": "2022-11-18T04:46:17.931Z"
      },
      {
        "duration": 10,
        "start_time": "2022-11-18T04:46:17.946Z"
      },
      {
        "duration": 20,
        "start_time": "2022-11-18T04:46:17.958Z"
      },
      {
        "duration": 204,
        "start_time": "2022-11-18T04:46:17.979Z"
      },
      {
        "duration": 30,
        "start_time": "2022-11-18T04:46:18.186Z"
      },
      {
        "duration": 775,
        "start_time": "2022-11-18T04:46:18.219Z"
      },
      {
        "duration": 37,
        "start_time": "2022-11-18T04:46:18.996Z"
      },
      {
        "duration": 294,
        "start_time": "2022-11-18T04:46:19.035Z"
      },
      {
        "duration": 39,
        "start_time": "2022-11-18T04:46:19.331Z"
      },
      {
        "duration": 13,
        "start_time": "2022-11-18T04:46:19.372Z"
      },
      {
        "duration": 28,
        "start_time": "2022-11-18T04:46:19.387Z"
      },
      {
        "duration": 307,
        "start_time": "2022-11-18T04:46:19.417Z"
      },
      {
        "duration": 189,
        "start_time": "2022-11-18T04:46:19.726Z"
      },
      {
        "duration": 175,
        "start_time": "2022-11-18T04:46:19.919Z"
      },
      {
        "duration": 31,
        "start_time": "2022-11-18T04:46:20.096Z"
      },
      {
        "duration": 19,
        "start_time": "2022-11-18T04:46:20.129Z"
      },
      {
        "duration": 156,
        "start_time": "2022-11-18T04:46:20.150Z"
      },
      {
        "duration": 858,
        "start_time": "2022-11-18T04:46:20.313Z"
      },
      {
        "duration": 22,
        "start_time": "2022-11-18T04:46:21.173Z"
      },
      {
        "duration": 173,
        "start_time": "2022-11-18T04:46:21.199Z"
      },
      {
        "duration": 174,
        "start_time": "2022-11-18T04:46:21.374Z"
      },
      {
        "duration": 622,
        "start_time": "2022-11-18T04:46:21.550Z"
      },
      {
        "duration": 20,
        "start_time": "2022-11-18T04:46:22.175Z"
      },
      {
        "duration": 218,
        "start_time": "2022-11-18T04:46:48.005Z"
      },
      {
        "duration": 17,
        "start_time": "2022-11-18T04:49:47.797Z"
      },
      {
        "duration": 24,
        "start_time": "2022-11-18T04:49:53.316Z"
      },
      {
        "duration": 12,
        "start_time": "2022-11-18T04:51:12.396Z"
      },
      {
        "duration": 30,
        "start_time": "2022-11-18T04:51:17.707Z"
      },
      {
        "duration": 515,
        "start_time": "2022-11-18T04:52:30.390Z"
      },
      {
        "duration": 25,
        "start_time": "2022-11-18T05:05:47.075Z"
      },
      {
        "duration": 31,
        "start_time": "2022-11-18T05:05:52.597Z"
      },
      {
        "duration": 4,
        "start_time": "2022-11-18T05:12:57.678Z"
      },
      {
        "duration": 3,
        "start_time": "2022-11-18T05:13:36.730Z"
      },
      {
        "duration": 4,
        "start_time": "2022-11-18T05:13:59.777Z"
      },
      {
        "duration": 18,
        "start_time": "2022-11-18T05:14:21.506Z"
      },
      {
        "duration": 117,
        "start_time": "2022-11-18T05:15:34.512Z"
      },
      {
        "duration": 99,
        "start_time": "2022-11-18T05:15:59.603Z"
      },
      {
        "duration": 18,
        "start_time": "2022-11-18T05:16:05.979Z"
      },
      {
        "duration": 109,
        "start_time": "2022-11-18T05:16:45.869Z"
      },
      {
        "duration": 677,
        "start_time": "2022-11-18T05:18:03.149Z"
      },
      {
        "duration": 37,
        "start_time": "2022-11-18T05:19:51.845Z"
      },
      {
        "duration": 19,
        "start_time": "2022-11-18T05:20:10.166Z"
      },
      {
        "duration": 19,
        "start_time": "2022-11-18T05:21:09.911Z"
      },
      {
        "duration": 20,
        "start_time": "2022-11-18T05:22:00.400Z"
      },
      {
        "duration": 402,
        "start_time": "2022-11-18T05:22:28.744Z"
      },
      {
        "duration": 18,
        "start_time": "2022-11-18T05:22:41.192Z"
      },
      {
        "duration": 17,
        "start_time": "2022-11-18T05:22:43.935Z"
      },
      {
        "duration": 17,
        "start_time": "2022-11-18T05:22:46.696Z"
      },
      {
        "duration": 13,
        "start_time": "2022-11-18T05:29:09.356Z"
      },
      {
        "duration": 11,
        "start_time": "2022-11-18T05:29:30.620Z"
      },
      {
        "duration": 10,
        "start_time": "2022-11-18T05:29:35.861Z"
      },
      {
        "duration": 11,
        "start_time": "2022-11-18T05:29:51.743Z"
      },
      {
        "duration": 11,
        "start_time": "2022-11-18T05:30:00.725Z"
      },
      {
        "duration": 755,
        "start_time": "2022-11-18T05:30:09.356Z"
      },
      {
        "duration": 25,
        "start_time": "2022-11-18T05:32:49.160Z"
      },
      {
        "duration": 829,
        "start_time": "2022-11-18T05:33:19.444Z"
      },
      {
        "duration": 4,
        "start_time": "2022-11-18T05:33:44.815Z"
      },
      {
        "duration": 17,
        "start_time": "2022-11-18T05:33:52.279Z"
      },
      {
        "duration": 710,
        "start_time": "2022-11-18T05:34:02.551Z"
      },
      {
        "duration": 1241,
        "start_time": "2022-11-18T05:34:27.432Z"
      },
      {
        "duration": 750,
        "start_time": "2022-11-18T05:34:34.480Z"
      },
      {
        "duration": 21,
        "start_time": "2022-11-18T05:34:56.589Z"
      },
      {
        "duration": 757,
        "start_time": "2022-11-18T05:35:14.391Z"
      },
      {
        "duration": 19,
        "start_time": "2022-11-18T05:35:22.143Z"
      },
      {
        "duration": 4,
        "start_time": "2022-11-18T05:35:51.873Z"
      },
      {
        "duration": 18,
        "start_time": "2022-11-18T05:35:53.064Z"
      },
      {
        "duration": 16,
        "start_time": "2022-11-18T05:35:59.344Z"
      },
      {
        "duration": 15,
        "start_time": "2022-11-18T05:36:06.657Z"
      },
      {
        "duration": 18,
        "start_time": "2022-11-18T05:36:16.896Z"
      },
      {
        "duration": 17,
        "start_time": "2022-11-18T05:36:20.705Z"
      },
      {
        "duration": 22,
        "start_time": "2022-11-18T05:36:26.401Z"
      },
      {
        "duration": 4,
        "start_time": "2022-11-18T05:37:27.297Z"
      },
      {
        "duration": 18,
        "start_time": "2022-11-18T05:37:28.474Z"
      },
      {
        "duration": 17,
        "start_time": "2022-11-18T05:37:29.681Z"
      },
      {
        "duration": 18,
        "start_time": "2022-11-18T05:37:30.961Z"
      },
      {
        "duration": 188,
        "start_time": "2022-11-18T10:38:53.970Z"
      },
      {
        "duration": 5,
        "start_time": "2022-11-18T10:47:28.674Z"
      },
      {
        "duration": 5,
        "start_time": "2022-11-18T10:47:47.293Z"
      },
      {
        "duration": 435,
        "start_time": "2022-11-18T10:49:22.679Z"
      },
      {
        "duration": 13,
        "start_time": "2022-11-18T12:35:55.842Z"
      },
      {
        "duration": 13,
        "start_time": "2022-11-18T12:49:37.563Z"
      },
      {
        "duration": 20,
        "start_time": "2022-11-18T12:50:11.134Z"
      },
      {
        "duration": 7,
        "start_time": "2022-11-18T12:51:43.221Z"
      },
      {
        "duration": 9,
        "start_time": "2022-11-18T12:53:37.102Z"
      },
      {
        "duration": 20,
        "start_time": "2022-11-18T12:57:48.505Z"
      },
      {
        "duration": 12,
        "start_time": "2022-11-18T12:58:03.723Z"
      },
      {
        "duration": 10,
        "start_time": "2022-11-18T12:59:38.147Z"
      },
      {
        "duration": 10,
        "start_time": "2022-11-18T12:59:46.402Z"
      },
      {
        "duration": 9,
        "start_time": "2022-11-18T13:00:28.547Z"
      },
      {
        "duration": 9,
        "start_time": "2022-11-18T13:00:45.395Z"
      },
      {
        "duration": 42,
        "start_time": "2022-11-18T13:05:30.151Z"
      },
      {
        "duration": 10,
        "start_time": "2022-11-18T13:05:43.887Z"
      },
      {
        "duration": 29,
        "start_time": "2022-11-18T13:07:02.824Z"
      },
      {
        "duration": 8,
        "start_time": "2022-11-18T13:08:16.873Z"
      },
      {
        "duration": 18,
        "start_time": "2022-11-18T13:16:03.711Z"
      },
      {
        "duration": 177,
        "start_time": "2022-11-18T13:17:23.479Z"
      },
      {
        "duration": 222,
        "start_time": "2022-11-18T13:17:39.160Z"
      },
      {
        "duration": 301,
        "start_time": "2022-11-18T13:19:11.081Z"
      },
      {
        "duration": 199,
        "start_time": "2022-11-18T13:24:37.767Z"
      },
      {
        "duration": 5,
        "start_time": "2022-11-18T13:25:20.621Z"
      },
      {
        "duration": 15,
        "start_time": "2022-11-18T13:26:02.448Z"
      },
      {
        "duration": 8,
        "start_time": "2022-11-18T13:26:24.382Z"
      },
      {
        "duration": 14,
        "start_time": "2022-11-18T13:26:43.205Z"
      },
      {
        "duration": 14,
        "start_time": "2022-11-18T13:26:53.230Z"
      },
      {
        "duration": 212,
        "start_time": "2022-11-18T13:27:10.507Z"
      },
      {
        "duration": 19,
        "start_time": "2022-11-18T13:58:00.629Z"
      },
      {
        "duration": 17,
        "start_time": "2022-11-18T14:01:02.231Z"
      },
      {
        "duration": 16,
        "start_time": "2022-11-18T14:02:18.408Z"
      },
      {
        "duration": 25,
        "start_time": "2022-11-18T14:03:09.505Z"
      },
      {
        "duration": 30,
        "start_time": "2022-11-18T14:06:22.036Z"
      },
      {
        "duration": 11,
        "start_time": "2022-11-18T14:06:47.131Z"
      },
      {
        "duration": 17,
        "start_time": "2022-11-18T14:12:19.151Z"
      },
      {
        "duration": 10,
        "start_time": "2022-11-18T14:12:48.991Z"
      },
      {
        "duration": 16,
        "start_time": "2022-11-18T14:12:56.943Z"
      },
      {
        "duration": 32,
        "start_time": "2022-11-18T14:13:17.288Z"
      },
      {
        "duration": 24,
        "start_time": "2022-11-18T14:14:11.762Z"
      },
      {
        "duration": 23,
        "start_time": "2022-11-18T14:14:59.162Z"
      },
      {
        "duration": 21,
        "start_time": "2022-11-18T14:18:19.628Z"
      },
      {
        "duration": 8,
        "start_time": "2022-11-18T14:23:33.336Z"
      },
      {
        "duration": 824,
        "start_time": "2022-11-18T14:23:36.080Z"
      },
      {
        "duration": 767,
        "start_time": "2022-11-18T14:23:53.865Z"
      },
      {
        "duration": 15,
        "start_time": "2022-11-18T14:33:46.656Z"
      },
      {
        "duration": 16,
        "start_time": "2022-11-18T14:36:29.730Z"
      },
      {
        "duration": 6,
        "start_time": "2022-11-18T14:42:13.758Z"
      },
      {
        "duration": 27,
        "start_time": "2022-11-18T14:52:47.846Z"
      },
      {
        "duration": 22,
        "start_time": "2022-11-18T14:53:35.222Z"
      },
      {
        "duration": 18,
        "start_time": "2022-11-18T14:53:41.823Z"
      },
      {
        "duration": 7,
        "start_time": "2022-11-18T14:53:51.375Z"
      },
      {
        "duration": 10,
        "start_time": "2022-11-18T14:53:58.398Z"
      },
      {
        "duration": 11,
        "start_time": "2022-11-18T14:54:24.930Z"
      },
      {
        "duration": 3,
        "start_time": "2022-11-18T14:56:48.681Z"
      },
      {
        "duration": 19,
        "start_time": "2022-11-18T14:57:32.890Z"
      },
      {
        "duration": 15,
        "start_time": "2022-11-18T14:57:46.586Z"
      },
      {
        "duration": 12,
        "start_time": "2022-11-18T14:58:55.547Z"
      },
      {
        "duration": 12,
        "start_time": "2022-11-18T14:59:04.746Z"
      },
      {
        "duration": 10,
        "start_time": "2022-11-18T15:21:37.412Z"
      },
      {
        "duration": 6,
        "start_time": "2022-11-18T15:22:25.395Z"
      },
      {
        "duration": 10,
        "start_time": "2022-11-18T15:22:33.902Z"
      },
      {
        "duration": 9,
        "start_time": "2022-11-18T15:22:51.721Z"
      },
      {
        "duration": 10,
        "start_time": "2022-11-18T15:23:08.148Z"
      },
      {
        "duration": 12,
        "start_time": "2022-11-18T15:23:35.732Z"
      },
      {
        "duration": 66,
        "start_time": "2022-11-18T15:54:32.831Z"
      },
      {
        "duration": 15,
        "start_time": "2022-11-18T15:54:36.600Z"
      },
      {
        "duration": 794,
        "start_time": "2022-11-18T15:55:06.120Z"
      },
      {
        "duration": 417,
        "start_time": "2022-11-18T16:28:06.567Z"
      },
      {
        "duration": 10,
        "start_time": "2022-11-18T16:31:20.722Z"
      },
      {
        "duration": 10,
        "start_time": "2022-11-18T16:31:37.265Z"
      },
      {
        "duration": 12,
        "start_time": "2022-11-18T16:32:28.676Z"
      },
      {
        "duration": 14,
        "start_time": "2022-11-18T16:32:45.196Z"
      },
      {
        "duration": 42,
        "start_time": "2022-11-18T16:33:47.221Z"
      },
      {
        "duration": 48,
        "start_time": "2022-11-18T16:33:54.612Z"
      },
      {
        "duration": 11,
        "start_time": "2022-11-18T16:34:08.476Z"
      },
      {
        "duration": 11,
        "start_time": "2022-11-18T16:34:23.678Z"
      },
      {
        "duration": 1195,
        "start_time": "2022-11-18T16:38:03.640Z"
      },
      {
        "duration": 64,
        "start_time": "2022-11-18T16:38:04.837Z"
      },
      {
        "duration": 14,
        "start_time": "2022-11-18T16:38:04.903Z"
      },
      {
        "duration": 29,
        "start_time": "2022-11-18T16:38:04.920Z"
      },
      {
        "duration": 764,
        "start_time": "2022-11-18T16:38:04.951Z"
      },
      {
        "duration": 5,
        "start_time": "2022-11-18T16:38:05.718Z"
      },
      {
        "duration": 37,
        "start_time": "2022-11-18T16:38:05.725Z"
      },
      {
        "duration": 26,
        "start_time": "2022-11-18T16:38:05.764Z"
      },
      {
        "duration": 20,
        "start_time": "2022-11-18T16:38:05.792Z"
      },
      {
        "duration": 26,
        "start_time": "2022-11-18T16:38:05.816Z"
      },
      {
        "duration": 22,
        "start_time": "2022-11-18T16:38:05.844Z"
      },
      {
        "duration": 182,
        "start_time": "2022-11-18T16:38:05.868Z"
      },
      {
        "duration": 14,
        "start_time": "2022-11-18T16:38:06.051Z"
      },
      {
        "duration": 820,
        "start_time": "2022-11-18T16:38:06.067Z"
      },
      {
        "duration": 37,
        "start_time": "2022-11-18T16:38:06.889Z"
      },
      {
        "duration": 277,
        "start_time": "2022-11-18T16:38:06.927Z"
      },
      {
        "duration": 30,
        "start_time": "2022-11-18T16:38:07.205Z"
      },
      {
        "duration": 11,
        "start_time": "2022-11-18T16:38:07.237Z"
      },
      {
        "duration": 13,
        "start_time": "2022-11-18T16:38:07.250Z"
      },
      {
        "duration": 267,
        "start_time": "2022-11-18T16:38:07.264Z"
      },
      {
        "duration": 188,
        "start_time": "2022-11-18T16:38:07.533Z"
      },
      {
        "duration": 173,
        "start_time": "2022-11-18T16:38:07.724Z"
      },
      {
        "duration": 24,
        "start_time": "2022-11-18T16:38:07.899Z"
      },
      {
        "duration": 28,
        "start_time": "2022-11-18T16:38:07.925Z"
      },
      {
        "duration": 144,
        "start_time": "2022-11-18T16:38:07.954Z"
      },
      {
        "duration": 708,
        "start_time": "2022-11-18T16:38:08.100Z"
      },
      {
        "duration": 16,
        "start_time": "2022-11-18T16:38:08.811Z"
      },
      {
        "duration": 170,
        "start_time": "2022-11-18T16:38:08.831Z"
      },
      {
        "duration": 178,
        "start_time": "2022-11-18T16:38:09.003Z"
      },
      {
        "duration": 520,
        "start_time": "2022-11-18T16:38:09.183Z"
      },
      {
        "duration": 8,
        "start_time": "2022-11-18T16:38:09.705Z"
      },
      {
        "duration": 58,
        "start_time": "2022-11-18T16:38:09.715Z"
      },
      {
        "duration": 15,
        "start_time": "2022-11-18T16:38:09.775Z"
      },
      {
        "duration": 31,
        "start_time": "2022-11-18T16:38:09.792Z"
      },
      {
        "duration": 184,
        "start_time": "2022-11-18T16:38:09.825Z"
      },
      {
        "duration": 455,
        "start_time": "2022-11-18T16:38:10.012Z"
      },
      {
        "duration": 215,
        "start_time": "2022-11-18T16:38:10.469Z"
      },
      {
        "duration": 25,
        "start_time": "2022-11-18T16:38:10.686Z"
      },
      {
        "duration": 9,
        "start_time": "2022-11-18T16:38:10.713Z"
      },
      {
        "duration": 922,
        "start_time": "2022-11-18T16:38:10.724Z"
      },
      {
        "duration": 6,
        "start_time": "2022-11-18T16:38:11.648Z"
      },
      {
        "duration": 42,
        "start_time": "2022-11-18T16:38:11.656Z"
      },
      {
        "duration": 22,
        "start_time": "2022-11-18T16:38:11.700Z"
      },
      {
        "duration": 25,
        "start_time": "2022-11-18T16:38:11.724Z"
      },
      {
        "duration": 41,
        "start_time": "2022-11-18T16:38:11.751Z"
      },
      {
        "duration": 1097,
        "start_time": "2022-11-19T07:28:42.531Z"
      },
      {
        "duration": 53,
        "start_time": "2022-11-19T07:28:43.630Z"
      },
      {
        "duration": 15,
        "start_time": "2022-11-19T07:28:43.684Z"
      },
      {
        "duration": 19,
        "start_time": "2022-11-19T07:28:43.701Z"
      },
      {
        "duration": 762,
        "start_time": "2022-11-19T07:28:43.722Z"
      },
      {
        "duration": 4,
        "start_time": "2022-11-19T07:28:44.486Z"
      },
      {
        "duration": 22,
        "start_time": "2022-11-19T07:28:44.492Z"
      },
      {
        "duration": 9,
        "start_time": "2022-11-19T07:28:44.515Z"
      },
      {
        "duration": 12,
        "start_time": "2022-11-19T07:28:44.525Z"
      },
      {
        "duration": 10,
        "start_time": "2022-11-19T07:28:44.539Z"
      },
      {
        "duration": 20,
        "start_time": "2022-11-19T07:28:44.551Z"
      },
      {
        "duration": 201,
        "start_time": "2022-11-19T07:28:44.573Z"
      },
      {
        "duration": 14,
        "start_time": "2022-11-19T07:28:44.775Z"
      },
      {
        "duration": 800,
        "start_time": "2022-11-19T07:28:44.793Z"
      },
      {
        "duration": 32,
        "start_time": "2022-11-19T07:28:45.594Z"
      },
      {
        "duration": 255,
        "start_time": "2022-11-19T07:28:45.628Z"
      },
      {
        "duration": 36,
        "start_time": "2022-11-19T07:28:45.885Z"
      },
      {
        "duration": 13,
        "start_time": "2022-11-19T07:28:45.923Z"
      },
      {
        "duration": 10,
        "start_time": "2022-11-19T07:28:45.937Z"
      },
      {
        "duration": 287,
        "start_time": "2022-11-19T07:28:45.949Z"
      },
      {
        "duration": 209,
        "start_time": "2022-11-19T07:28:46.237Z"
      },
      {
        "duration": 175,
        "start_time": "2022-11-19T07:28:46.448Z"
      },
      {
        "duration": 15,
        "start_time": "2022-11-19T07:28:46.625Z"
      },
      {
        "duration": 16,
        "start_time": "2022-11-19T07:28:46.641Z"
      },
      {
        "duration": 156,
        "start_time": "2022-11-19T07:28:46.658Z"
      },
      {
        "duration": 673,
        "start_time": "2022-11-19T07:28:46.816Z"
      },
      {
        "duration": 25,
        "start_time": "2022-11-19T07:28:47.490Z"
      },
      {
        "duration": 165,
        "start_time": "2022-11-19T07:28:47.516Z"
      },
      {
        "duration": 178,
        "start_time": "2022-11-19T07:28:47.683Z"
      },
      {
        "duration": 527,
        "start_time": "2022-11-19T07:28:47.862Z"
      },
      {
        "duration": 3,
        "start_time": "2022-11-19T07:28:48.391Z"
      },
      {
        "duration": 27,
        "start_time": "2022-11-19T07:28:48.396Z"
      },
      {
        "duration": 17,
        "start_time": "2022-11-19T07:28:48.425Z"
      },
      {
        "duration": 16,
        "start_time": "2022-11-19T07:28:48.443Z"
      },
      {
        "duration": 197,
        "start_time": "2022-11-19T07:28:48.461Z"
      },
      {
        "duration": 420,
        "start_time": "2022-11-19T07:28:48.660Z"
      },
      {
        "duration": 213,
        "start_time": "2022-11-19T07:28:49.082Z"
      },
      {
        "duration": 22,
        "start_time": "2022-11-19T07:28:49.297Z"
      },
      {
        "duration": 8,
        "start_time": "2022-11-19T07:28:49.321Z"
      },
      {
        "duration": 748,
        "start_time": "2022-11-19T07:28:49.331Z"
      },
      {
        "duration": 7,
        "start_time": "2022-11-19T07:28:50.082Z"
      },
      {
        "duration": 30,
        "start_time": "2022-11-19T07:28:50.091Z"
      },
      {
        "duration": 13,
        "start_time": "2022-11-19T07:28:50.122Z"
      },
      {
        "duration": 12,
        "start_time": "2022-11-19T07:28:50.136Z"
      },
      {
        "duration": 11,
        "start_time": "2022-11-19T07:28:50.150Z"
      },
      {
        "duration": 107,
        "start_time": "2022-11-19T07:49:36.550Z"
      },
      {
        "duration": 10,
        "start_time": "2022-11-19T07:49:58.235Z"
      },
      {
        "duration": 252,
        "start_time": "2022-11-19T07:50:41.808Z"
      },
      {
        "duration": 236,
        "start_time": "2022-11-19T07:50:52.578Z"
      },
      {
        "duration": 131,
        "start_time": "2022-11-19T07:51:46.353Z"
      },
      {
        "duration": 11,
        "start_time": "2022-11-19T07:52:03.747Z"
      },
      {
        "duration": 115,
        "start_time": "2022-11-19T07:52:41.976Z"
      },
      {
        "duration": 14,
        "start_time": "2022-11-19T07:53:00.474Z"
      },
      {
        "duration": 10,
        "start_time": "2022-11-19T07:54:30.600Z"
      },
      {
        "duration": 191,
        "start_time": "2022-11-19T07:54:50.176Z"
      },
      {
        "duration": 4,
        "start_time": "2022-11-19T07:56:14.577Z"
      },
      {
        "duration": 167,
        "start_time": "2022-11-19T07:56:17.529Z"
      },
      {
        "duration": 68,
        "start_time": "2022-11-19T07:58:30.204Z"
      },
      {
        "duration": 11,
        "start_time": "2022-11-19T07:58:50.216Z"
      },
      {
        "duration": 14,
        "start_time": "2022-11-19T07:59:26.395Z"
      },
      {
        "duration": 11,
        "start_time": "2022-11-19T07:59:50.340Z"
      },
      {
        "duration": 882,
        "start_time": "2022-11-19T08:02:02.954Z"
      },
      {
        "duration": 124,
        "start_time": "2022-11-19T08:02:10.776Z"
      },
      {
        "duration": 216,
        "start_time": "2022-11-19T08:02:30.519Z"
      },
      {
        "duration": 6,
        "start_time": "2022-11-19T08:03:42.187Z"
      },
      {
        "duration": 10,
        "start_time": "2022-11-19T08:04:02.299Z"
      },
      {
        "duration": 13,
        "start_time": "2022-11-19T08:05:08.374Z"
      },
      {
        "duration": 13,
        "start_time": "2022-11-19T08:06:32.384Z"
      },
      {
        "duration": 13,
        "start_time": "2022-11-19T08:06:51.607Z"
      },
      {
        "duration": 8,
        "start_time": "2022-11-19T08:07:00.490Z"
      },
      {
        "duration": 14,
        "start_time": "2022-11-19T08:08:16.359Z"
      },
      {
        "duration": 11,
        "start_time": "2022-11-19T08:08:24.133Z"
      },
      {
        "duration": 10,
        "start_time": "2022-11-19T08:08:49.874Z"
      },
      {
        "duration": 276,
        "start_time": "2022-11-19T08:08:58.728Z"
      },
      {
        "duration": 268,
        "start_time": "2022-11-19T08:09:22.682Z"
      },
      {
        "duration": 10,
        "start_time": "2022-11-19T08:09:50.624Z"
      },
      {
        "duration": 178,
        "start_time": "2022-11-19T08:14:51.415Z"
      },
      {
        "duration": 181,
        "start_time": "2022-11-19T08:15:20.921Z"
      },
      {
        "duration": 226,
        "start_time": "2022-11-19T08:15:26.297Z"
      },
      {
        "duration": 269,
        "start_time": "2022-11-19T08:15:32.622Z"
      },
      {
        "duration": 1180,
        "start_time": "2022-11-19T08:18:10.721Z"
      },
      {
        "duration": 55,
        "start_time": "2022-11-19T08:18:11.903Z"
      },
      {
        "duration": 18,
        "start_time": "2022-11-19T08:18:11.960Z"
      },
      {
        "duration": 29,
        "start_time": "2022-11-19T08:18:11.980Z"
      },
      {
        "duration": 739,
        "start_time": "2022-11-19T08:18:12.012Z"
      },
      {
        "duration": 5,
        "start_time": "2022-11-19T08:18:12.752Z"
      },
      {
        "duration": 39,
        "start_time": "2022-11-19T08:18:12.758Z"
      },
      {
        "duration": 44,
        "start_time": "2022-11-19T08:18:12.799Z"
      },
      {
        "duration": 29,
        "start_time": "2022-11-19T08:18:12.845Z"
      },
      {
        "duration": 29,
        "start_time": "2022-11-19T08:18:12.876Z"
      },
      {
        "duration": 62,
        "start_time": "2022-11-19T08:18:12.907Z"
      },
      {
        "duration": 154,
        "start_time": "2022-11-19T08:18:12.971Z"
      },
      {
        "duration": 13,
        "start_time": "2022-11-19T08:18:13.127Z"
      },
      {
        "duration": 1303,
        "start_time": "2022-11-19T08:18:13.143Z"
      },
      {
        "duration": 79,
        "start_time": "2022-11-19T08:18:14.448Z"
      },
      {
        "duration": 312,
        "start_time": "2022-11-19T08:18:14.528Z"
      },
      {
        "duration": 78,
        "start_time": "2022-11-19T08:18:14.841Z"
      },
      {
        "duration": 14,
        "start_time": "2022-11-19T08:18:14.920Z"
      },
      {
        "duration": 22,
        "start_time": "2022-11-19T08:18:14.937Z"
      },
      {
        "duration": 345,
        "start_time": "2022-11-19T08:18:14.961Z"
      },
      {
        "duration": 107,
        "start_time": "2022-11-19T08:18:15.312Z"
      },
      {
        "duration": 0,
        "start_time": "2022-11-19T08:18:15.422Z"
      },
      {
        "duration": 0,
        "start_time": "2022-11-19T08:18:15.424Z"
      },
      {
        "duration": 0,
        "start_time": "2022-11-19T08:18:15.425Z"
      },
      {
        "duration": 0,
        "start_time": "2022-11-19T08:18:15.426Z"
      },
      {
        "duration": 0,
        "start_time": "2022-11-19T08:18:15.428Z"
      },
      {
        "duration": 0,
        "start_time": "2022-11-19T08:18:15.429Z"
      },
      {
        "duration": 0,
        "start_time": "2022-11-19T08:18:15.431Z"
      },
      {
        "duration": 0,
        "start_time": "2022-11-19T08:18:15.432Z"
      },
      {
        "duration": 0,
        "start_time": "2022-11-19T08:18:15.434Z"
      },
      {
        "duration": 0,
        "start_time": "2022-11-19T08:18:15.435Z"
      },
      {
        "duration": 0,
        "start_time": "2022-11-19T08:18:15.437Z"
      },
      {
        "duration": 0,
        "start_time": "2022-11-19T08:18:15.438Z"
      },
      {
        "duration": 0,
        "start_time": "2022-11-19T08:18:15.439Z"
      },
      {
        "duration": 0,
        "start_time": "2022-11-19T08:18:15.441Z"
      },
      {
        "duration": 0,
        "start_time": "2022-11-19T08:18:15.442Z"
      },
      {
        "duration": 0,
        "start_time": "2022-11-19T08:18:15.574Z"
      },
      {
        "duration": 0,
        "start_time": "2022-11-19T08:18:15.575Z"
      },
      {
        "duration": 0,
        "start_time": "2022-11-19T08:18:15.577Z"
      },
      {
        "duration": 1,
        "start_time": "2022-11-19T08:18:15.578Z"
      },
      {
        "duration": 0,
        "start_time": "2022-11-19T08:18:15.580Z"
      },
      {
        "duration": 0,
        "start_time": "2022-11-19T08:18:15.581Z"
      },
      {
        "duration": 0,
        "start_time": "2022-11-19T08:18:15.582Z"
      },
      {
        "duration": 0,
        "start_time": "2022-11-19T08:18:15.584Z"
      },
      {
        "duration": 0,
        "start_time": "2022-11-19T08:18:15.585Z"
      },
      {
        "duration": 0,
        "start_time": "2022-11-19T08:18:15.586Z"
      },
      {
        "duration": 200,
        "start_time": "2022-11-19T08:18:23.978Z"
      },
      {
        "duration": 1103,
        "start_time": "2022-11-19T08:18:32.434Z"
      },
      {
        "duration": 53,
        "start_time": "2022-11-19T08:18:33.539Z"
      },
      {
        "duration": 15,
        "start_time": "2022-11-19T08:18:33.593Z"
      },
      {
        "duration": 18,
        "start_time": "2022-11-19T08:18:33.610Z"
      },
      {
        "duration": 749,
        "start_time": "2022-11-19T08:18:33.631Z"
      },
      {
        "duration": 5,
        "start_time": "2022-11-19T08:18:34.381Z"
      },
      {
        "duration": 10,
        "start_time": "2022-11-19T08:18:34.388Z"
      },
      {
        "duration": 8,
        "start_time": "2022-11-19T08:18:34.413Z"
      },
      {
        "duration": 10,
        "start_time": "2022-11-19T08:18:34.423Z"
      },
      {
        "duration": 9,
        "start_time": "2022-11-19T08:18:34.434Z"
      },
      {
        "duration": 18,
        "start_time": "2022-11-19T08:18:34.445Z"
      },
      {
        "duration": 180,
        "start_time": "2022-11-19T08:18:34.464Z"
      },
      {
        "duration": 13,
        "start_time": "2022-11-19T08:18:34.646Z"
      },
      {
        "duration": 766,
        "start_time": "2022-11-19T08:18:34.662Z"
      },
      {
        "duration": 27,
        "start_time": "2022-11-19T08:18:35.430Z"
      },
      {
        "duration": 238,
        "start_time": "2022-11-19T08:18:35.459Z"
      },
      {
        "duration": 26,
        "start_time": "2022-11-19T08:18:35.699Z"
      },
      {
        "duration": 12,
        "start_time": "2022-11-19T08:18:35.727Z"
      },
      {
        "duration": 8,
        "start_time": "2022-11-19T08:18:35.741Z"
      },
      {
        "duration": 383,
        "start_time": "2022-11-19T08:18:35.751Z"
      },
      {
        "duration": 180,
        "start_time": "2022-11-19T08:18:36.136Z"
      },
      {
        "duration": 208,
        "start_time": "2022-11-19T08:18:36.318Z"
      },
      {
        "duration": 194,
        "start_time": "2022-11-19T08:18:36.528Z"
      },
      {
        "duration": 14,
        "start_time": "2022-11-19T08:18:36.723Z"
      },
      {
        "duration": 15,
        "start_time": "2022-11-19T08:18:36.738Z"
      },
      {
        "duration": 134,
        "start_time": "2022-11-19T08:18:36.755Z"
      },
      {
        "duration": 705,
        "start_time": "2022-11-19T08:18:36.891Z"
      },
      {
        "duration": 26,
        "start_time": "2022-11-19T08:18:37.598Z"
      },
      {
        "duration": 167,
        "start_time": "2022-11-19T08:18:37.625Z"
      },
      {
        "duration": 184,
        "start_time": "2022-11-19T08:18:37.793Z"
      },
      {
        "duration": 507,
        "start_time": "2022-11-19T08:18:37.979Z"
      },
      {
        "duration": 4,
        "start_time": "2022-11-19T08:18:38.487Z"
      },
      {
        "duration": 28,
        "start_time": "2022-11-19T08:18:38.493Z"
      },
      {
        "duration": 14,
        "start_time": "2022-11-19T08:18:38.523Z"
      },
      {
        "duration": 15,
        "start_time": "2022-11-19T08:18:38.539Z"
      },
      {
        "duration": 189,
        "start_time": "2022-11-19T08:18:38.556Z"
      },
      {
        "duration": 409,
        "start_time": "2022-11-19T08:18:38.746Z"
      },
      {
        "duration": 227,
        "start_time": "2022-11-19T08:18:39.157Z"
      },
      {
        "duration": 26,
        "start_time": "2022-11-19T08:18:39.387Z"
      },
      {
        "duration": 8,
        "start_time": "2022-11-19T08:18:39.415Z"
      },
      {
        "duration": 809,
        "start_time": "2022-11-19T08:18:39.428Z"
      },
      {
        "duration": 6,
        "start_time": "2022-11-19T08:18:40.238Z"
      },
      {
        "duration": 16,
        "start_time": "2022-11-19T08:18:40.246Z"
      },
      {
        "duration": 12,
        "start_time": "2022-11-19T08:18:40.263Z"
      },
      {
        "duration": 12,
        "start_time": "2022-11-19T08:18:40.276Z"
      },
      {
        "duration": 32,
        "start_time": "2022-11-19T08:18:40.289Z"
      },
      {
        "duration": 42,
        "start_time": "2022-11-19T10:36:37.709Z"
      },
      {
        "duration": 1280,
        "start_time": "2022-11-19T10:36:44.327Z"
      },
      {
        "duration": 183,
        "start_time": "2022-11-19T10:36:45.609Z"
      },
      {
        "duration": 13,
        "start_time": "2022-11-19T10:36:45.794Z"
      },
      {
        "duration": 15,
        "start_time": "2022-11-19T10:36:45.809Z"
      },
      {
        "duration": 669,
        "start_time": "2022-11-19T10:36:45.826Z"
      },
      {
        "duration": 4,
        "start_time": "2022-11-19T10:36:46.496Z"
      },
      {
        "duration": 99,
        "start_time": "2022-11-19T10:36:46.501Z"
      },
      {
        "duration": 0,
        "start_time": "2022-11-19T10:36:46.602Z"
      },
      {
        "duration": 0,
        "start_time": "2022-11-19T10:36:46.603Z"
      },
      {
        "duration": 0,
        "start_time": "2022-11-19T10:36:46.612Z"
      },
      {
        "duration": 0,
        "start_time": "2022-11-19T10:36:46.613Z"
      },
      {
        "duration": 0,
        "start_time": "2022-11-19T10:36:46.614Z"
      },
      {
        "duration": 0,
        "start_time": "2022-11-19T10:36:46.615Z"
      },
      {
        "duration": 0,
        "start_time": "2022-11-19T10:36:46.616Z"
      },
      {
        "duration": 0,
        "start_time": "2022-11-19T10:36:46.617Z"
      },
      {
        "duration": 0,
        "start_time": "2022-11-19T10:36:46.618Z"
      },
      {
        "duration": 0,
        "start_time": "2022-11-19T10:36:46.619Z"
      },
      {
        "duration": 0,
        "start_time": "2022-11-19T10:36:46.620Z"
      },
      {
        "duration": 0,
        "start_time": "2022-11-19T10:36:46.621Z"
      },
      {
        "duration": 0,
        "start_time": "2022-11-19T10:36:46.622Z"
      },
      {
        "duration": 0,
        "start_time": "2022-11-19T10:36:46.623Z"
      },
      {
        "duration": 0,
        "start_time": "2022-11-19T10:36:46.624Z"
      },
      {
        "duration": 0,
        "start_time": "2022-11-19T10:36:46.625Z"
      },
      {
        "duration": 0,
        "start_time": "2022-11-19T10:36:46.626Z"
      },
      {
        "duration": 0,
        "start_time": "2022-11-19T10:36:46.627Z"
      },
      {
        "duration": 0,
        "start_time": "2022-11-19T10:36:46.628Z"
      },
      {
        "duration": 0,
        "start_time": "2022-11-19T10:36:46.629Z"
      },
      {
        "duration": 0,
        "start_time": "2022-11-19T10:36:46.630Z"
      },
      {
        "duration": 0,
        "start_time": "2022-11-19T10:36:46.631Z"
      },
      {
        "duration": 0,
        "start_time": "2022-11-19T10:36:46.632Z"
      },
      {
        "duration": 0,
        "start_time": "2022-11-19T10:36:46.633Z"
      },
      {
        "duration": 0,
        "start_time": "2022-11-19T10:36:46.634Z"
      },
      {
        "duration": 0,
        "start_time": "2022-11-19T10:36:46.635Z"
      },
      {
        "duration": 0,
        "start_time": "2022-11-19T10:36:46.636Z"
      },
      {
        "duration": 0,
        "start_time": "2022-11-19T10:36:46.637Z"
      },
      {
        "duration": 0,
        "start_time": "2022-11-19T10:36:46.638Z"
      },
      {
        "duration": 0,
        "start_time": "2022-11-19T10:36:46.639Z"
      },
      {
        "duration": 0,
        "start_time": "2022-11-19T10:36:46.640Z"
      },
      {
        "duration": 0,
        "start_time": "2022-11-19T10:36:46.641Z"
      },
      {
        "duration": 0,
        "start_time": "2022-11-19T10:36:46.642Z"
      },
      {
        "duration": 1,
        "start_time": "2022-11-19T10:36:46.642Z"
      },
      {
        "duration": 0,
        "start_time": "2022-11-19T10:36:46.644Z"
      },
      {
        "duration": 0,
        "start_time": "2022-11-19T10:36:46.644Z"
      },
      {
        "duration": 0,
        "start_time": "2022-11-19T10:36:46.645Z"
      },
      {
        "duration": 0,
        "start_time": "2022-11-19T10:36:46.646Z"
      },
      {
        "duration": 0,
        "start_time": "2022-11-19T10:36:46.648Z"
      },
      {
        "duration": 0,
        "start_time": "2022-11-19T10:36:46.648Z"
      },
      {
        "duration": 3,
        "start_time": "2022-11-19T10:38:47.115Z"
      },
      {
        "duration": 5,
        "start_time": "2022-11-19T10:39:09.593Z"
      },
      {
        "duration": 1039,
        "start_time": "2022-11-19T10:39:14.553Z"
      },
      {
        "duration": 51,
        "start_time": "2022-11-19T10:39:15.594Z"
      },
      {
        "duration": 14,
        "start_time": "2022-11-19T10:39:15.646Z"
      },
      {
        "duration": 16,
        "start_time": "2022-11-19T10:39:15.662Z"
      },
      {
        "duration": 630,
        "start_time": "2022-11-19T10:39:15.679Z"
      },
      {
        "duration": 4,
        "start_time": "2022-11-19T10:39:16.310Z"
      },
      {
        "duration": 6,
        "start_time": "2022-11-19T10:39:16.315Z"
      },
      {
        "duration": 6,
        "start_time": "2022-11-19T10:39:16.323Z"
      },
      {
        "duration": 8,
        "start_time": "2022-11-19T10:39:16.330Z"
      },
      {
        "duration": 6,
        "start_time": "2022-11-19T10:39:16.341Z"
      },
      {
        "duration": 7,
        "start_time": "2022-11-19T10:39:16.348Z"
      },
      {
        "duration": 7,
        "start_time": "2022-11-19T10:39:16.356Z"
      },
      {
        "duration": 17,
        "start_time": "2022-11-19T10:39:16.365Z"
      },
      {
        "duration": 153,
        "start_time": "2022-11-19T10:39:16.412Z"
      },
      {
        "duration": 13,
        "start_time": "2022-11-19T10:39:16.566Z"
      },
      {
        "duration": 869,
        "start_time": "2022-11-19T10:39:16.581Z"
      },
      {
        "duration": 72,
        "start_time": "2022-11-19T10:39:17.452Z"
      },
      {
        "duration": 414,
        "start_time": "2022-11-19T10:39:17.526Z"
      },
      {
        "duration": 75,
        "start_time": "2022-11-19T10:39:17.941Z"
      },
      {
        "duration": 10,
        "start_time": "2022-11-19T10:39:18.018Z"
      },
      {
        "duration": 6,
        "start_time": "2022-11-19T10:39:18.029Z"
      },
      {
        "duration": 433,
        "start_time": "2022-11-19T10:39:18.036Z"
      },
      {
        "duration": 255,
        "start_time": "2022-11-19T10:39:18.471Z"
      },
      {
        "duration": 145,
        "start_time": "2022-11-19T10:39:18.727Z"
      },
      {
        "duration": 175,
        "start_time": "2022-11-19T10:39:18.873Z"
      },
      {
        "duration": 14,
        "start_time": "2022-11-19T10:39:19.050Z"
      },
      {
        "duration": 15,
        "start_time": "2022-11-19T10:39:19.066Z"
      },
      {
        "duration": 137,
        "start_time": "2022-11-19T10:39:19.085Z"
      },
      {
        "duration": 582,
        "start_time": "2022-11-19T10:39:19.223Z"
      },
      {
        "duration": 14,
        "start_time": "2022-11-19T10:39:19.812Z"
      },
      {
        "duration": 140,
        "start_time": "2022-11-19T10:39:19.827Z"
      },
      {
        "duration": 132,
        "start_time": "2022-11-19T10:39:19.969Z"
      },
      {
        "duration": 511,
        "start_time": "2022-11-19T10:39:20.103Z"
      },
      {
        "duration": 3,
        "start_time": "2022-11-19T10:39:20.616Z"
      },
      {
        "duration": 20,
        "start_time": "2022-11-19T10:39:20.621Z"
      },
      {
        "duration": 16,
        "start_time": "2022-11-19T10:39:20.643Z"
      },
      {
        "duration": 16,
        "start_time": "2022-11-19T10:39:20.661Z"
      },
      {
        "duration": 190,
        "start_time": "2022-11-19T10:39:20.678Z"
      },
      {
        "duration": 364,
        "start_time": "2022-11-19T10:39:20.870Z"
      },
      {
        "duration": 188,
        "start_time": "2022-11-19T10:39:21.235Z"
      },
      {
        "duration": 17,
        "start_time": "2022-11-19T10:39:21.424Z"
      },
      {
        "duration": 8,
        "start_time": "2022-11-19T10:39:21.442Z"
      },
      {
        "duration": 665,
        "start_time": "2022-11-19T10:39:21.451Z"
      },
      {
        "duration": 6,
        "start_time": "2022-11-19T10:39:22.117Z"
      },
      {
        "duration": 11,
        "start_time": "2022-11-19T10:39:22.124Z"
      },
      {
        "duration": 8,
        "start_time": "2022-11-19T10:39:22.136Z"
      },
      {
        "duration": 9,
        "start_time": "2022-11-19T10:39:22.145Z"
      },
      {
        "duration": 10,
        "start_time": "2022-11-19T10:39:22.156Z"
      },
      {
        "duration": 72,
        "start_time": "2022-11-19T10:42:00.179Z"
      },
      {
        "duration": 3,
        "start_time": "2022-11-19T10:42:06.736Z"
      },
      {
        "duration": 4,
        "start_time": "2022-11-19T10:42:30.749Z"
      },
      {
        "duration": 4,
        "start_time": "2022-11-19T10:42:31.853Z"
      },
      {
        "duration": 2,
        "start_time": "2022-11-19T10:49:24.096Z"
      },
      {
        "duration": 18,
        "start_time": "2022-11-19T10:49:54.910Z"
      },
      {
        "duration": 1106,
        "start_time": "2022-11-19T10:50:16.582Z"
      },
      {
        "duration": 51,
        "start_time": "2022-11-19T10:50:17.690Z"
      },
      {
        "duration": 14,
        "start_time": "2022-11-19T10:50:17.742Z"
      },
      {
        "duration": 17,
        "start_time": "2022-11-19T10:50:17.758Z"
      },
      {
        "duration": 662,
        "start_time": "2022-11-19T10:50:17.777Z"
      },
      {
        "duration": 4,
        "start_time": "2022-11-19T10:50:18.440Z"
      },
      {
        "duration": 6,
        "start_time": "2022-11-19T10:50:18.445Z"
      },
      {
        "duration": 11,
        "start_time": "2022-11-19T10:50:18.452Z"
      },
      {
        "duration": 7,
        "start_time": "2022-11-19T10:50:18.465Z"
      },
      {
        "duration": 6,
        "start_time": "2022-11-19T10:50:18.473Z"
      },
      {
        "duration": 20,
        "start_time": "2022-11-19T10:50:18.480Z"
      },
      {
        "duration": 15,
        "start_time": "2022-11-19T10:50:18.502Z"
      },
      {
        "duration": 10,
        "start_time": "2022-11-19T10:50:18.519Z"
      },
      {
        "duration": 16,
        "start_time": "2022-11-19T10:50:18.532Z"
      },
      {
        "duration": 168,
        "start_time": "2022-11-19T10:50:18.549Z"
      },
      {
        "duration": 11,
        "start_time": "2022-11-19T10:50:18.718Z"
      },
      {
        "duration": 1003,
        "start_time": "2022-11-19T10:50:18.731Z"
      },
      {
        "duration": 79,
        "start_time": "2022-11-19T10:50:19.735Z"
      },
      {
        "duration": 434,
        "start_time": "2022-11-19T10:50:19.816Z"
      },
      {
        "duration": 83,
        "start_time": "2022-11-19T10:50:20.252Z"
      },
      {
        "duration": 16,
        "start_time": "2022-11-19T10:50:20.337Z"
      },
      {
        "duration": 63,
        "start_time": "2022-11-19T10:50:20.355Z"
      },
      {
        "duration": 448,
        "start_time": "2022-11-19T10:50:20.421Z"
      },
      {
        "duration": 148,
        "start_time": "2022-11-19T10:50:20.871Z"
      },
      {
        "duration": 152,
        "start_time": "2022-11-19T10:50:21.021Z"
      },
      {
        "duration": 179,
        "start_time": "2022-11-19T10:50:21.174Z"
      },
      {
        "duration": 13,
        "start_time": "2022-11-19T10:50:21.354Z"
      },
      {
        "duration": 14,
        "start_time": "2022-11-19T10:50:21.369Z"
      },
      {
        "duration": 131,
        "start_time": "2022-11-19T10:50:21.384Z"
      },
      {
        "duration": 613,
        "start_time": "2022-11-19T10:50:21.517Z"
      },
      {
        "duration": 14,
        "start_time": "2022-11-19T10:50:22.132Z"
      },
      {
        "duration": 149,
        "start_time": "2022-11-19T10:50:22.148Z"
      },
      {
        "duration": 150,
        "start_time": "2022-11-19T10:50:22.299Z"
      },
      {
        "duration": 428,
        "start_time": "2022-11-19T10:50:22.450Z"
      },
      {
        "duration": 4,
        "start_time": "2022-11-19T10:50:22.879Z"
      },
      {
        "duration": 29,
        "start_time": "2022-11-19T10:50:22.885Z"
      },
      {
        "duration": 15,
        "start_time": "2022-11-19T10:50:22.916Z"
      },
      {
        "duration": 22,
        "start_time": "2022-11-19T10:50:22.933Z"
      },
      {
        "duration": 172,
        "start_time": "2022-11-19T10:50:22.957Z"
      },
      {
        "duration": 359,
        "start_time": "2022-11-19T10:50:23.130Z"
      },
      {
        "duration": 184,
        "start_time": "2022-11-19T10:50:23.493Z"
      },
      {
        "duration": 13,
        "start_time": "2022-11-19T10:50:23.679Z"
      },
      {
        "duration": 6,
        "start_time": "2022-11-19T10:50:23.694Z"
      },
      {
        "duration": 664,
        "start_time": "2022-11-19T10:50:23.702Z"
      },
      {
        "duration": 5,
        "start_time": "2022-11-19T10:50:24.368Z"
      },
      {
        "duration": 14,
        "start_time": "2022-11-19T10:50:24.374Z"
      },
      {
        "duration": 28,
        "start_time": "2022-11-19T10:50:24.389Z"
      },
      {
        "duration": 10,
        "start_time": "2022-11-19T10:50:24.418Z"
      },
      {
        "duration": 9,
        "start_time": "2022-11-19T10:50:24.430Z"
      },
      {
        "duration": 7,
        "start_time": "2022-11-19T10:52:00.945Z"
      },
      {
        "duration": 8,
        "start_time": "2022-11-19T10:52:31.704Z"
      },
      {
        "duration": 146,
        "start_time": "2022-11-19T10:54:46.339Z"
      },
      {
        "duration": 24,
        "start_time": "2022-11-19T10:58:09.028Z"
      },
      {
        "duration": 27,
        "start_time": "2022-11-19T10:58:54.595Z"
      },
      {
        "duration": 15,
        "start_time": "2022-11-19T10:59:00.952Z"
      },
      {
        "duration": 8,
        "start_time": "2022-11-19T11:00:19.001Z"
      },
      {
        "duration": 10,
        "start_time": "2022-11-19T11:00:28.342Z"
      },
      {
        "duration": 9,
        "start_time": "2022-11-19T11:00:30.903Z"
      },
      {
        "duration": 13,
        "start_time": "2022-11-19T11:02:34.807Z"
      },
      {
        "duration": 632,
        "start_time": "2022-11-19T11:02:43.337Z"
      },
      {
        "duration": 22,
        "start_time": "2022-11-19T11:06:25.094Z"
      },
      {
        "duration": 10,
        "start_time": "2022-11-19T11:06:33.090Z"
      },
      {
        "duration": 6,
        "start_time": "2022-11-19T11:06:49.187Z"
      },
      {
        "duration": 12,
        "start_time": "2022-11-19T11:07:05.067Z"
      },
      {
        "duration": 6,
        "start_time": "2022-11-19T11:07:10.914Z"
      },
      {
        "duration": 1081,
        "start_time": "2022-11-19T11:07:22.013Z"
      },
      {
        "duration": 50,
        "start_time": "2022-11-19T11:07:23.095Z"
      },
      {
        "duration": 12,
        "start_time": "2022-11-19T11:07:23.147Z"
      },
      {
        "duration": 21,
        "start_time": "2022-11-19T11:07:23.161Z"
      },
      {
        "duration": 681,
        "start_time": "2022-11-19T11:07:23.184Z"
      },
      {
        "duration": 5,
        "start_time": "2022-11-19T11:07:23.866Z"
      },
      {
        "duration": 16,
        "start_time": "2022-11-19T11:07:23.872Z"
      },
      {
        "duration": 30,
        "start_time": "2022-11-19T11:07:23.889Z"
      },
      {
        "duration": 23,
        "start_time": "2022-11-19T11:07:23.920Z"
      },
      {
        "duration": 26,
        "start_time": "2022-11-19T11:07:23.946Z"
      },
      {
        "duration": 30,
        "start_time": "2022-11-19T11:07:23.973Z"
      },
      {
        "duration": 30,
        "start_time": "2022-11-19T11:07:24.005Z"
      },
      {
        "duration": 14,
        "start_time": "2022-11-19T11:07:24.036Z"
      },
      {
        "duration": 34,
        "start_time": "2022-11-19T11:07:24.051Z"
      },
      {
        "duration": 140,
        "start_time": "2022-11-19T11:07:24.086Z"
      },
      {
        "duration": 11,
        "start_time": "2022-11-19T11:07:24.228Z"
      },
      {
        "duration": 665,
        "start_time": "2022-11-19T11:07:24.241Z"
      },
      {
        "duration": 30,
        "start_time": "2022-11-19T11:07:24.907Z"
      },
      {
        "duration": 228,
        "start_time": "2022-11-19T11:07:24.939Z"
      },
      {
        "duration": 22,
        "start_time": "2022-11-19T11:07:25.169Z"
      },
      {
        "duration": 22,
        "start_time": "2022-11-19T11:07:25.193Z"
      },
      {
        "duration": 16,
        "start_time": "2022-11-19T11:07:25.216Z"
      },
      {
        "duration": 202,
        "start_time": "2022-11-19T11:07:25.234Z"
      },
      {
        "duration": 150,
        "start_time": "2022-11-19T11:07:25.438Z"
      },
      {
        "duration": 153,
        "start_time": "2022-11-19T11:07:25.589Z"
      },
      {
        "duration": 170,
        "start_time": "2022-11-19T11:07:25.743Z"
      },
      {
        "duration": 12,
        "start_time": "2022-11-19T11:07:25.914Z"
      },
      {
        "duration": 25,
        "start_time": "2022-11-19T11:07:25.929Z"
      },
      {
        "duration": 122,
        "start_time": "2022-11-19T11:07:25.956Z"
      },
      {
        "duration": 615,
        "start_time": "2022-11-19T11:07:26.080Z"
      },
      {
        "duration": 22,
        "start_time": "2022-11-19T11:07:26.697Z"
      },
      {
        "duration": 152,
        "start_time": "2022-11-19T11:07:26.720Z"
      },
      {
        "duration": 173,
        "start_time": "2022-11-19T11:07:26.873Z"
      },
      {
        "duration": 456,
        "start_time": "2022-11-19T11:07:27.048Z"
      },
      {
        "duration": 8,
        "start_time": "2022-11-19T11:07:27.506Z"
      },
      {
        "duration": 18,
        "start_time": "2022-11-19T11:07:27.515Z"
      },
      {
        "duration": 14,
        "start_time": "2022-11-19T11:07:27.534Z"
      },
      {
        "duration": 14,
        "start_time": "2022-11-19T11:07:27.550Z"
      },
      {
        "duration": 167,
        "start_time": "2022-11-19T11:07:27.565Z"
      },
      {
        "duration": 369,
        "start_time": "2022-11-19T11:07:27.734Z"
      },
      {
        "duration": 173,
        "start_time": "2022-11-19T11:07:28.105Z"
      },
      {
        "duration": 12,
        "start_time": "2022-11-19T11:07:28.280Z"
      },
      {
        "duration": 4,
        "start_time": "2022-11-19T11:07:28.294Z"
      },
      {
        "duration": 183,
        "start_time": "2022-11-19T11:07:28.299Z"
      },
      {
        "duration": 4,
        "start_time": "2022-11-19T11:07:28.484Z"
      },
      {
        "duration": 29,
        "start_time": "2022-11-19T11:07:28.489Z"
      },
      {
        "duration": 10,
        "start_time": "2022-11-19T11:07:28.520Z"
      },
      {
        "duration": 13,
        "start_time": "2022-11-19T11:07:28.531Z"
      },
      {
        "duration": 10,
        "start_time": "2022-11-19T11:07:28.546Z"
      },
      {
        "duration": 21,
        "start_time": "2022-11-19T11:08:16.134Z"
      },
      {
        "duration": 11,
        "start_time": "2022-11-19T11:08:19.353Z"
      },
      {
        "duration": 6,
        "start_time": "2022-11-19T11:08:22.986Z"
      },
      {
        "duration": 224,
        "start_time": "2022-11-19T11:08:26.025Z"
      },
      {
        "duration": 13,
        "start_time": "2022-11-19T11:09:33.786Z"
      },
      {
        "duration": 5,
        "start_time": "2022-11-19T11:09:37.904Z"
      },
      {
        "duration": 230,
        "start_time": "2022-11-19T11:09:41.296Z"
      },
      {
        "duration": 202,
        "start_time": "2022-11-19T11:09:57.904Z"
      },
      {
        "duration": 206,
        "start_time": "2022-11-19T11:36:26.118Z"
      },
      {
        "duration": 137,
        "start_time": "2022-11-19T11:36:33.005Z"
      },
      {
        "duration": 234,
        "start_time": "2022-11-19T11:49:57.646Z"
      },
      {
        "duration": 143,
        "start_time": "2022-11-19T11:50:10.984Z"
      },
      {
        "duration": 145,
        "start_time": "2022-11-19T11:50:16.298Z"
      },
      {
        "duration": 140,
        "start_time": "2022-11-19T11:50:20.454Z"
      },
      {
        "duration": 152,
        "start_time": "2022-11-19T11:50:37.183Z"
      },
      {
        "duration": 145,
        "start_time": "2022-11-19T11:50:45.185Z"
      },
      {
        "duration": 154,
        "start_time": "2022-11-19T11:50:55.582Z"
      },
      {
        "duration": 193,
        "start_time": "2022-11-19T11:51:00.300Z"
      },
      {
        "duration": 145,
        "start_time": "2022-11-19T11:51:35.621Z"
      },
      {
        "duration": 138,
        "start_time": "2022-11-19T11:51:44.500Z"
      },
      {
        "duration": 152,
        "start_time": "2022-11-19T12:59:09.756Z"
      },
      {
        "duration": 253,
        "start_time": "2022-11-19T12:59:13.756Z"
      },
      {
        "duration": 18,
        "start_time": "2022-11-19T13:01:00.251Z"
      },
      {
        "duration": 14,
        "start_time": "2022-11-19T13:02:08.707Z"
      },
      {
        "duration": 4,
        "start_time": "2022-11-19T13:06:44.202Z"
      },
      {
        "duration": 9,
        "start_time": "2022-11-19T13:07:05.724Z"
      },
      {
        "duration": 7,
        "start_time": "2022-11-19T13:07:52.051Z"
      },
      {
        "duration": 1142,
        "start_time": "2022-11-19T13:08:34.423Z"
      },
      {
        "duration": 51,
        "start_time": "2022-11-19T13:08:35.566Z"
      },
      {
        "duration": 15,
        "start_time": "2022-11-19T13:08:35.619Z"
      },
      {
        "duration": 17,
        "start_time": "2022-11-19T13:08:35.636Z"
      },
      {
        "duration": 658,
        "start_time": "2022-11-19T13:08:35.655Z"
      },
      {
        "duration": 4,
        "start_time": "2022-11-19T13:08:36.314Z"
      },
      {
        "duration": 5,
        "start_time": "2022-11-19T13:08:36.319Z"
      },
      {
        "duration": 5,
        "start_time": "2022-11-19T13:08:36.326Z"
      },
      {
        "duration": 6,
        "start_time": "2022-11-19T13:08:36.333Z"
      },
      {
        "duration": 3,
        "start_time": "2022-11-19T13:08:36.342Z"
      },
      {
        "duration": 10,
        "start_time": "2022-11-19T13:08:36.346Z"
      },
      {
        "duration": 9,
        "start_time": "2022-11-19T13:08:36.357Z"
      },
      {
        "duration": 112,
        "start_time": "2022-11-19T13:08:36.368Z"
      },
      {
        "duration": 0,
        "start_time": "2022-11-19T13:08:36.482Z"
      },
      {
        "duration": 0,
        "start_time": "2022-11-19T13:08:36.483Z"
      },
      {
        "duration": 0,
        "start_time": "2022-11-19T13:08:36.485Z"
      },
      {
        "duration": 0,
        "start_time": "2022-11-19T13:08:36.485Z"
      },
      {
        "duration": 0,
        "start_time": "2022-11-19T13:08:36.486Z"
      },
      {
        "duration": 0,
        "start_time": "2022-11-19T13:08:36.487Z"
      },
      {
        "duration": 0,
        "start_time": "2022-11-19T13:08:36.488Z"
      },
      {
        "duration": 0,
        "start_time": "2022-11-19T13:08:36.489Z"
      },
      {
        "duration": 0,
        "start_time": "2022-11-19T13:08:36.490Z"
      },
      {
        "duration": 0,
        "start_time": "2022-11-19T13:08:36.492Z"
      },
      {
        "duration": 0,
        "start_time": "2022-11-19T13:08:36.513Z"
      },
      {
        "duration": 0,
        "start_time": "2022-11-19T13:08:36.514Z"
      },
      {
        "duration": 0,
        "start_time": "2022-11-19T13:08:36.515Z"
      },
      {
        "duration": 0,
        "start_time": "2022-11-19T13:08:36.516Z"
      },
      {
        "duration": 0,
        "start_time": "2022-11-19T13:08:36.517Z"
      },
      {
        "duration": 0,
        "start_time": "2022-11-19T13:08:36.518Z"
      },
      {
        "duration": 0,
        "start_time": "2022-11-19T13:08:36.519Z"
      },
      {
        "duration": 0,
        "start_time": "2022-11-19T13:08:36.520Z"
      },
      {
        "duration": 0,
        "start_time": "2022-11-19T13:08:36.521Z"
      },
      {
        "duration": 0,
        "start_time": "2022-11-19T13:08:36.522Z"
      },
      {
        "duration": 0,
        "start_time": "2022-11-19T13:08:36.523Z"
      },
      {
        "duration": 0,
        "start_time": "2022-11-19T13:08:36.524Z"
      },
      {
        "duration": 0,
        "start_time": "2022-11-19T13:08:36.525Z"
      },
      {
        "duration": 0,
        "start_time": "2022-11-19T13:08:36.526Z"
      },
      {
        "duration": 0,
        "start_time": "2022-11-19T13:08:36.528Z"
      },
      {
        "duration": 0,
        "start_time": "2022-11-19T13:08:36.529Z"
      },
      {
        "duration": 0,
        "start_time": "2022-11-19T13:08:36.530Z"
      },
      {
        "duration": 0,
        "start_time": "2022-11-19T13:08:36.531Z"
      },
      {
        "duration": 0,
        "start_time": "2022-11-19T13:08:36.532Z"
      },
      {
        "duration": 0,
        "start_time": "2022-11-19T13:08:36.533Z"
      },
      {
        "duration": 0,
        "start_time": "2022-11-19T13:08:36.534Z"
      },
      {
        "duration": 0,
        "start_time": "2022-11-19T13:08:36.534Z"
      },
      {
        "duration": 0,
        "start_time": "2022-11-19T13:08:36.535Z"
      },
      {
        "duration": 0,
        "start_time": "2022-11-19T13:08:36.536Z"
      },
      {
        "duration": 0,
        "start_time": "2022-11-19T13:08:36.538Z"
      },
      {
        "duration": 0,
        "start_time": "2022-11-19T13:08:36.539Z"
      },
      {
        "duration": 0,
        "start_time": "2022-11-19T13:08:36.540Z"
      },
      {
        "duration": 0,
        "start_time": "2022-11-19T13:08:36.541Z"
      },
      {
        "duration": 5,
        "start_time": "2022-11-19T13:17:49.545Z"
      },
      {
        "duration": 1109,
        "start_time": "2022-11-19T13:17:56.695Z"
      },
      {
        "duration": 51,
        "start_time": "2022-11-19T13:17:57.806Z"
      },
      {
        "duration": 15,
        "start_time": "2022-11-19T13:17:57.859Z"
      },
      {
        "duration": 21,
        "start_time": "2022-11-19T13:17:57.877Z"
      },
      {
        "duration": 687,
        "start_time": "2022-11-19T13:17:57.900Z"
      },
      {
        "duration": 4,
        "start_time": "2022-11-19T13:17:58.589Z"
      },
      {
        "duration": 7,
        "start_time": "2022-11-19T13:17:58.594Z"
      },
      {
        "duration": 14,
        "start_time": "2022-11-19T13:17:58.602Z"
      },
      {
        "duration": 4,
        "start_time": "2022-11-19T13:17:58.617Z"
      },
      {
        "duration": 5,
        "start_time": "2022-11-19T13:17:58.624Z"
      },
      {
        "duration": 10,
        "start_time": "2022-11-19T13:17:58.630Z"
      },
      {
        "duration": 8,
        "start_time": "2022-11-19T13:17:58.642Z"
      },
      {
        "duration": 4,
        "start_time": "2022-11-19T13:17:58.651Z"
      },
      {
        "duration": 10,
        "start_time": "2022-11-19T13:17:58.656Z"
      },
      {
        "duration": 8,
        "start_time": "2022-11-19T13:17:58.668Z"
      },
      {
        "duration": 50,
        "start_time": "2022-11-19T13:17:58.678Z"
      },
      {
        "duration": 155,
        "start_time": "2022-11-19T13:17:58.729Z"
      },
      {
        "duration": 12,
        "start_time": "2022-11-19T13:17:58.885Z"
      },
      {
        "duration": 689,
        "start_time": "2022-11-19T13:17:58.898Z"
      },
      {
        "duration": 28,
        "start_time": "2022-11-19T13:17:59.589Z"
      },
      {
        "duration": 222,
        "start_time": "2022-11-19T13:17:59.618Z"
      },
      {
        "duration": 28,
        "start_time": "2022-11-19T13:17:59.842Z"
      },
      {
        "duration": 15,
        "start_time": "2022-11-19T13:17:59.871Z"
      },
      {
        "duration": 5,
        "start_time": "2022-11-19T13:17:59.888Z"
      },
      {
        "duration": 213,
        "start_time": "2022-11-19T13:17:59.913Z"
      },
      {
        "duration": 161,
        "start_time": "2022-11-19T13:18:00.128Z"
      },
      {
        "duration": 176,
        "start_time": "2022-11-19T13:18:00.291Z"
      },
      {
        "duration": 215,
        "start_time": "2022-11-19T13:18:00.473Z"
      },
      {
        "duration": 23,
        "start_time": "2022-11-19T13:18:00.690Z"
      },
      {
        "duration": 26,
        "start_time": "2022-11-19T13:18:00.715Z"
      },
      {
        "duration": 116,
        "start_time": "2022-11-19T13:18:00.742Z"
      },
      {
        "duration": 667,
        "start_time": "2022-11-19T13:18:00.860Z"
      },
      {
        "duration": 15,
        "start_time": "2022-11-19T13:18:01.530Z"
      },
      {
        "duration": 158,
        "start_time": "2022-11-19T13:18:01.546Z"
      },
      {
        "duration": 166,
        "start_time": "2022-11-19T13:18:01.706Z"
      },
      {
        "duration": 441,
        "start_time": "2022-11-19T13:18:01.874Z"
      },
      {
        "duration": 3,
        "start_time": "2022-11-19T13:18:02.317Z"
      },
      {
        "duration": 20,
        "start_time": "2022-11-19T13:18:02.321Z"
      },
      {
        "duration": 17,
        "start_time": "2022-11-19T13:18:02.343Z"
      },
      {
        "duration": 15,
        "start_time": "2022-11-19T13:18:02.361Z"
      },
      {
        "duration": 175,
        "start_time": "2022-11-19T13:18:02.377Z"
      },
      {
        "duration": 380,
        "start_time": "2022-11-19T13:18:02.553Z"
      },
      {
        "duration": 161,
        "start_time": "2022-11-19T13:18:02.935Z"
      },
      {
        "duration": 21,
        "start_time": "2022-11-19T13:18:03.097Z"
      },
      {
        "duration": 4,
        "start_time": "2022-11-19T13:18:03.120Z"
      },
      {
        "duration": 210,
        "start_time": "2022-11-19T13:18:03.125Z"
      },
      {
        "duration": 4,
        "start_time": "2022-11-19T13:18:03.337Z"
      },
      {
        "duration": 11,
        "start_time": "2022-11-19T13:18:03.342Z"
      },
      {
        "duration": 11,
        "start_time": "2022-11-19T13:18:03.354Z"
      },
      {
        "duration": 10,
        "start_time": "2022-11-19T13:18:03.367Z"
      },
      {
        "duration": 38,
        "start_time": "2022-11-19T13:18:03.379Z"
      },
      {
        "duration": 170,
        "start_time": "2022-11-19T13:23:39.383Z"
      },
      {
        "duration": 198,
        "start_time": "2022-11-19T13:24:19.817Z"
      },
      {
        "duration": 1209,
        "start_time": "2022-11-19T13:24:27.713Z"
      },
      {
        "duration": 133,
        "start_time": "2022-11-19T13:24:45.256Z"
      },
      {
        "duration": 137,
        "start_time": "2022-11-19T13:25:09.132Z"
      },
      {
        "duration": 242,
        "start_time": "2022-11-19T13:25:21.297Z"
      },
      {
        "duration": 139,
        "start_time": "2022-11-19T13:51:42.931Z"
      },
      {
        "duration": 1281,
        "start_time": "2022-11-19T13:52:03.914Z"
      },
      {
        "duration": 14,
        "start_time": "2022-11-19T13:53:15.840Z"
      },
      {
        "duration": 15,
        "start_time": "2022-11-19T13:53:27.181Z"
      },
      {
        "duration": 30,
        "start_time": "2022-11-19T13:53:38.011Z"
      },
      {
        "duration": 33,
        "start_time": "2022-11-19T13:54:28.068Z"
      },
      {
        "duration": 14,
        "start_time": "2022-11-19T13:54:43.928Z"
      },
      {
        "duration": 13,
        "start_time": "2022-11-19T13:55:07.234Z"
      },
      {
        "duration": 41,
        "start_time": "2022-11-19T13:55:24.599Z"
      },
      {
        "duration": 33,
        "start_time": "2022-11-19T14:01:19.997Z"
      },
      {
        "duration": 30,
        "start_time": "2022-11-19T14:02:22.319Z"
      },
      {
        "duration": 17,
        "start_time": "2022-11-19T14:02:34.845Z"
      },
      {
        "duration": 16,
        "start_time": "2022-11-19T14:03:36.509Z"
      },
      {
        "duration": 31,
        "start_time": "2022-11-19T14:04:05.711Z"
      },
      {
        "duration": 33,
        "start_time": "2022-11-19T14:04:17.926Z"
      },
      {
        "duration": 18,
        "start_time": "2022-11-19T14:04:40.200Z"
      },
      {
        "duration": 11,
        "start_time": "2022-11-19T14:04:57.797Z"
      },
      {
        "duration": 1168,
        "start_time": "2022-11-19T14:05:22.210Z"
      },
      {
        "duration": 11,
        "start_time": "2022-11-19T14:05:40.852Z"
      },
      {
        "duration": 1171,
        "start_time": "2022-11-19T14:07:02.015Z"
      },
      {
        "duration": 11,
        "start_time": "2022-11-19T14:07:25.043Z"
      },
      {
        "duration": 15,
        "start_time": "2022-11-19T14:07:32.336Z"
      },
      {
        "duration": 15,
        "start_time": "2022-11-19T14:09:08.698Z"
      },
      {
        "duration": 14,
        "start_time": "2022-11-19T14:09:29.200Z"
      },
      {
        "duration": 12,
        "start_time": "2022-11-19T14:17:40.526Z"
      },
      {
        "duration": 1645,
        "start_time": "2022-11-19T14:20:11.102Z"
      },
      {
        "duration": 8,
        "start_time": "2022-11-19T14:20:23.746Z"
      },
      {
        "duration": 974,
        "start_time": "2022-11-19T14:20:43.594Z"
      },
      {
        "duration": 116,
        "start_time": "2022-11-19T14:21:08.300Z"
      },
      {
        "duration": 11,
        "start_time": "2022-11-19T14:21:11.869Z"
      },
      {
        "duration": 10,
        "start_time": "2022-11-19T14:21:31.773Z"
      },
      {
        "duration": 27,
        "start_time": "2022-11-19T14:21:49.306Z"
      },
      {
        "duration": 21,
        "start_time": "2022-11-19T14:22:23.778Z"
      },
      {
        "duration": 12,
        "start_time": "2022-11-19T14:24:17.826Z"
      },
      {
        "duration": 10,
        "start_time": "2022-11-19T14:24:23.794Z"
      },
      {
        "duration": 10,
        "start_time": "2022-11-19T14:24:40.636Z"
      },
      {
        "duration": 11,
        "start_time": "2022-11-19T14:25:16.994Z"
      },
      {
        "duration": 1337,
        "start_time": "2022-11-19T14:25:59.149Z"
      },
      {
        "duration": 17,
        "start_time": "2022-11-19T14:26:37.694Z"
      },
      {
        "duration": 30,
        "start_time": "2022-11-19T14:27:19.145Z"
      },
      {
        "duration": 30,
        "start_time": "2022-11-19T14:27:54.628Z"
      },
      {
        "duration": 131,
        "start_time": "2022-11-19T14:30:01.726Z"
      },
      {
        "duration": 1234,
        "start_time": "2022-11-19T14:38:07.426Z"
      },
      {
        "duration": 36,
        "start_time": "2022-11-19T14:39:05.609Z"
      },
      {
        "duration": 132,
        "start_time": "2022-11-19T14:53:01.183Z"
      },
      {
        "duration": 141,
        "start_time": "2022-11-19T14:53:11.057Z"
      },
      {
        "duration": 23,
        "start_time": "2022-11-19T14:58:46.926Z"
      },
      {
        "duration": 17,
        "start_time": "2022-11-19T14:58:55.974Z"
      },
      {
        "duration": 209,
        "start_time": "2022-11-19T14:59:11.472Z"
      },
      {
        "duration": 270,
        "start_time": "2022-11-19T14:59:33.616Z"
      },
      {
        "duration": 367,
        "start_time": "2022-11-19T15:00:13.924Z"
      },
      {
        "duration": 244,
        "start_time": "2022-11-19T15:00:26.977Z"
      },
      {
        "duration": 219,
        "start_time": "2022-11-19T15:00:38.190Z"
      },
      {
        "duration": 21,
        "start_time": "2022-11-19T15:01:24.146Z"
      },
      {
        "duration": 25,
        "start_time": "2022-11-19T15:01:33.725Z"
      },
      {
        "duration": 21,
        "start_time": "2022-11-19T15:01:43.121Z"
      },
      {
        "duration": 218,
        "start_time": "2022-11-19T15:01:51.672Z"
      },
      {
        "duration": 4,
        "start_time": "2022-11-19T15:02:45.969Z"
      },
      {
        "duration": 5,
        "start_time": "2022-11-19T15:02:51.710Z"
      },
      {
        "duration": 5,
        "start_time": "2022-11-19T15:03:08.700Z"
      },
      {
        "duration": 14,
        "start_time": "2022-11-19T15:03:46.337Z"
      },
      {
        "duration": 14,
        "start_time": "2022-11-19T15:04:01.333Z"
      },
      {
        "duration": 66,
        "start_time": "2022-11-19T15:04:14.024Z"
      },
      {
        "duration": 74,
        "start_time": "2022-11-19T15:04:22.255Z"
      },
      {
        "duration": 15,
        "start_time": "2022-11-19T15:04:27.258Z"
      },
      {
        "duration": 488,
        "start_time": "2022-11-19T15:05:58.920Z"
      },
      {
        "duration": 222,
        "start_time": "2022-11-19T15:06:47.549Z"
      },
      {
        "duration": 219,
        "start_time": "2022-11-19T15:07:19.426Z"
      },
      {
        "duration": 225,
        "start_time": "2022-11-19T15:07:41.344Z"
      },
      {
        "duration": 18,
        "start_time": "2022-11-19T15:08:33.445Z"
      },
      {
        "duration": 253,
        "start_time": "2022-11-19T15:08:40.134Z"
      },
      {
        "duration": 562,
        "start_time": "2022-11-19T15:23:10.056Z"
      },
      {
        "duration": 16,
        "start_time": "2022-11-19T15:23:23.348Z"
      },
      {
        "duration": 17,
        "start_time": "2022-11-19T15:23:33.093Z"
      },
      {
        "duration": 21,
        "start_time": "2022-11-19T15:23:37.398Z"
      },
      {
        "duration": 4,
        "start_time": "2022-11-19T15:24:39.561Z"
      },
      {
        "duration": 22,
        "start_time": "2022-11-19T15:24:45.369Z"
      },
      {
        "duration": 4,
        "start_time": "2022-11-19T15:24:52.874Z"
      },
      {
        "duration": 20,
        "start_time": "2022-11-19T15:24:55.274Z"
      },
      {
        "duration": 71,
        "start_time": "2022-11-19T15:25:31.374Z"
      },
      {
        "duration": 159,
        "start_time": "2022-11-19T15:25:34.940Z"
      },
      {
        "duration": 369,
        "start_time": "2022-11-19T15:30:47.431Z"
      },
      {
        "duration": 165,
        "start_time": "2022-11-19T15:32:06.967Z"
      },
      {
        "duration": 159,
        "start_time": "2022-11-19T15:32:10.782Z"
      },
      {
        "duration": 2,
        "start_time": "2022-11-19T15:33:26.978Z"
      },
      {
        "duration": 1084,
        "start_time": "2022-11-19T15:33:43.113Z"
      },
      {
        "duration": 54,
        "start_time": "2022-11-19T15:33:44.199Z"
      },
      {
        "duration": 13,
        "start_time": "2022-11-19T15:33:44.254Z"
      },
      {
        "duration": 17,
        "start_time": "2022-11-19T15:33:44.268Z"
      },
      {
        "duration": 741,
        "start_time": "2022-11-19T15:33:44.286Z"
      },
      {
        "duration": 4,
        "start_time": "2022-11-19T15:33:45.032Z"
      },
      {
        "duration": 8,
        "start_time": "2022-11-19T15:33:45.037Z"
      },
      {
        "duration": 7,
        "start_time": "2022-11-19T15:33:45.046Z"
      },
      {
        "duration": 5,
        "start_time": "2022-11-19T15:33:45.054Z"
      },
      {
        "duration": 5,
        "start_time": "2022-11-19T15:33:45.061Z"
      },
      {
        "duration": 9,
        "start_time": "2022-11-19T15:33:45.067Z"
      },
      {
        "duration": 9,
        "start_time": "2022-11-19T15:33:45.078Z"
      },
      {
        "duration": 4,
        "start_time": "2022-11-19T15:33:45.088Z"
      },
      {
        "duration": 19,
        "start_time": "2022-11-19T15:33:45.094Z"
      },
      {
        "duration": 24,
        "start_time": "2022-11-19T15:33:45.116Z"
      },
      {
        "duration": 155,
        "start_time": "2022-11-19T15:33:45.141Z"
      },
      {
        "duration": 30,
        "start_time": "2022-11-19T15:33:45.298Z"
      },
      {
        "duration": 667,
        "start_time": "2022-11-19T15:33:45.329Z"
      },
      {
        "duration": 32,
        "start_time": "2022-11-19T15:33:45.998Z"
      },
      {
        "duration": 235,
        "start_time": "2022-11-19T15:33:46.032Z"
      },
      {
        "duration": 23,
        "start_time": "2022-11-19T15:33:46.269Z"
      },
      {
        "duration": 36,
        "start_time": "2022-11-19T15:33:46.294Z"
      },
      {
        "duration": 6,
        "start_time": "2022-11-19T15:33:46.331Z"
      },
      {
        "duration": 211,
        "start_time": "2022-11-19T15:33:46.339Z"
      },
      {
        "duration": 169,
        "start_time": "2022-11-19T15:33:46.552Z"
      },
      {
        "duration": 139,
        "start_time": "2022-11-19T15:33:46.729Z"
      },
      {
        "duration": 183,
        "start_time": "2022-11-19T15:33:46.869Z"
      },
      {
        "duration": 12,
        "start_time": "2022-11-19T15:33:47.055Z"
      },
      {
        "duration": 16,
        "start_time": "2022-11-19T15:33:47.069Z"
      },
      {
        "duration": 163,
        "start_time": "2022-11-19T15:33:47.087Z"
      },
      {
        "duration": 150,
        "start_time": "2022-11-19T15:33:47.251Z"
      },
      {
        "duration": 1519,
        "start_time": "2022-11-19T15:33:47.402Z"
      },
      {
        "duration": 33,
        "start_time": "2022-11-19T15:33:48.930Z"
      },
      {
        "duration": 175,
        "start_time": "2022-11-19T15:33:48.965Z"
      },
      {
        "duration": 170,
        "start_time": "2022-11-19T15:33:49.142Z"
      },
      {
        "duration": 250,
        "start_time": "2022-11-19T15:33:49.316Z"
      },
      {
        "duration": 391,
        "start_time": "2022-11-19T15:33:49.567Z"
      },
      {
        "duration": 4,
        "start_time": "2022-11-19T15:33:49.960Z"
      },
      {
        "duration": 18,
        "start_time": "2022-11-19T15:33:49.965Z"
      },
      {
        "duration": 36,
        "start_time": "2022-11-19T15:33:49.985Z"
      },
      {
        "duration": 20,
        "start_time": "2022-11-19T15:33:50.024Z"
      },
      {
        "duration": 189,
        "start_time": "2022-11-19T15:33:50.046Z"
      },
      {
        "duration": 465,
        "start_time": "2022-11-19T15:33:50.236Z"
      },
      {
        "duration": 183,
        "start_time": "2022-11-19T15:33:50.702Z"
      },
      {
        "duration": 13,
        "start_time": "2022-11-19T15:33:50.886Z"
      },
      {
        "duration": 17,
        "start_time": "2022-11-19T15:33:50.901Z"
      },
      {
        "duration": 181,
        "start_time": "2022-11-19T15:33:50.921Z"
      },
      {
        "duration": 5,
        "start_time": "2022-11-19T15:33:51.104Z"
      },
      {
        "duration": 25,
        "start_time": "2022-11-19T15:33:51.111Z"
      },
      {
        "duration": 27,
        "start_time": "2022-11-19T15:33:51.140Z"
      },
      {
        "duration": 15,
        "start_time": "2022-11-19T15:33:51.168Z"
      },
      {
        "duration": 10,
        "start_time": "2022-11-19T15:33:51.185Z"
      },
      {
        "duration": 106,
        "start_time": "2022-11-19T15:35:38.601Z"
      },
      {
        "duration": 501,
        "start_time": "2022-11-19T15:35:48.436Z"
      },
      {
        "duration": 16,
        "start_time": "2022-11-19T15:40:03.194Z"
      },
      {
        "duration": 368,
        "start_time": "2022-11-19T15:40:22.783Z"
      },
      {
        "duration": 174,
        "start_time": "2022-11-19T15:42:11.116Z"
      },
      {
        "duration": 458,
        "start_time": "2022-11-19T15:42:40.570Z"
      },
      {
        "duration": 70,
        "start_time": "2022-11-19T15:43:22.326Z"
      },
      {
        "duration": 491,
        "start_time": "2022-11-19T15:43:25.857Z"
      },
      {
        "duration": 470,
        "start_time": "2022-11-19T15:43:33.179Z"
      },
      {
        "duration": 126,
        "start_time": "2022-11-19T15:44:17.652Z"
      },
      {
        "duration": 547,
        "start_time": "2022-11-19T15:44:28.726Z"
      },
      {
        "duration": 110,
        "start_time": "2022-11-19T15:52:11.071Z"
      },
      {
        "duration": 490,
        "start_time": "2022-11-19T15:52:24.839Z"
      },
      {
        "duration": 432,
        "start_time": "2022-11-19T15:53:49.526Z"
      },
      {
        "duration": 424,
        "start_time": "2022-11-19T15:54:02.965Z"
      },
      {
        "duration": 484,
        "start_time": "2022-11-19T15:54:26.185Z"
      },
      {
        "duration": 2,
        "start_time": "2022-11-19T15:56:23.004Z"
      },
      {
        "duration": 2,
        "start_time": "2022-11-19T15:56:26.057Z"
      },
      {
        "duration": 2,
        "start_time": "2022-11-19T15:56:30.170Z"
      },
      {
        "duration": 7,
        "start_time": "2022-11-19T15:56:32.412Z"
      },
      {
        "duration": 4,
        "start_time": "2022-11-19T15:59:53.168Z"
      },
      {
        "duration": 8,
        "start_time": "2022-11-19T16:08:13.779Z"
      },
      {
        "duration": 62,
        "start_time": "2022-11-19T16:08:14.863Z"
      },
      {
        "duration": 1144,
        "start_time": "2022-11-19T16:09:07.942Z"
      },
      {
        "duration": 189,
        "start_time": "2022-11-19T16:09:09.088Z"
      },
      {
        "duration": 19,
        "start_time": "2022-11-19T16:09:09.278Z"
      },
      {
        "duration": 21,
        "start_time": "2022-11-19T16:09:09.300Z"
      },
      {
        "duration": 663,
        "start_time": "2022-11-19T16:09:09.325Z"
      },
      {
        "duration": 4,
        "start_time": "2022-11-19T16:09:09.990Z"
      },
      {
        "duration": 5,
        "start_time": "2022-11-19T16:09:09.995Z"
      },
      {
        "duration": 4,
        "start_time": "2022-11-19T16:09:10.013Z"
      },
      {
        "duration": 17,
        "start_time": "2022-11-19T16:09:10.019Z"
      },
      {
        "duration": 6,
        "start_time": "2022-11-19T16:09:10.039Z"
      },
      {
        "duration": 11,
        "start_time": "2022-11-19T16:09:10.046Z"
      },
      {
        "duration": 10,
        "start_time": "2022-11-19T16:09:10.059Z"
      },
      {
        "duration": 4,
        "start_time": "2022-11-19T16:09:10.071Z"
      },
      {
        "duration": 17,
        "start_time": "2022-11-19T16:09:10.077Z"
      },
      {
        "duration": 37,
        "start_time": "2022-11-19T16:09:10.096Z"
      },
      {
        "duration": 187,
        "start_time": "2022-11-19T16:09:10.135Z"
      },
      {
        "duration": 15,
        "start_time": "2022-11-19T16:09:10.328Z"
      },
      {
        "duration": 685,
        "start_time": "2022-11-19T16:09:10.346Z"
      },
      {
        "duration": 23,
        "start_time": "2022-11-19T16:09:11.033Z"
      },
      {
        "duration": 229,
        "start_time": "2022-11-19T16:09:11.057Z"
      },
      {
        "duration": 32,
        "start_time": "2022-11-19T16:09:11.288Z"
      },
      {
        "duration": 11,
        "start_time": "2022-11-19T16:09:11.324Z"
      },
      {
        "duration": 6,
        "start_time": "2022-11-19T16:09:11.337Z"
      },
      {
        "duration": 228,
        "start_time": "2022-11-19T16:09:11.345Z"
      },
      {
        "duration": 162,
        "start_time": "2022-11-19T16:09:11.575Z"
      },
      {
        "duration": 144,
        "start_time": "2022-11-19T16:09:11.739Z"
      },
      {
        "duration": 166,
        "start_time": "2022-11-19T16:09:11.885Z"
      },
      {
        "duration": 11,
        "start_time": "2022-11-19T16:09:12.056Z"
      },
      {
        "duration": 13,
        "start_time": "2022-11-19T16:09:12.068Z"
      },
      {
        "duration": 157,
        "start_time": "2022-11-19T16:09:12.083Z"
      },
      {
        "duration": 147,
        "start_time": "2022-11-19T16:09:12.241Z"
      },
      {
        "duration": 1442,
        "start_time": "2022-11-19T16:09:12.390Z"
      },
      {
        "duration": 26,
        "start_time": "2022-11-19T16:09:13.834Z"
      },
      {
        "duration": 156,
        "start_time": "2022-11-19T16:09:13.862Z"
      },
      {
        "duration": 150,
        "start_time": "2022-11-19T16:09:14.024Z"
      },
      {
        "duration": 232,
        "start_time": "2022-11-19T16:09:14.176Z"
      },
      {
        "duration": 6,
        "start_time": "2022-11-19T16:09:14.409Z"
      },
      {
        "duration": 513,
        "start_time": "2022-11-19T16:09:14.417Z"
      },
      {
        "duration": 4,
        "start_time": "2022-11-19T16:09:14.935Z"
      },
      {
        "duration": 7,
        "start_time": "2022-11-19T16:09:14.941Z"
      },
      {
        "duration": 7,
        "start_time": "2022-11-19T16:09:14.950Z"
      },
      {
        "duration": 7,
        "start_time": "2022-11-19T16:09:14.958Z"
      },
      {
        "duration": 104,
        "start_time": "2022-11-19T16:09:14.967Z"
      },
      {
        "duration": 0,
        "start_time": "2022-11-19T16:09:15.073Z"
      },
      {
        "duration": 0,
        "start_time": "2022-11-19T16:09:15.074Z"
      },
      {
        "duration": 0,
        "start_time": "2022-11-19T16:09:15.075Z"
      },
      {
        "duration": 0,
        "start_time": "2022-11-19T16:09:15.076Z"
      },
      {
        "duration": 0,
        "start_time": "2022-11-19T16:09:15.077Z"
      },
      {
        "duration": 0,
        "start_time": "2022-11-19T16:09:15.078Z"
      },
      {
        "duration": 0,
        "start_time": "2022-11-19T16:09:15.079Z"
      },
      {
        "duration": 0,
        "start_time": "2022-11-19T16:09:15.080Z"
      },
      {
        "duration": 0,
        "start_time": "2022-11-19T16:09:15.081Z"
      },
      {
        "duration": 0,
        "start_time": "2022-11-19T16:09:15.082Z"
      },
      {
        "duration": 477,
        "start_time": "2022-11-19T16:09:32.224Z"
      },
      {
        "duration": 514,
        "start_time": "2022-11-19T16:09:56.645Z"
      },
      {
        "duration": 605,
        "start_time": "2022-11-19T16:12:29.225Z"
      },
      {
        "duration": 3,
        "start_time": "2022-11-19T16:15:13.436Z"
      },
      {
        "duration": 825,
        "start_time": "2022-11-19T16:15:15.033Z"
      },
      {
        "duration": 939,
        "start_time": "2022-11-19T16:15:17.196Z"
      },
      {
        "duration": 492,
        "start_time": "2022-11-19T16:15:23.154Z"
      },
      {
        "duration": 4,
        "start_time": "2022-11-19T16:15:53.185Z"
      },
      {
        "duration": 507,
        "start_time": "2022-11-19T16:15:56.299Z"
      },
      {
        "duration": 599,
        "start_time": "2022-11-19T16:15:58.403Z"
      },
      {
        "duration": 581,
        "start_time": "2022-11-19T16:16:39.560Z"
      },
      {
        "duration": 11,
        "start_time": "2022-11-19T16:17:13.481Z"
      },
      {
        "duration": 172,
        "start_time": "2022-11-19T16:17:31.254Z"
      },
      {
        "duration": 208,
        "start_time": "2022-11-19T16:18:21.759Z"
      },
      {
        "duration": 505,
        "start_time": "2022-11-19T16:19:14.770Z"
      },
      {
        "duration": 356,
        "start_time": "2022-11-19T16:21:12.336Z"
      },
      {
        "duration": 358,
        "start_time": "2022-11-19T16:21:26.036Z"
      },
      {
        "duration": 3,
        "start_time": "2022-11-19T16:21:44.492Z"
      },
      {
        "duration": 3,
        "start_time": "2022-11-19T16:21:57.237Z"
      },
      {
        "duration": 3,
        "start_time": "2022-11-19T16:22:10.385Z"
      },
      {
        "duration": 2,
        "start_time": "2022-11-19T16:22:25.454Z"
      },
      {
        "duration": 3,
        "start_time": "2022-11-19T16:41:09.164Z"
      },
      {
        "duration": 3,
        "start_time": "2022-11-19T16:41:15.844Z"
      },
      {
        "duration": 2,
        "start_time": "2022-11-19T16:41:24.141Z"
      },
      {
        "duration": 3,
        "start_time": "2022-11-19T16:41:26.808Z"
      },
      {
        "duration": 12,
        "start_time": "2022-11-19T16:41:38.918Z"
      },
      {
        "duration": 10,
        "start_time": "2022-11-19T16:42:24.157Z"
      },
      {
        "duration": 1065,
        "start_time": "2022-11-19T16:42:37.137Z"
      },
      {
        "duration": 50,
        "start_time": "2022-11-19T16:42:38.204Z"
      },
      {
        "duration": 13,
        "start_time": "2022-11-19T16:42:38.256Z"
      },
      {
        "duration": 16,
        "start_time": "2022-11-19T16:42:38.270Z"
      },
      {
        "duration": 665,
        "start_time": "2022-11-19T16:42:38.289Z"
      },
      {
        "duration": 5,
        "start_time": "2022-11-19T16:42:38.956Z"
      },
      {
        "duration": 13,
        "start_time": "2022-11-19T16:42:38.962Z"
      },
      {
        "duration": 8,
        "start_time": "2022-11-19T16:42:38.976Z"
      },
      {
        "duration": 5,
        "start_time": "2022-11-19T16:42:38.985Z"
      },
      {
        "duration": 5,
        "start_time": "2022-11-19T16:42:38.991Z"
      },
      {
        "duration": 19,
        "start_time": "2022-11-19T16:42:38.997Z"
      },
      {
        "duration": 8,
        "start_time": "2022-11-19T16:42:39.017Z"
      },
      {
        "duration": 4,
        "start_time": "2022-11-19T16:42:39.027Z"
      },
      {
        "duration": 9,
        "start_time": "2022-11-19T16:42:39.034Z"
      },
      {
        "duration": 17,
        "start_time": "2022-11-19T16:42:39.044Z"
      },
      {
        "duration": 176,
        "start_time": "2022-11-19T16:42:39.063Z"
      },
      {
        "duration": 11,
        "start_time": "2022-11-19T16:42:39.240Z"
      },
      {
        "duration": 644,
        "start_time": "2022-11-19T16:42:39.253Z"
      },
      {
        "duration": 32,
        "start_time": "2022-11-19T16:42:39.899Z"
      },
      {
        "duration": 225,
        "start_time": "2022-11-19T16:42:39.933Z"
      },
      {
        "duration": 22,
        "start_time": "2022-11-19T16:42:40.160Z"
      },
      {
        "duration": 30,
        "start_time": "2022-11-19T16:42:40.184Z"
      },
      {
        "duration": 19,
        "start_time": "2022-11-19T16:42:40.215Z"
      },
      {
        "duration": 307,
        "start_time": "2022-11-19T16:42:40.236Z"
      },
      {
        "duration": 148,
        "start_time": "2022-11-19T16:42:40.545Z"
      },
      {
        "duration": 143,
        "start_time": "2022-11-19T16:42:40.694Z"
      },
      {
        "duration": 175,
        "start_time": "2022-11-19T16:42:40.838Z"
      },
      {
        "duration": 12,
        "start_time": "2022-11-19T16:42:41.015Z"
      },
      {
        "duration": 14,
        "start_time": "2022-11-19T16:42:41.029Z"
      },
      {
        "duration": 151,
        "start_time": "2022-11-19T16:42:41.044Z"
      },
      {
        "duration": 134,
        "start_time": "2022-11-19T16:42:41.197Z"
      },
      {
        "duration": 1362,
        "start_time": "2022-11-19T16:42:41.332Z"
      },
      {
        "duration": 30,
        "start_time": "2022-11-19T16:42:42.696Z"
      },
      {
        "duration": 149,
        "start_time": "2022-11-19T16:42:42.728Z"
      },
      {
        "duration": 155,
        "start_time": "2022-11-19T16:42:42.879Z"
      },
      {
        "duration": 222,
        "start_time": "2022-11-19T16:42:43.035Z"
      },
      {
        "duration": 4,
        "start_time": "2022-11-19T16:42:43.259Z"
      },
      {
        "duration": 474,
        "start_time": "2022-11-19T16:42:43.265Z"
      },
      {
        "duration": 507,
        "start_time": "2022-11-19T16:42:43.741Z"
      },
      {
        "duration": 505,
        "start_time": "2022-11-19T16:42:44.249Z"
      },
      {
        "duration": 2,
        "start_time": "2022-11-19T16:42:44.758Z"
      },
      {
        "duration": 7,
        "start_time": "2022-11-19T16:42:44.762Z"
      },
      {
        "duration": 6,
        "start_time": "2022-11-19T16:42:44.771Z"
      },
      {
        "duration": 5,
        "start_time": "2022-11-19T16:42:44.778Z"
      },
      {
        "duration": 5,
        "start_time": "2022-11-19T16:42:44.784Z"
      },
      {
        "duration": 6,
        "start_time": "2022-11-19T16:42:44.790Z"
      },
      {
        "duration": 16,
        "start_time": "2022-11-19T16:42:44.797Z"
      },
      {
        "duration": 6,
        "start_time": "2022-11-19T16:42:44.814Z"
      },
      {
        "duration": 6,
        "start_time": "2022-11-19T16:42:44.821Z"
      },
      {
        "duration": 6,
        "start_time": "2022-11-19T16:42:44.829Z"
      },
      {
        "duration": 5,
        "start_time": "2022-11-19T16:42:44.836Z"
      },
      {
        "duration": 7,
        "start_time": "2022-11-19T16:42:44.842Z"
      },
      {
        "duration": 13,
        "start_time": "2022-11-19T16:42:44.850Z"
      },
      {
        "duration": 8,
        "start_time": "2022-11-19T16:42:44.865Z"
      },
      {
        "duration": 9,
        "start_time": "2022-11-19T16:42:44.875Z"
      },
      {
        "duration": 28,
        "start_time": "2022-11-19T16:42:44.886Z"
      },
      {
        "duration": 10,
        "start_time": "2022-11-19T16:43:43.625Z"
      },
      {
        "duration": 7,
        "start_time": "2022-11-19T16:43:53.443Z"
      },
      {
        "duration": 7,
        "start_time": "2022-11-19T16:44:03.272Z"
      },
      {
        "duration": 10,
        "start_time": "2022-11-19T16:44:10.423Z"
      },
      {
        "duration": 4,
        "start_time": "2022-11-19T16:44:26.780Z"
      },
      {
        "duration": 153,
        "start_time": "2022-11-19T16:44:27.978Z"
      },
      {
        "duration": 4,
        "start_time": "2022-11-19T16:44:32.649Z"
      },
      {
        "duration": 11,
        "start_time": "2022-11-19T16:44:33.704Z"
      },
      {
        "duration": 2,
        "start_time": "2022-11-19T16:46:43.445Z"
      },
      {
        "duration": 4,
        "start_time": "2022-11-19T16:46:44.846Z"
      },
      {
        "duration": 139,
        "start_time": "2022-11-19T16:46:45.385Z"
      },
      {
        "duration": 4,
        "start_time": "2022-11-19T16:46:46.602Z"
      },
      {
        "duration": 10,
        "start_time": "2022-11-19T16:46:55.699Z"
      },
      {
        "duration": 9,
        "start_time": "2022-11-19T16:46:59.897Z"
      },
      {
        "duration": 11,
        "start_time": "2022-11-19T16:47:03.069Z"
      },
      {
        "duration": 9,
        "start_time": "2022-11-19T16:47:08.111Z"
      },
      {
        "duration": 3,
        "start_time": "2022-11-19T16:50:23.868Z"
      },
      {
        "duration": 3,
        "start_time": "2022-11-19T16:50:30.519Z"
      },
      {
        "duration": 2,
        "start_time": "2022-11-19T16:50:32.686Z"
      },
      {
        "duration": 9,
        "start_time": "2022-11-19T16:50:55.746Z"
      },
      {
        "duration": 10,
        "start_time": "2022-11-19T16:56:33.589Z"
      },
      {
        "duration": 9,
        "start_time": "2022-11-19T16:59:24.160Z"
      },
      {
        "duration": 14,
        "start_time": "2022-11-19T17:02:58.434Z"
      },
      {
        "duration": 14,
        "start_time": "2022-11-19T17:03:10.435Z"
      },
      {
        "duration": 13,
        "start_time": "2022-11-19T17:03:57.082Z"
      },
      {
        "duration": 12,
        "start_time": "2022-11-19T17:04:14.818Z"
      },
      {
        "duration": 1197,
        "start_time": "2022-11-19T17:47:00.310Z"
      },
      {
        "duration": 63,
        "start_time": "2022-11-19T17:47:01.509Z"
      },
      {
        "duration": 15,
        "start_time": "2022-11-19T17:47:01.573Z"
      },
      {
        "duration": 15,
        "start_time": "2022-11-19T17:47:01.590Z"
      },
      {
        "duration": 729,
        "start_time": "2022-11-19T17:47:01.607Z"
      },
      {
        "duration": 4,
        "start_time": "2022-11-19T17:47:02.339Z"
      },
      {
        "duration": 6,
        "start_time": "2022-11-19T17:47:02.345Z"
      },
      {
        "duration": 10,
        "start_time": "2022-11-19T17:47:02.353Z"
      },
      {
        "duration": 6,
        "start_time": "2022-11-19T17:47:02.365Z"
      },
      {
        "duration": 3,
        "start_time": "2022-11-19T17:47:02.374Z"
      },
      {
        "duration": 9,
        "start_time": "2022-11-19T17:47:02.379Z"
      },
      {
        "duration": 29,
        "start_time": "2022-11-19T17:47:02.390Z"
      },
      {
        "duration": 8,
        "start_time": "2022-11-19T17:47:02.427Z"
      },
      {
        "duration": 15,
        "start_time": "2022-11-19T17:47:02.437Z"
      },
      {
        "duration": 18,
        "start_time": "2022-11-19T17:47:02.454Z"
      },
      {
        "duration": 173,
        "start_time": "2022-11-19T17:47:02.474Z"
      },
      {
        "duration": 12,
        "start_time": "2022-11-19T17:47:02.649Z"
      },
      {
        "duration": 724,
        "start_time": "2022-11-19T17:47:02.662Z"
      },
      {
        "duration": 45,
        "start_time": "2022-11-19T17:47:03.388Z"
      },
      {
        "duration": 235,
        "start_time": "2022-11-19T17:47:03.437Z"
      },
      {
        "duration": 22,
        "start_time": "2022-11-19T17:47:03.673Z"
      },
      {
        "duration": 35,
        "start_time": "2022-11-19T17:47:03.696Z"
      },
      {
        "duration": 12,
        "start_time": "2022-11-19T17:47:03.734Z"
      },
      {
        "duration": 219,
        "start_time": "2022-11-19T17:47:03.748Z"
      },
      {
        "duration": 168,
        "start_time": "2022-11-19T17:47:03.969Z"
      },
      {
        "duration": 146,
        "start_time": "2022-11-19T17:47:04.140Z"
      },
      {
        "duration": 180,
        "start_time": "2022-11-19T17:47:04.287Z"
      },
      {
        "duration": 12,
        "start_time": "2022-11-19T17:47:04.470Z"
      },
      {
        "duration": 13,
        "start_time": "2022-11-19T17:47:04.484Z"
      },
      {
        "duration": 190,
        "start_time": "2022-11-19T17:47:04.513Z"
      },
      {
        "duration": 149,
        "start_time": "2022-11-19T17:47:04.705Z"
      },
      {
        "duration": 1429,
        "start_time": "2022-11-19T17:47:04.856Z"
      },
      {
        "duration": 43,
        "start_time": "2022-11-19T17:47:06.286Z"
      },
      {
        "duration": 148,
        "start_time": "2022-11-19T17:47:06.334Z"
      },
      {
        "duration": 161,
        "start_time": "2022-11-19T17:47:06.484Z"
      },
      {
        "duration": 259,
        "start_time": "2022-11-19T17:47:06.646Z"
      },
      {
        "duration": 3,
        "start_time": "2022-11-19T17:47:06.907Z"
      },
      {
        "duration": 531,
        "start_time": "2022-11-19T17:47:06.912Z"
      },
      {
        "duration": 533,
        "start_time": "2022-11-19T17:47:07.445Z"
      },
      {
        "duration": 569,
        "start_time": "2022-11-19T17:47:07.980Z"
      },
      {
        "duration": 3,
        "start_time": "2022-11-19T17:47:08.550Z"
      },
      {
        "duration": 6,
        "start_time": "2022-11-19T17:47:08.554Z"
      },
      {
        "duration": 4,
        "start_time": "2022-11-19T17:47:08.562Z"
      },
      {
        "duration": 6,
        "start_time": "2022-11-19T17:47:08.568Z"
      },
      {
        "duration": 5,
        "start_time": "2022-11-19T17:47:08.576Z"
      },
      {
        "duration": 5,
        "start_time": "2022-11-19T17:47:08.582Z"
      },
      {
        "duration": 7,
        "start_time": "2022-11-19T17:47:08.588Z"
      },
      {
        "duration": 16,
        "start_time": "2022-11-19T17:47:08.596Z"
      },
      {
        "duration": 12,
        "start_time": "2022-11-19T17:47:08.618Z"
      },
      {
        "duration": 23,
        "start_time": "2022-11-19T17:47:08.632Z"
      },
      {
        "duration": 5,
        "start_time": "2022-11-19T17:47:08.657Z"
      },
      {
        "duration": 5,
        "start_time": "2022-11-19T17:47:08.663Z"
      },
      {
        "duration": 13,
        "start_time": "2022-11-19T17:47:08.669Z"
      },
      {
        "duration": 11,
        "start_time": "2022-11-19T17:47:08.683Z"
      },
      {
        "duration": 10,
        "start_time": "2022-11-19T17:47:08.695Z"
      },
      {
        "duration": 10,
        "start_time": "2022-11-19T17:47:08.707Z"
      },
      {
        "duration": 1153,
        "start_time": "2022-11-19T17:48:08.637Z"
      },
      {
        "duration": 63,
        "start_time": "2022-11-19T17:48:09.792Z"
      },
      {
        "duration": 14,
        "start_time": "2022-11-19T17:48:09.857Z"
      },
      {
        "duration": 15,
        "start_time": "2022-11-19T17:48:09.873Z"
      },
      {
        "duration": 786,
        "start_time": "2022-11-19T17:48:09.891Z"
      },
      {
        "duration": 4,
        "start_time": "2022-11-19T17:48:10.679Z"
      },
      {
        "duration": 4,
        "start_time": "2022-11-19T17:48:10.685Z"
      },
      {
        "duration": 6,
        "start_time": "2022-11-19T17:48:10.691Z"
      },
      {
        "duration": 4,
        "start_time": "2022-11-19T17:48:10.716Z"
      },
      {
        "duration": 12,
        "start_time": "2022-11-19T17:48:10.729Z"
      },
      {
        "duration": 9,
        "start_time": "2022-11-19T17:48:10.742Z"
      },
      {
        "duration": 10,
        "start_time": "2022-11-19T17:48:10.752Z"
      },
      {
        "duration": 7,
        "start_time": "2022-11-19T17:48:10.764Z"
      },
      {
        "duration": 10,
        "start_time": "2022-11-19T17:48:10.774Z"
      },
      {
        "duration": 19,
        "start_time": "2022-11-19T17:48:10.785Z"
      },
      {
        "duration": 165,
        "start_time": "2022-11-19T17:48:10.816Z"
      },
      {
        "duration": 12,
        "start_time": "2022-11-19T17:48:10.982Z"
      },
      {
        "duration": 782,
        "start_time": "2022-11-19T17:48:10.995Z"
      },
      {
        "duration": 24,
        "start_time": "2022-11-19T17:48:11.779Z"
      },
      {
        "duration": 260,
        "start_time": "2022-11-19T17:48:11.804Z"
      },
      {
        "duration": 25,
        "start_time": "2022-11-19T17:48:12.066Z"
      },
      {
        "duration": 21,
        "start_time": "2022-11-19T17:48:12.093Z"
      },
      {
        "duration": 20,
        "start_time": "2022-11-19T17:48:12.116Z"
      },
      {
        "duration": 246,
        "start_time": "2022-11-19T17:48:12.137Z"
      },
      {
        "duration": 168,
        "start_time": "2022-11-19T17:48:12.384Z"
      },
      {
        "duration": 147,
        "start_time": "2022-11-19T17:48:12.554Z"
      },
      {
        "duration": 169,
        "start_time": "2022-11-19T17:48:12.703Z"
      },
      {
        "duration": 12,
        "start_time": "2022-11-19T17:48:12.873Z"
      },
      {
        "duration": 27,
        "start_time": "2022-11-19T17:48:12.887Z"
      },
      {
        "duration": 167,
        "start_time": "2022-11-19T17:48:12.916Z"
      },
      {
        "duration": 156,
        "start_time": "2022-11-19T17:48:13.084Z"
      },
      {
        "duration": 1449,
        "start_time": "2022-11-19T17:48:13.242Z"
      },
      {
        "duration": 36,
        "start_time": "2022-11-19T17:48:14.694Z"
      },
      {
        "duration": 160,
        "start_time": "2022-11-19T17:48:14.732Z"
      },
      {
        "duration": 190,
        "start_time": "2022-11-19T17:48:14.894Z"
      },
      {
        "duration": 285,
        "start_time": "2022-11-19T17:48:15.086Z"
      },
      {
        "duration": 4,
        "start_time": "2022-11-19T17:48:15.373Z"
      },
      {
        "duration": 527,
        "start_time": "2022-11-19T17:48:15.378Z"
      },
      {
        "duration": 559,
        "start_time": "2022-11-19T17:48:15.907Z"
      },
      {
        "duration": 576,
        "start_time": "2022-11-19T17:48:16.468Z"
      },
      {
        "duration": 4,
        "start_time": "2022-11-19T17:48:17.051Z"
      },
      {
        "duration": 10,
        "start_time": "2022-11-19T17:48:17.059Z"
      },
      {
        "duration": 7,
        "start_time": "2022-11-19T17:48:17.071Z"
      },
      {
        "duration": 5,
        "start_time": "2022-11-19T17:48:17.080Z"
      },
      {
        "duration": 3,
        "start_time": "2022-11-19T17:48:17.088Z"
      },
      {
        "duration": 6,
        "start_time": "2022-11-19T17:48:17.092Z"
      },
      {
        "duration": 5,
        "start_time": "2022-11-19T17:48:17.100Z"
      },
      {
        "duration": 2,
        "start_time": "2022-11-19T17:48:17.113Z"
      },
      {
        "duration": 8,
        "start_time": "2022-11-19T17:48:17.117Z"
      },
      {
        "duration": 9,
        "start_time": "2022-11-19T17:48:17.127Z"
      },
      {
        "duration": 7,
        "start_time": "2022-11-19T17:48:17.138Z"
      },
      {
        "duration": 8,
        "start_time": "2022-11-19T17:48:17.148Z"
      },
      {
        "duration": 19,
        "start_time": "2022-11-19T17:48:17.159Z"
      },
      {
        "duration": 11,
        "start_time": "2022-11-19T17:48:17.180Z"
      },
      {
        "duration": 30,
        "start_time": "2022-11-19T17:48:17.193Z"
      },
      {
        "duration": 18,
        "start_time": "2022-11-19T17:48:17.225Z"
      },
      {
        "duration": 1164,
        "start_time": "2022-11-19T17:49:21.218Z"
      },
      {
        "duration": 51,
        "start_time": "2022-11-19T17:49:22.384Z"
      },
      {
        "duration": 15,
        "start_time": "2022-11-19T17:49:22.437Z"
      },
      {
        "duration": 18,
        "start_time": "2022-11-19T17:49:22.454Z"
      },
      {
        "duration": 695,
        "start_time": "2022-11-19T17:49:22.473Z"
      },
      {
        "duration": 4,
        "start_time": "2022-11-19T17:49:23.170Z"
      },
      {
        "duration": 13,
        "start_time": "2022-11-19T17:49:23.175Z"
      },
      {
        "duration": 6,
        "start_time": "2022-11-19T17:49:23.189Z"
      },
      {
        "duration": 3,
        "start_time": "2022-11-19T17:49:23.197Z"
      },
      {
        "duration": 2,
        "start_time": "2022-11-19T17:49:23.214Z"
      },
      {
        "duration": 25,
        "start_time": "2022-11-19T17:49:23.218Z"
      },
      {
        "duration": 19,
        "start_time": "2022-11-19T17:49:23.245Z"
      },
      {
        "duration": 13,
        "start_time": "2022-11-19T17:49:23.266Z"
      },
      {
        "duration": 17,
        "start_time": "2022-11-19T17:49:23.280Z"
      },
      {
        "duration": 25,
        "start_time": "2022-11-19T17:49:23.298Z"
      },
      {
        "duration": 177,
        "start_time": "2022-11-19T17:49:23.329Z"
      },
      {
        "duration": 12,
        "start_time": "2022-11-19T17:49:23.512Z"
      },
      {
        "duration": 653,
        "start_time": "2022-11-19T17:49:23.526Z"
      },
      {
        "duration": 23,
        "start_time": "2022-11-19T17:49:24.180Z"
      },
      {
        "duration": 239,
        "start_time": "2022-11-19T17:49:24.204Z"
      },
      {
        "duration": 25,
        "start_time": "2022-11-19T17:49:24.445Z"
      },
      {
        "duration": 10,
        "start_time": "2022-11-19T17:49:24.471Z"
      },
      {
        "duration": 6,
        "start_time": "2022-11-19T17:49:24.483Z"
      },
      {
        "duration": 278,
        "start_time": "2022-11-19T17:49:24.514Z"
      },
      {
        "duration": 182,
        "start_time": "2022-11-19T17:49:24.793Z"
      },
      {
        "duration": 177,
        "start_time": "2022-11-19T17:49:24.977Z"
      },
      {
        "duration": 178,
        "start_time": "2022-11-19T17:49:25.155Z"
      },
      {
        "duration": 17,
        "start_time": "2022-11-19T17:49:25.338Z"
      },
      {
        "duration": 17,
        "start_time": "2022-11-19T17:49:25.357Z"
      },
      {
        "duration": 158,
        "start_time": "2022-11-19T17:49:25.376Z"
      },
      {
        "duration": 150,
        "start_time": "2022-11-19T17:49:25.536Z"
      },
      {
        "duration": 1408,
        "start_time": "2022-11-19T17:49:25.688Z"
      },
      {
        "duration": 40,
        "start_time": "2022-11-19T17:49:27.097Z"
      },
      {
        "duration": 180,
        "start_time": "2022-11-19T17:49:27.139Z"
      },
      {
        "duration": 162,
        "start_time": "2022-11-19T17:49:27.321Z"
      },
      {
        "duration": 257,
        "start_time": "2022-11-19T17:49:27.485Z"
      },
      {
        "duration": 4,
        "start_time": "2022-11-19T17:49:27.744Z"
      },
      {
        "duration": 515,
        "start_time": "2022-11-19T17:49:27.750Z"
      },
      {
        "duration": 509,
        "start_time": "2022-11-19T17:49:28.266Z"
      },
      {
        "duration": 491,
        "start_time": "2022-11-19T17:49:28.776Z"
      },
      {
        "duration": 2,
        "start_time": "2022-11-19T17:49:29.269Z"
      },
      {
        "duration": 5,
        "start_time": "2022-11-19T17:49:29.273Z"
      },
      {
        "duration": 4,
        "start_time": "2022-11-19T17:49:29.280Z"
      },
      {
        "duration": 5,
        "start_time": "2022-11-19T17:49:29.285Z"
      },
      {
        "duration": 24,
        "start_time": "2022-11-19T17:49:29.291Z"
      },
      {
        "duration": 5,
        "start_time": "2022-11-19T17:49:29.317Z"
      },
      {
        "duration": 7,
        "start_time": "2022-11-19T17:49:29.324Z"
      },
      {
        "duration": 5,
        "start_time": "2022-11-19T17:49:29.333Z"
      },
      {
        "duration": 6,
        "start_time": "2022-11-19T17:49:29.340Z"
      },
      {
        "duration": 7,
        "start_time": "2022-11-19T17:49:29.349Z"
      },
      {
        "duration": 6,
        "start_time": "2022-11-19T17:49:29.358Z"
      },
      {
        "duration": 4,
        "start_time": "2022-11-19T17:49:29.366Z"
      },
      {
        "duration": 12,
        "start_time": "2022-11-19T17:49:29.372Z"
      },
      {
        "duration": 32,
        "start_time": "2022-11-19T17:49:29.385Z"
      },
      {
        "duration": 10,
        "start_time": "2022-11-19T17:49:29.419Z"
      },
      {
        "duration": 15,
        "start_time": "2022-11-19T17:49:29.432Z"
      },
      {
        "duration": 9,
        "start_time": "2022-11-19T17:54:24.792Z"
      },
      {
        "duration": 6,
        "start_time": "2022-11-19T17:54:39.371Z"
      },
      {
        "duration": 5,
        "start_time": "2022-11-19T17:54:44.985Z"
      },
      {
        "duration": 11,
        "start_time": "2022-11-19T17:55:02.458Z"
      },
      {
        "duration": 10,
        "start_time": "2022-11-19T17:55:12.526Z"
      },
      {
        "duration": 9,
        "start_time": "2022-11-19T17:55:53.198Z"
      },
      {
        "duration": 10,
        "start_time": "2022-11-19T17:55:56.389Z"
      },
      {
        "duration": 5,
        "start_time": "2022-11-19T17:58:12.383Z"
      },
      {
        "duration": 189,
        "start_time": "2022-11-19T17:58:13.195Z"
      },
      {
        "duration": 5,
        "start_time": "2022-11-19T17:58:14.509Z"
      },
      {
        "duration": 11,
        "start_time": "2022-11-19T17:58:15.291Z"
      },
      {
        "duration": 10,
        "start_time": "2022-11-19T17:58:23.679Z"
      },
      {
        "duration": 9,
        "start_time": "2022-11-19T17:58:32.442Z"
      },
      {
        "duration": 9,
        "start_time": "2022-11-19T17:59:09.963Z"
      },
      {
        "duration": 13,
        "start_time": "2022-11-19T17:59:21.953Z"
      },
      {
        "duration": 1183,
        "start_time": "2022-11-19T17:59:27.435Z"
      },
      {
        "duration": 50,
        "start_time": "2022-11-19T17:59:28.619Z"
      },
      {
        "duration": 14,
        "start_time": "2022-11-19T17:59:28.671Z"
      },
      {
        "duration": 15,
        "start_time": "2022-11-19T17:59:28.686Z"
      },
      {
        "duration": 731,
        "start_time": "2022-11-19T17:59:28.703Z"
      },
      {
        "duration": 4,
        "start_time": "2022-11-19T17:59:29.436Z"
      },
      {
        "duration": 6,
        "start_time": "2022-11-19T17:59:29.442Z"
      },
      {
        "duration": 6,
        "start_time": "2022-11-19T17:59:29.450Z"
      },
      {
        "duration": 4,
        "start_time": "2022-11-19T17:59:29.457Z"
      },
      {
        "duration": 4,
        "start_time": "2022-11-19T17:59:29.463Z"
      },
      {
        "duration": 8,
        "start_time": "2022-11-19T17:59:29.468Z"
      },
      {
        "duration": 13,
        "start_time": "2022-11-19T17:59:29.512Z"
      },
      {
        "duration": 5,
        "start_time": "2022-11-19T17:59:29.527Z"
      },
      {
        "duration": 10,
        "start_time": "2022-11-19T17:59:29.534Z"
      },
      {
        "duration": 18,
        "start_time": "2022-11-19T17:59:29.545Z"
      },
      {
        "duration": 190,
        "start_time": "2022-11-19T17:59:29.565Z"
      },
      {
        "duration": 12,
        "start_time": "2022-11-19T17:59:29.757Z"
      },
      {
        "duration": 692,
        "start_time": "2022-11-19T17:59:29.770Z"
      },
      {
        "duration": 27,
        "start_time": "2022-11-19T17:59:30.464Z"
      },
      {
        "duration": 301,
        "start_time": "2022-11-19T17:59:30.492Z"
      },
      {
        "duration": 47,
        "start_time": "2022-11-19T17:59:30.795Z"
      },
      {
        "duration": 18,
        "start_time": "2022-11-19T17:59:30.844Z"
      },
      {
        "duration": 35,
        "start_time": "2022-11-19T17:59:30.864Z"
      },
      {
        "duration": 224,
        "start_time": "2022-11-19T17:59:30.902Z"
      },
      {
        "duration": 156,
        "start_time": "2022-11-19T17:59:31.129Z"
      },
      {
        "duration": 171,
        "start_time": "2022-11-19T17:59:31.286Z"
      },
      {
        "duration": 167,
        "start_time": "2022-11-19T17:59:31.459Z"
      },
      {
        "duration": 14,
        "start_time": "2022-11-19T17:59:31.630Z"
      },
      {
        "duration": 19,
        "start_time": "2022-11-19T17:59:31.646Z"
      },
      {
        "duration": 171,
        "start_time": "2022-11-19T17:59:31.667Z"
      },
      {
        "duration": 150,
        "start_time": "2022-11-19T17:59:31.840Z"
      },
      {
        "duration": 1369,
        "start_time": "2022-11-19T17:59:31.992Z"
      },
      {
        "duration": 37,
        "start_time": "2022-11-19T17:59:33.363Z"
      },
      {
        "duration": 167,
        "start_time": "2022-11-19T17:59:33.413Z"
      },
      {
        "duration": 168,
        "start_time": "2022-11-19T17:59:33.582Z"
      },
      {
        "duration": 238,
        "start_time": "2022-11-19T17:59:33.752Z"
      },
      {
        "duration": 4,
        "start_time": "2022-11-19T17:59:33.992Z"
      },
      {
        "duration": 487,
        "start_time": "2022-11-19T17:59:33.998Z"
      },
      {
        "duration": 546,
        "start_time": "2022-11-19T17:59:34.487Z"
      },
      {
        "duration": 499,
        "start_time": "2022-11-19T17:59:35.036Z"
      },
      {
        "duration": 3,
        "start_time": "2022-11-19T17:59:35.538Z"
      },
      {
        "duration": 7,
        "start_time": "2022-11-19T17:59:35.543Z"
      },
      {
        "duration": 7,
        "start_time": "2022-11-19T17:59:35.553Z"
      },
      {
        "duration": 7,
        "start_time": "2022-11-19T17:59:35.562Z"
      },
      {
        "duration": 5,
        "start_time": "2022-11-19T17:59:35.571Z"
      },
      {
        "duration": 6,
        "start_time": "2022-11-19T17:59:35.577Z"
      },
      {
        "duration": 7,
        "start_time": "2022-11-19T17:59:35.584Z"
      },
      {
        "duration": 20,
        "start_time": "2022-11-19T17:59:35.593Z"
      },
      {
        "duration": 6,
        "start_time": "2022-11-19T17:59:35.615Z"
      },
      {
        "duration": 16,
        "start_time": "2022-11-19T17:59:35.629Z"
      },
      {
        "duration": 10,
        "start_time": "2022-11-19T17:59:35.648Z"
      },
      {
        "duration": 12,
        "start_time": "2022-11-19T17:59:35.660Z"
      },
      {
        "duration": 10,
        "start_time": "2022-11-19T17:59:35.674Z"
      },
      {
        "duration": 10,
        "start_time": "2022-11-19T17:59:35.685Z"
      },
      {
        "duration": 10,
        "start_time": "2022-11-19T17:59:35.696Z"
      },
      {
        "duration": 16,
        "start_time": "2022-11-19T17:59:35.708Z"
      },
      {
        "duration": 6,
        "start_time": "2022-11-19T17:59:54.929Z"
      },
      {
        "duration": 88,
        "start_time": "2022-11-19T17:59:57.654Z"
      },
      {
        "duration": 66,
        "start_time": "2022-11-19T17:59:59.228Z"
      },
      {
        "duration": 158,
        "start_time": "2022-11-19T18:00:05.135Z"
      },
      {
        "duration": 6,
        "start_time": "2022-11-19T18:00:08.000Z"
      },
      {
        "duration": 11,
        "start_time": "2022-11-19T18:00:10.946Z"
      },
      {
        "duration": 2,
        "start_time": "2022-11-19T18:00:20.450Z"
      },
      {
        "duration": 3,
        "start_time": "2022-11-19T18:00:29.653Z"
      },
      {
        "duration": 3,
        "start_time": "2022-11-19T18:00:31.891Z"
      },
      {
        "duration": 13,
        "start_time": "2022-11-19T18:00:33.138Z"
      },
      {
        "duration": 1149,
        "start_time": "2022-11-19T18:01:12.806Z"
      },
      {
        "duration": 51,
        "start_time": "2022-11-19T18:01:13.957Z"
      },
      {
        "duration": 13,
        "start_time": "2022-11-19T18:01:14.010Z"
      },
      {
        "duration": 15,
        "start_time": "2022-11-19T18:01:14.026Z"
      },
      {
        "duration": 689,
        "start_time": "2022-11-19T18:01:14.043Z"
      },
      {
        "duration": 4,
        "start_time": "2022-11-19T18:01:14.734Z"
      },
      {
        "duration": 7,
        "start_time": "2022-11-19T18:01:14.739Z"
      },
      {
        "duration": 19,
        "start_time": "2022-11-19T18:01:14.747Z"
      },
      {
        "duration": 6,
        "start_time": "2022-11-19T18:01:14.768Z"
      },
      {
        "duration": 6,
        "start_time": "2022-11-19T18:01:14.776Z"
      },
      {
        "duration": 14,
        "start_time": "2022-11-19T18:01:14.783Z"
      },
      {
        "duration": 21,
        "start_time": "2022-11-19T18:01:14.799Z"
      },
      {
        "duration": 5,
        "start_time": "2022-11-19T18:01:14.822Z"
      },
      {
        "duration": 14,
        "start_time": "2022-11-19T18:01:14.829Z"
      },
      {
        "duration": 25,
        "start_time": "2022-11-19T18:01:14.845Z"
      },
      {
        "duration": 204,
        "start_time": "2022-11-19T18:01:14.872Z"
      },
      {
        "duration": 12,
        "start_time": "2022-11-19T18:01:15.078Z"
      },
      {
        "duration": 664,
        "start_time": "2022-11-19T18:01:15.091Z"
      },
      {
        "duration": 23,
        "start_time": "2022-11-19T18:01:15.757Z"
      },
      {
        "duration": 225,
        "start_time": "2022-11-19T18:01:15.781Z"
      },
      {
        "duration": 23,
        "start_time": "2022-11-19T18:01:16.013Z"
      },
      {
        "duration": 13,
        "start_time": "2022-11-19T18:01:16.038Z"
      },
      {
        "duration": 8,
        "start_time": "2022-11-19T18:01:16.053Z"
      },
      {
        "duration": 251,
        "start_time": "2022-11-19T18:01:16.063Z"
      },
      {
        "duration": 159,
        "start_time": "2022-11-19T18:01:16.315Z"
      },
      {
        "duration": 153,
        "start_time": "2022-11-19T18:01:16.476Z"
      },
      {
        "duration": 163,
        "start_time": "2022-11-19T18:01:16.631Z"
      },
      {
        "duration": 21,
        "start_time": "2022-11-19T18:01:16.798Z"
      },
      {
        "duration": 16,
        "start_time": "2022-11-19T18:01:16.820Z"
      },
      {
        "duration": 177,
        "start_time": "2022-11-19T18:01:16.838Z"
      },
      {
        "duration": 143,
        "start_time": "2022-11-19T18:01:17.017Z"
      },
      {
        "duration": 1386,
        "start_time": "2022-11-19T18:01:17.162Z"
      },
      {
        "duration": 29,
        "start_time": "2022-11-19T18:01:18.550Z"
      },
      {
        "duration": 167,
        "start_time": "2022-11-19T18:01:18.581Z"
      },
      {
        "duration": 154,
        "start_time": "2022-11-19T18:01:18.749Z"
      },
      {
        "duration": 249,
        "start_time": "2022-11-19T18:01:18.905Z"
      },
      {
        "duration": 4,
        "start_time": "2022-11-19T18:01:19.156Z"
      },
      {
        "duration": 467,
        "start_time": "2022-11-19T18:01:19.161Z"
      },
      {
        "duration": 514,
        "start_time": "2022-11-19T18:01:19.630Z"
      },
      {
        "duration": 536,
        "start_time": "2022-11-19T18:01:20.145Z"
      },
      {
        "duration": 3,
        "start_time": "2022-11-19T18:01:20.683Z"
      },
      {
        "duration": 5,
        "start_time": "2022-11-19T18:01:20.688Z"
      },
      {
        "duration": 19,
        "start_time": "2022-11-19T18:01:20.695Z"
      },
      {
        "duration": 6,
        "start_time": "2022-11-19T18:01:20.715Z"
      },
      {
        "duration": 8,
        "start_time": "2022-11-19T18:01:20.723Z"
      },
      {
        "duration": 4,
        "start_time": "2022-11-19T18:01:20.733Z"
      },
      {
        "duration": 8,
        "start_time": "2022-11-19T18:01:20.738Z"
      },
      {
        "duration": 7,
        "start_time": "2022-11-19T18:01:20.748Z"
      },
      {
        "duration": 7,
        "start_time": "2022-11-19T18:01:20.756Z"
      },
      {
        "duration": 5,
        "start_time": "2022-11-19T18:01:20.764Z"
      },
      {
        "duration": 8,
        "start_time": "2022-11-19T18:01:20.770Z"
      },
      {
        "duration": 7,
        "start_time": "2022-11-19T18:01:20.780Z"
      },
      {
        "duration": 13,
        "start_time": "2022-11-19T18:01:20.789Z"
      },
      {
        "duration": 15,
        "start_time": "2022-11-19T18:01:20.803Z"
      },
      {
        "duration": 16,
        "start_time": "2022-11-19T18:01:20.819Z"
      },
      {
        "duration": 10,
        "start_time": "2022-11-19T18:01:20.837Z"
      },
      {
        "duration": 3,
        "start_time": "2022-11-19T18:04:19.860Z"
      },
      {
        "duration": 3,
        "start_time": "2022-11-19T18:04:20.242Z"
      },
      {
        "duration": 2,
        "start_time": "2022-11-19T18:04:20.593Z"
      },
      {
        "duration": 2,
        "start_time": "2022-11-19T18:04:20.906Z"
      },
      {
        "duration": 10,
        "start_time": "2022-11-19T18:04:21.597Z"
      },
      {
        "duration": 9,
        "start_time": "2022-11-19T18:04:23.171Z"
      },
      {
        "duration": 10,
        "start_time": "2022-11-19T18:04:24.432Z"
      },
      {
        "duration": 4,
        "start_time": "2022-11-19T18:04:39.961Z"
      },
      {
        "duration": 164,
        "start_time": "2022-11-19T18:04:40.446Z"
      },
      {
        "duration": 5,
        "start_time": "2022-11-19T18:04:41.485Z"
      },
      {
        "duration": 10,
        "start_time": "2022-11-19T18:04:42.387Z"
      },
      {
        "duration": 10,
        "start_time": "2022-11-19T18:04:44.530Z"
      },
      {
        "duration": 12,
        "start_time": "2022-11-19T18:04:45.766Z"
      },
      {
        "duration": 9,
        "start_time": "2022-11-19T18:04:57.530Z"
      },
      {
        "duration": 8,
        "start_time": "2022-11-19T18:05:03.228Z"
      },
      {
        "duration": 13,
        "start_time": "2022-11-19T18:05:10.187Z"
      },
      {
        "duration": 1067,
        "start_time": "2022-11-19T18:05:23.530Z"
      },
      {
        "duration": 51,
        "start_time": "2022-11-19T18:05:24.600Z"
      },
      {
        "duration": 24,
        "start_time": "2022-11-19T18:05:24.653Z"
      },
      {
        "duration": 19,
        "start_time": "2022-11-19T18:05:24.680Z"
      },
      {
        "duration": 705,
        "start_time": "2022-11-19T18:05:24.701Z"
      },
      {
        "duration": 10,
        "start_time": "2022-11-19T18:05:25.408Z"
      },
      {
        "duration": 6,
        "start_time": "2022-11-19T18:05:25.421Z"
      },
      {
        "duration": 9,
        "start_time": "2022-11-19T18:05:25.429Z"
      },
      {
        "duration": 5,
        "start_time": "2022-11-19T18:05:25.440Z"
      },
      {
        "duration": 4,
        "start_time": "2022-11-19T18:05:25.449Z"
      },
      {
        "duration": 10,
        "start_time": "2022-11-19T18:05:25.455Z"
      },
      {
        "duration": 10,
        "start_time": "2022-11-19T18:05:25.466Z"
      },
      {
        "duration": 4,
        "start_time": "2022-11-19T18:05:25.477Z"
      },
      {
        "duration": 32,
        "start_time": "2022-11-19T18:05:25.482Z"
      },
      {
        "duration": 17,
        "start_time": "2022-11-19T18:05:25.516Z"
      },
      {
        "duration": 183,
        "start_time": "2022-11-19T18:05:25.534Z"
      },
      {
        "duration": 12,
        "start_time": "2022-11-19T18:05:25.719Z"
      },
      {
        "duration": 652,
        "start_time": "2022-11-19T18:05:25.732Z"
      },
      {
        "duration": 34,
        "start_time": "2022-11-19T18:05:26.386Z"
      },
      {
        "duration": 232,
        "start_time": "2022-11-19T18:05:26.422Z"
      },
      {
        "duration": 23,
        "start_time": "2022-11-19T18:05:26.656Z"
      },
      {
        "duration": 10,
        "start_time": "2022-11-19T18:05:26.680Z"
      },
      {
        "duration": 25,
        "start_time": "2022-11-19T18:05:26.692Z"
      },
      {
        "duration": 216,
        "start_time": "2022-11-19T18:05:26.718Z"
      },
      {
        "duration": 157,
        "start_time": "2022-11-19T18:05:26.936Z"
      },
      {
        "duration": 154,
        "start_time": "2022-11-19T18:05:27.095Z"
      },
      {
        "duration": 157,
        "start_time": "2022-11-19T18:05:27.250Z"
      },
      {
        "duration": 14,
        "start_time": "2022-11-19T18:05:27.410Z"
      },
      {
        "duration": 21,
        "start_time": "2022-11-19T18:05:27.426Z"
      },
      {
        "duration": 172,
        "start_time": "2022-11-19T18:05:27.449Z"
      },
      {
        "duration": 145,
        "start_time": "2022-11-19T18:05:27.623Z"
      },
      {
        "duration": 1346,
        "start_time": "2022-11-19T18:05:27.770Z"
      },
      {
        "duration": 29,
        "start_time": "2022-11-19T18:05:29.118Z"
      },
      {
        "duration": 167,
        "start_time": "2022-11-19T18:05:29.149Z"
      },
      {
        "duration": 163,
        "start_time": "2022-11-19T18:05:29.317Z"
      },
      {
        "duration": 231,
        "start_time": "2022-11-19T18:05:29.482Z"
      },
      {
        "duration": 3,
        "start_time": "2022-11-19T18:05:29.714Z"
      },
      {
        "duration": 471,
        "start_time": "2022-11-19T18:05:29.719Z"
      },
      {
        "duration": 569,
        "start_time": "2022-11-19T18:05:30.192Z"
      },
      {
        "duration": 550,
        "start_time": "2022-11-19T18:05:30.763Z"
      },
      {
        "duration": 2,
        "start_time": "2022-11-19T18:05:31.315Z"
      },
      {
        "duration": 14,
        "start_time": "2022-11-19T18:05:31.319Z"
      },
      {
        "duration": 7,
        "start_time": "2022-11-19T18:05:31.334Z"
      },
      {
        "duration": 7,
        "start_time": "2022-11-19T18:05:31.342Z"
      },
      {
        "duration": 5,
        "start_time": "2022-11-19T18:05:31.351Z"
      },
      {
        "duration": 4,
        "start_time": "2022-11-19T18:05:31.357Z"
      },
      {
        "duration": 5,
        "start_time": "2022-11-19T18:05:31.363Z"
      },
      {
        "duration": 4,
        "start_time": "2022-11-19T18:05:31.370Z"
      },
      {
        "duration": 5,
        "start_time": "2022-11-19T18:05:31.376Z"
      },
      {
        "duration": 7,
        "start_time": "2022-11-19T18:05:31.382Z"
      },
      {
        "duration": 178,
        "start_time": "2022-11-19T18:05:31.391Z"
      },
      {
        "duration": 4,
        "start_time": "2022-11-19T18:05:31.571Z"
      },
      {
        "duration": 13,
        "start_time": "2022-11-19T18:05:31.576Z"
      },
      {
        "duration": 23,
        "start_time": "2022-11-19T18:05:31.591Z"
      },
      {
        "duration": 10,
        "start_time": "2022-11-19T18:05:31.615Z"
      },
      {
        "duration": 10,
        "start_time": "2022-11-19T18:05:31.626Z"
      },
      {
        "duration": 3,
        "start_time": "2022-11-19T18:05:46.578Z"
      },
      {
        "duration": 2,
        "start_time": "2022-11-19T18:06:02.490Z"
      },
      {
        "duration": 2,
        "start_time": "2022-11-19T18:06:04.963Z"
      },
      {
        "duration": 9,
        "start_time": "2022-11-19T18:06:07.469Z"
      },
      {
        "duration": 12,
        "start_time": "2022-11-19T18:06:14.824Z"
      },
      {
        "duration": 1140,
        "start_time": "2022-11-19T18:06:21.740Z"
      },
      {
        "duration": 60,
        "start_time": "2022-11-19T18:06:22.881Z"
      },
      {
        "duration": 16,
        "start_time": "2022-11-19T18:06:22.943Z"
      },
      {
        "duration": 18,
        "start_time": "2022-11-19T18:06:22.962Z"
      },
      {
        "duration": 655,
        "start_time": "2022-11-19T18:06:22.981Z"
      },
      {
        "duration": 4,
        "start_time": "2022-11-19T18:06:23.637Z"
      },
      {
        "duration": 9,
        "start_time": "2022-11-19T18:06:23.642Z"
      },
      {
        "duration": 8,
        "start_time": "2022-11-19T18:06:23.652Z"
      },
      {
        "duration": 4,
        "start_time": "2022-11-19T18:06:23.661Z"
      },
      {
        "duration": 3,
        "start_time": "2022-11-19T18:06:23.667Z"
      },
      {
        "duration": 9,
        "start_time": "2022-11-19T18:06:23.671Z"
      },
      {
        "duration": 8,
        "start_time": "2022-11-19T18:06:23.681Z"
      },
      {
        "duration": 24,
        "start_time": "2022-11-19T18:06:23.690Z"
      },
      {
        "duration": 8,
        "start_time": "2022-11-19T18:06:23.715Z"
      },
      {
        "duration": 17,
        "start_time": "2022-11-19T18:06:23.725Z"
      },
      {
        "duration": 152,
        "start_time": "2022-11-19T18:06:23.743Z"
      },
      {
        "duration": 21,
        "start_time": "2022-11-19T18:06:23.896Z"
      },
      {
        "duration": 633,
        "start_time": "2022-11-19T18:06:23.918Z"
      },
      {
        "duration": 23,
        "start_time": "2022-11-19T18:06:24.553Z"
      },
      {
        "duration": 243,
        "start_time": "2022-11-19T18:06:24.578Z"
      },
      {
        "duration": 22,
        "start_time": "2022-11-19T18:06:24.822Z"
      },
      {
        "duration": 10,
        "start_time": "2022-11-19T18:06:24.845Z"
      },
      {
        "duration": 6,
        "start_time": "2022-11-19T18:06:24.856Z"
      },
      {
        "duration": 230,
        "start_time": "2022-11-19T18:06:24.864Z"
      },
      {
        "duration": 162,
        "start_time": "2022-11-19T18:06:25.096Z"
      },
      {
        "duration": 138,
        "start_time": "2022-11-19T18:06:25.260Z"
      },
      {
        "duration": 156,
        "start_time": "2022-11-19T18:06:25.400Z"
      },
      {
        "duration": 12,
        "start_time": "2022-11-19T18:06:25.560Z"
      },
      {
        "duration": 17,
        "start_time": "2022-11-19T18:06:25.573Z"
      },
      {
        "duration": 147,
        "start_time": "2022-11-19T18:06:25.591Z"
      },
      {
        "duration": 134,
        "start_time": "2022-11-19T18:06:25.740Z"
      },
      {
        "duration": 1306,
        "start_time": "2022-11-19T18:06:25.875Z"
      },
      {
        "duration": 34,
        "start_time": "2022-11-19T18:06:27.183Z"
      },
      {
        "duration": 143,
        "start_time": "2022-11-19T18:06:27.219Z"
      },
      {
        "duration": 152,
        "start_time": "2022-11-19T18:06:27.363Z"
      },
      {
        "duration": 230,
        "start_time": "2022-11-19T18:06:27.517Z"
      },
      {
        "duration": 3,
        "start_time": "2022-11-19T18:06:27.749Z"
      },
      {
        "duration": 464,
        "start_time": "2022-11-19T18:06:27.754Z"
      },
      {
        "duration": 475,
        "start_time": "2022-11-19T18:06:28.220Z"
      },
      {
        "duration": 456,
        "start_time": "2022-11-19T18:06:28.696Z"
      },
      {
        "duration": 3,
        "start_time": "2022-11-19T18:06:29.154Z"
      },
      {
        "duration": 14,
        "start_time": "2022-11-19T18:06:29.158Z"
      },
      {
        "duration": 27,
        "start_time": "2022-11-19T18:06:29.174Z"
      },
      {
        "duration": 31,
        "start_time": "2022-11-19T18:06:29.202Z"
      },
      {
        "duration": 13,
        "start_time": "2022-11-19T18:06:29.234Z"
      },
      {
        "duration": 25,
        "start_time": "2022-11-19T18:06:29.248Z"
      },
      {
        "duration": 15,
        "start_time": "2022-11-19T18:06:29.275Z"
      },
      {
        "duration": 17,
        "start_time": "2022-11-19T18:06:29.291Z"
      },
      {
        "duration": 14,
        "start_time": "2022-11-19T18:06:29.310Z"
      },
      {
        "duration": 19,
        "start_time": "2022-11-19T18:06:29.326Z"
      },
      {
        "duration": 17,
        "start_time": "2022-11-19T18:06:29.347Z"
      },
      {
        "duration": 19,
        "start_time": "2022-11-19T18:06:29.365Z"
      },
      {
        "duration": 35,
        "start_time": "2022-11-19T18:06:29.385Z"
      },
      {
        "duration": 18,
        "start_time": "2022-11-19T18:06:29.421Z"
      },
      {
        "duration": 19,
        "start_time": "2022-11-19T18:06:29.441Z"
      },
      {
        "duration": 26,
        "start_time": "2022-11-19T18:06:29.462Z"
      },
      {
        "duration": 11,
        "start_time": "2022-11-19T18:06:52.926Z"
      },
      {
        "duration": 12,
        "start_time": "2022-11-19T18:07:00.474Z"
      },
      {
        "duration": 10,
        "start_time": "2022-11-19T18:07:26.035Z"
      },
      {
        "duration": 10,
        "start_time": "2022-11-19T18:07:28.865Z"
      },
      {
        "duration": 11,
        "start_time": "2022-11-19T18:07:42.932Z"
      },
      {
        "duration": 11,
        "start_time": "2022-11-19T18:07:46.845Z"
      },
      {
        "duration": 6,
        "start_time": "2022-11-19T18:08:27.399Z"
      },
      {
        "duration": 111,
        "start_time": "2022-11-19T18:08:44.090Z"
      },
      {
        "duration": 6,
        "start_time": "2022-11-19T18:08:50.606Z"
      },
      {
        "duration": 13,
        "start_time": "2022-11-19T18:09:00.190Z"
      },
      {
        "duration": 10,
        "start_time": "2022-11-19T18:10:18.485Z"
      },
      {
        "duration": 9,
        "start_time": "2022-11-19T18:10:31.150Z"
      },
      {
        "duration": 10,
        "start_time": "2022-11-19T18:10:47.728Z"
      },
      {
        "duration": 10,
        "start_time": "2022-11-19T18:10:59.546Z"
      },
      {
        "duration": 9,
        "start_time": "2022-11-19T18:11:07.177Z"
      },
      {
        "duration": 5,
        "start_time": "2022-11-19T18:11:49.913Z"
      },
      {
        "duration": 6,
        "start_time": "2022-11-19T18:12:01.638Z"
      },
      {
        "duration": 1097,
        "start_time": "2022-11-19T18:12:15.438Z"
      },
      {
        "duration": 54,
        "start_time": "2022-11-19T18:12:16.536Z"
      },
      {
        "duration": 13,
        "start_time": "2022-11-19T18:12:16.592Z"
      },
      {
        "duration": 16,
        "start_time": "2022-11-19T18:12:16.607Z"
      },
      {
        "duration": 673,
        "start_time": "2022-11-19T18:12:16.624Z"
      },
      {
        "duration": 3,
        "start_time": "2022-11-19T18:12:17.299Z"
      },
      {
        "duration": 11,
        "start_time": "2022-11-19T18:12:17.303Z"
      },
      {
        "duration": 11,
        "start_time": "2022-11-19T18:12:17.315Z"
      },
      {
        "duration": 5,
        "start_time": "2022-11-19T18:12:17.328Z"
      },
      {
        "duration": 5,
        "start_time": "2022-11-19T18:12:17.336Z"
      },
      {
        "duration": 9,
        "start_time": "2022-11-19T18:12:17.343Z"
      },
      {
        "duration": 10,
        "start_time": "2022-11-19T18:12:17.353Z"
      },
      {
        "duration": 4,
        "start_time": "2022-11-19T18:12:17.365Z"
      },
      {
        "duration": 11,
        "start_time": "2022-11-19T18:12:17.371Z"
      },
      {
        "duration": 34,
        "start_time": "2022-11-19T18:12:17.384Z"
      },
      {
        "duration": 153,
        "start_time": "2022-11-19T18:12:17.419Z"
      },
      {
        "duration": 11,
        "start_time": "2022-11-19T18:12:17.574Z"
      },
      {
        "duration": 651,
        "start_time": "2022-11-19T18:12:17.586Z"
      },
      {
        "duration": 24,
        "start_time": "2022-11-19T18:12:18.239Z"
      },
      {
        "duration": 232,
        "start_time": "2022-11-19T18:12:18.264Z"
      },
      {
        "duration": 31,
        "start_time": "2022-11-19T18:12:18.497Z"
      },
      {
        "duration": 11,
        "start_time": "2022-11-19T18:12:18.530Z"
      },
      {
        "duration": 8,
        "start_time": "2022-11-19T18:12:18.542Z"
      },
      {
        "duration": 230,
        "start_time": "2022-11-19T18:12:18.552Z"
      },
      {
        "duration": 154,
        "start_time": "2022-11-19T18:12:18.784Z"
      },
      {
        "duration": 164,
        "start_time": "2022-11-19T18:12:18.940Z"
      },
      {
        "duration": 171,
        "start_time": "2022-11-19T18:12:19.113Z"
      },
      {
        "duration": 13,
        "start_time": "2022-11-19T18:12:19.288Z"
      },
      {
        "duration": 15,
        "start_time": "2022-11-19T18:12:19.313Z"
      },
      {
        "duration": 144,
        "start_time": "2022-11-19T18:12:19.329Z"
      },
      {
        "duration": 133,
        "start_time": "2022-11-19T18:12:19.474Z"
      },
      {
        "duration": 1411,
        "start_time": "2022-11-19T18:12:19.612Z"
      },
      {
        "duration": 25,
        "start_time": "2022-11-19T18:12:21.024Z"
      },
      {
        "duration": 152,
        "start_time": "2022-11-19T18:12:21.051Z"
      },
      {
        "duration": 146,
        "start_time": "2022-11-19T18:12:21.213Z"
      },
      {
        "duration": 225,
        "start_time": "2022-11-19T18:12:21.360Z"
      },
      {
        "duration": 5,
        "start_time": "2022-11-19T18:12:21.587Z"
      },
      {
        "duration": 503,
        "start_time": "2022-11-19T18:12:21.594Z"
      },
      {
        "duration": 494,
        "start_time": "2022-11-19T18:12:22.099Z"
      },
      {
        "duration": 471,
        "start_time": "2022-11-19T18:12:22.595Z"
      },
      {
        "duration": 2,
        "start_time": "2022-11-19T18:12:23.068Z"
      },
      {
        "duration": 8,
        "start_time": "2022-11-19T18:12:23.071Z"
      },
      {
        "duration": 6,
        "start_time": "2022-11-19T18:12:23.080Z"
      },
      {
        "duration": 5,
        "start_time": "2022-11-19T18:12:23.087Z"
      },
      {
        "duration": 6,
        "start_time": "2022-11-19T18:12:23.093Z"
      },
      {
        "duration": 7,
        "start_time": "2022-11-19T18:12:23.100Z"
      },
      {
        "duration": 5,
        "start_time": "2022-11-19T18:12:23.113Z"
      },
      {
        "duration": 5,
        "start_time": "2022-11-19T18:12:23.120Z"
      },
      {
        "duration": 4,
        "start_time": "2022-11-19T18:12:23.127Z"
      },
      {
        "duration": 4,
        "start_time": "2022-11-19T18:12:23.133Z"
      },
      {
        "duration": 7,
        "start_time": "2022-11-19T18:12:23.139Z"
      },
      {
        "duration": 6,
        "start_time": "2022-11-19T18:12:23.148Z"
      },
      {
        "duration": 12,
        "start_time": "2022-11-19T18:12:23.156Z"
      },
      {
        "duration": 5,
        "start_time": "2022-11-19T18:12:23.170Z"
      },
      {
        "duration": 6,
        "start_time": "2022-11-19T18:12:23.176Z"
      },
      {
        "duration": 36,
        "start_time": "2022-11-19T18:12:23.184Z"
      },
      {
        "duration": 11,
        "start_time": "2022-11-19T18:12:23.222Z"
      },
      {
        "duration": 12,
        "start_time": "2022-11-19T18:12:23.235Z"
      },
      {
        "duration": 10,
        "start_time": "2022-11-19T18:14:07.325Z"
      },
      {
        "duration": 1373,
        "start_time": "2022-11-20T04:48:25.776Z"
      },
      {
        "duration": 96,
        "start_time": "2022-11-20T04:48:27.151Z"
      },
      {
        "duration": 15,
        "start_time": "2022-11-20T04:48:27.249Z"
      },
      {
        "duration": 21,
        "start_time": "2022-11-20T04:48:27.266Z"
      },
      {
        "duration": 743,
        "start_time": "2022-11-20T04:48:27.289Z"
      },
      {
        "duration": 4,
        "start_time": "2022-11-20T04:48:28.033Z"
      },
      {
        "duration": 7,
        "start_time": "2022-11-20T04:48:28.039Z"
      },
      {
        "duration": 10,
        "start_time": "2022-11-20T04:48:28.047Z"
      },
      {
        "duration": 5,
        "start_time": "2022-11-20T04:48:28.058Z"
      },
      {
        "duration": 7,
        "start_time": "2022-11-20T04:48:28.066Z"
      },
      {
        "duration": 12,
        "start_time": "2022-11-20T04:48:28.075Z"
      },
      {
        "duration": 10,
        "start_time": "2022-11-20T04:48:28.111Z"
      },
      {
        "duration": 8,
        "start_time": "2022-11-20T04:48:28.123Z"
      },
      {
        "duration": 22,
        "start_time": "2022-11-20T04:48:28.132Z"
      },
      {
        "duration": 30,
        "start_time": "2022-11-20T04:48:28.156Z"
      },
      {
        "duration": 199,
        "start_time": "2022-11-20T04:48:28.188Z"
      },
      {
        "duration": 24,
        "start_time": "2022-11-20T04:48:28.389Z"
      },
      {
        "duration": 691,
        "start_time": "2022-11-20T04:48:28.415Z"
      },
      {
        "duration": 27,
        "start_time": "2022-11-20T04:48:29.109Z"
      },
      {
        "duration": 276,
        "start_time": "2022-11-20T04:48:29.138Z"
      },
      {
        "duration": 24,
        "start_time": "2022-11-20T04:48:29.415Z"
      },
      {
        "duration": 11,
        "start_time": "2022-11-20T04:48:29.441Z"
      },
      {
        "duration": 12,
        "start_time": "2022-11-20T04:48:29.453Z"
      },
      {
        "duration": 245,
        "start_time": "2022-11-20T04:48:29.467Z"
      },
      {
        "duration": 166,
        "start_time": "2022-11-20T04:48:29.714Z"
      },
      {
        "duration": 161,
        "start_time": "2022-11-20T04:48:29.882Z"
      },
      {
        "duration": 196,
        "start_time": "2022-11-20T04:48:30.045Z"
      },
      {
        "duration": 13,
        "start_time": "2022-11-20T04:48:30.246Z"
      },
      {
        "duration": 30,
        "start_time": "2022-11-20T04:48:30.260Z"
      },
      {
        "duration": 169,
        "start_time": "2022-11-20T04:48:30.292Z"
      },
      {
        "duration": 160,
        "start_time": "2022-11-20T04:48:30.463Z"
      },
      {
        "duration": 1480,
        "start_time": "2022-11-20T04:48:30.625Z"
      },
      {
        "duration": 29,
        "start_time": "2022-11-20T04:48:32.111Z"
      },
      {
        "duration": 187,
        "start_time": "2022-11-20T04:48:32.142Z"
      },
      {
        "duration": 172,
        "start_time": "2022-11-20T04:48:32.331Z"
      },
      {
        "duration": 258,
        "start_time": "2022-11-20T04:48:32.504Z"
      },
      {
        "duration": 4,
        "start_time": "2022-11-20T04:48:32.764Z"
      },
      {
        "duration": 543,
        "start_time": "2022-11-20T04:48:32.770Z"
      },
      {
        "duration": 578,
        "start_time": "2022-11-20T04:48:33.315Z"
      },
      {
        "duration": 562,
        "start_time": "2022-11-20T04:48:33.896Z"
      },
      {
        "duration": 2,
        "start_time": "2022-11-20T04:48:34.461Z"
      },
      {
        "duration": 6,
        "start_time": "2022-11-20T04:48:34.465Z"
      },
      {
        "duration": 7,
        "start_time": "2022-11-20T04:48:34.473Z"
      },
      {
        "duration": 8,
        "start_time": "2022-11-20T04:48:34.481Z"
      },
      {
        "duration": 4,
        "start_time": "2022-11-20T04:48:34.491Z"
      },
      {
        "duration": 4,
        "start_time": "2022-11-20T04:48:34.497Z"
      },
      {
        "duration": 15,
        "start_time": "2022-11-20T04:48:34.503Z"
      },
      {
        "duration": 13,
        "start_time": "2022-11-20T04:48:34.520Z"
      },
      {
        "duration": 5,
        "start_time": "2022-11-20T04:48:34.534Z"
      },
      {
        "duration": 5,
        "start_time": "2022-11-20T04:48:34.541Z"
      },
      {
        "duration": 5,
        "start_time": "2022-11-20T04:48:34.547Z"
      },
      {
        "duration": 8,
        "start_time": "2022-11-20T04:48:34.553Z"
      },
      {
        "duration": 13,
        "start_time": "2022-11-20T04:48:34.563Z"
      },
      {
        "duration": 10,
        "start_time": "2022-11-20T04:48:34.578Z"
      },
      {
        "duration": 12,
        "start_time": "2022-11-20T04:48:34.590Z"
      },
      {
        "duration": 12,
        "start_time": "2022-11-20T04:48:34.604Z"
      },
      {
        "duration": 20,
        "start_time": "2022-11-20T04:48:34.618Z"
      },
      {
        "duration": 16,
        "start_time": "2022-11-20T04:48:34.640Z"
      },
      {
        "duration": 10,
        "start_time": "2022-11-20T04:50:00.296Z"
      },
      {
        "duration": 5,
        "start_time": "2022-11-20T04:50:01.641Z"
      },
      {
        "duration": 12,
        "start_time": "2022-11-20T04:50:24.797Z"
      },
      {
        "duration": 10,
        "start_time": "2022-11-20T04:50:25.819Z"
      },
      {
        "duration": 13,
        "start_time": "2022-11-20T04:50:38.307Z"
      },
      {
        "duration": 6,
        "start_time": "2022-11-20T04:50:39.173Z"
      },
      {
        "duration": 7,
        "start_time": "2022-11-20T04:50:40.584Z"
      },
      {
        "duration": 14,
        "start_time": "2022-11-20T04:51:07.991Z"
      },
      {
        "duration": 14,
        "start_time": "2022-11-20T04:51:15.852Z"
      },
      {
        "duration": 11,
        "start_time": "2022-11-20T04:59:36.087Z"
      },
      {
        "duration": 12,
        "start_time": "2022-11-20T04:59:45.329Z"
      },
      {
        "duration": 1172,
        "start_time": "2022-11-20T05:03:40.549Z"
      },
      {
        "duration": 56,
        "start_time": "2022-11-20T05:03:41.723Z"
      },
      {
        "duration": 69,
        "start_time": "2022-11-20T05:03:41.781Z"
      },
      {
        "duration": 25,
        "start_time": "2022-11-20T05:03:41.853Z"
      },
      {
        "duration": 812,
        "start_time": "2022-11-20T05:03:41.880Z"
      },
      {
        "duration": 4,
        "start_time": "2022-11-20T05:03:42.694Z"
      },
      {
        "duration": 15,
        "start_time": "2022-11-20T05:03:42.699Z"
      },
      {
        "duration": 24,
        "start_time": "2022-11-20T05:03:42.715Z"
      },
      {
        "duration": 10,
        "start_time": "2022-11-20T05:03:42.741Z"
      },
      {
        "duration": 5,
        "start_time": "2022-11-20T05:03:42.753Z"
      },
      {
        "duration": 11,
        "start_time": "2022-11-20T05:03:42.759Z"
      },
      {
        "duration": 11,
        "start_time": "2022-11-20T05:03:42.772Z"
      },
      {
        "duration": 6,
        "start_time": "2022-11-20T05:03:42.786Z"
      },
      {
        "duration": 31,
        "start_time": "2022-11-20T05:03:42.793Z"
      },
      {
        "duration": 34,
        "start_time": "2022-11-20T05:03:42.826Z"
      },
      {
        "duration": 177,
        "start_time": "2022-11-20T05:03:42.862Z"
      },
      {
        "duration": 12,
        "start_time": "2022-11-20T05:03:43.041Z"
      },
      {
        "duration": 780,
        "start_time": "2022-11-20T05:03:43.055Z"
      },
      {
        "duration": 25,
        "start_time": "2022-11-20T05:03:43.837Z"
      },
      {
        "duration": 248,
        "start_time": "2022-11-20T05:03:43.864Z"
      },
      {
        "duration": 26,
        "start_time": "2022-11-20T05:03:44.113Z"
      },
      {
        "duration": 11,
        "start_time": "2022-11-20T05:03:44.140Z"
      },
      {
        "duration": 29,
        "start_time": "2022-11-20T05:03:44.153Z"
      },
      {
        "duration": 237,
        "start_time": "2022-11-20T05:03:44.184Z"
      },
      {
        "duration": 162,
        "start_time": "2022-11-20T05:03:44.423Z"
      },
      {
        "duration": 159,
        "start_time": "2022-11-20T05:03:44.587Z"
      },
      {
        "duration": 188,
        "start_time": "2022-11-20T05:03:44.747Z"
      },
      {
        "duration": 11,
        "start_time": "2022-11-20T05:03:44.938Z"
      },
      {
        "duration": 15,
        "start_time": "2022-11-20T05:03:44.951Z"
      },
      {
        "duration": 169,
        "start_time": "2022-11-20T05:03:44.967Z"
      },
      {
        "duration": 155,
        "start_time": "2022-11-20T05:03:45.138Z"
      },
      {
        "duration": 1502,
        "start_time": "2022-11-20T05:03:45.294Z"
      },
      {
        "duration": 42,
        "start_time": "2022-11-20T05:03:46.797Z"
      },
      {
        "duration": 163,
        "start_time": "2022-11-20T05:03:46.841Z"
      },
      {
        "duration": 169,
        "start_time": "2022-11-20T05:03:47.005Z"
      },
      {
        "duration": 251,
        "start_time": "2022-11-20T05:03:47.176Z"
      },
      {
        "duration": 3,
        "start_time": "2022-11-20T05:03:47.430Z"
      },
      {
        "duration": 519,
        "start_time": "2022-11-20T05:03:47.435Z"
      },
      {
        "duration": 535,
        "start_time": "2022-11-20T05:03:47.955Z"
      },
      {
        "duration": 547,
        "start_time": "2022-11-20T05:03:48.492Z"
      },
      {
        "duration": 3,
        "start_time": "2022-11-20T05:03:49.041Z"
      },
      {
        "duration": 21,
        "start_time": "2022-11-20T05:03:49.046Z"
      },
      {
        "duration": 24,
        "start_time": "2022-11-20T05:03:49.068Z"
      },
      {
        "duration": 9,
        "start_time": "2022-11-20T05:03:49.094Z"
      },
      {
        "duration": 7,
        "start_time": "2022-11-20T05:03:49.104Z"
      },
      {
        "duration": 21,
        "start_time": "2022-11-20T05:03:49.113Z"
      },
      {
        "duration": 7,
        "start_time": "2022-11-20T05:03:49.136Z"
      },
      {
        "duration": 6,
        "start_time": "2022-11-20T05:03:49.144Z"
      },
      {
        "duration": 8,
        "start_time": "2022-11-20T05:03:49.151Z"
      },
      {
        "duration": 6,
        "start_time": "2022-11-20T05:03:49.160Z"
      },
      {
        "duration": 6,
        "start_time": "2022-11-20T05:03:49.167Z"
      },
      {
        "duration": 8,
        "start_time": "2022-11-20T05:03:49.175Z"
      },
      {
        "duration": 14,
        "start_time": "2022-11-20T05:03:49.185Z"
      },
      {
        "duration": 11,
        "start_time": "2022-11-20T05:03:49.201Z"
      },
      {
        "duration": 27,
        "start_time": "2022-11-20T05:03:49.214Z"
      },
      {
        "duration": 15,
        "start_time": "2022-11-20T05:03:49.242Z"
      }
    ],
    "kernelspec": {
      "display_name": "Python 3 (ipykernel)",
      "language": "python",
      "name": "python3"
    },
    "language_info": {
      "codemirror_mode": {
        "name": "ipython",
        "version": 3
      },
      "file_extension": ".py",
      "mimetype": "text/x-python",
      "name": "python",
      "nbconvert_exporter": "python",
      "pygments_lexer": "ipython3",
      "version": "3.9.5"
    },
    "toc": {
      "base_numbering": 1,
      "nav_menu": {},
      "number_sections": true,
      "sideBar": true,
      "skip_h1_title": true,
      "title_cell": "Table of Contents",
      "title_sidebar": "Contents",
      "toc_cell": false,
      "toc_position": {
        "height": "calc(100% - 180px)",
        "left": "10px",
        "top": "150px",
        "width": "279.837px"
      },
      "toc_section_display": true,
      "toc_window_display": true
    },
    "colab": {
      "provenance": []
    }
  },
  "nbformat": 4,
  "nbformat_minor": 0
}